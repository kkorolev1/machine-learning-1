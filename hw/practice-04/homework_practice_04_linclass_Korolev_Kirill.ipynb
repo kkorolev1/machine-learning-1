{
  "cells": [
    {
      "cell_type": "markdown",
      "metadata": {
        "id": "LTlmjXExP75I"
      },
      "source": [
        "# Машинное обучение, ФКН ВШЭ\n",
        "\n",
        "## Практическое задание 4. Классификация"
      ]
    },
    {
      "cell_type": "markdown",
      "metadata": {
        "id": "kH11bAAV2SoV"
      },
      "source": [
        "### Общая информация\n",
        "Дата выдачи: 04.11.2022\n",
        "\n",
        "Мягкий дедлайн: 23:59MSK 16.11.2022\n",
        "\n",
        "Жесткий дедлайн: 23:59MSK 23.11.2022"
      ]
    },
    {
      "cell_type": "markdown",
      "metadata": {
        "id": "iWjJuhqS3Ucc"
      },
      "source": [
        "### О задании\n",
        "\n",
        "В этом задании вы:\n",
        "- ознакомитесь с тем, что происходит \"внутри\" метода опорных векторов и логистической регрессии\n",
        "- познакомитесь с калибровкой вероятности\n",
        "- изучите методы трансформации переменных и методы отбора признаков\n",
        "- попробуете оценить экономический эффект модели\n",
        "\n",
        "----\n",
        "\n",
        "#### Самостоятельная оценка результатов\n",
        "\n",
        "Для удобства проверки, исходя из набора решенных задач, посчитайте свою максимальную оценку.\n",
        "\n",
        "**Оценка**:"
      ]
    },
    {
      "cell_type": "markdown",
      "metadata": {
        "id": "Or0r6z5v1Mmt"
      },
      "source": [
        "### Оценивание и штрафы"
      ]
    },
    {
      "cell_type": "markdown",
      "metadata": {
        "id": "CecLXG_w3zs0"
      },
      "source": [
        "Каждая из задач имеет определенную «стоимость» (указана в скобках около задачи). Максимально допустимая оценка за работу — 10 баллов.\n",
        "\n",
        "Сдавать задание после указанного жёсткого дедлайна нельзя. При выставлении неполного балла за задание в связи с наличием ошибок на усмотрение проверяющего предусмотрена возможность исправить работу на указанных в ответном письме условиях.\n",
        "\n",
        "Задание выполняется самостоятельно. «Похожие» решения считаются плагиатом и все задействованные студенты (в том числе те, у кого списали) не могут получить за него больше 0 баллов (подробнее о плагиате см. на странице курса). Если вы нашли решение какого-то из заданий (или его часть) в открытом источнике, необходимо указать ссылку на этот источник в отдельном блоке в конце вашей работы (скорее всего вы будете не единственным, кто это нашел, поэтому чтобы исключить подозрение в плагиате, необходима ссылка на источник).\n",
        "\n",
        "Неэффективная реализация кода может негативно отразиться на оценке."
      ]
    },
    {
      "cell_type": "markdown",
      "metadata": {
        "id": "eMwMhTpA1MwR"
      },
      "source": [
        "### Формат сдачи"
      ]
    },
    {
      "cell_type": "markdown",
      "metadata": {
        "id": "O5qs8FC_35h7"
      },
      "source": [
        "Для сдачи задания переименуйте получившийся файл *.ipynb в соответствии со следующим форматом: homework-practice-04-linclass-__Username__.ipynb, где Username — ваша фамилия и имя на латинице именно в таком порядке (например, homework-practice-04-linclass-__IvanovIvan__.ipynb)."
      ]
    },
    {
      "cell_type": "markdown",
      "metadata": {
        "id": "KGWDDNDyP75O"
      },
      "source": [
        "# Часть 1. SVM, LR и калибровка вероятностей"
      ]
    },
    {
      "cell_type": "code",
      "execution_count": 1,
      "metadata": {
        "id": "jDyI9TST-3Ou"
      },
      "outputs": [],
      "source": [
        "# !pip install --upgrade scikit-learn"
      ]
    },
    {
      "cell_type": "code",
      "execution_count": 2,
      "metadata": {
        "id": "KyqoX1BNP75N"
      },
      "outputs": [],
      "source": [
        "import numpy as np\n",
        "import pandas as pd\n",
        "import matplotlib.pyplot as plt\n",
        "%matplotlib inline\n",
        "\n",
        "pd.set_option('display.max_rows', 100)\n",
        "pd.set_option('display.max_columns', 100)"
      ]
    },
    {
      "cell_type": "markdown",
      "metadata": {
        "id": "xvhLtt4OP75Q"
      },
      "source": [
        "#### __Задание 1.1  Сравнение методов__ (0.5 балла)\n",
        "\n"
      ]
    },
    {
      "cell_type": "markdown",
      "metadata": {
        "id": "LZw2aOq9P75O"
      },
      "source": [
        "Сгенерируем синтетические данные."
      ]
    },
    {
      "cell_type": "code",
      "execution_count": 3,
      "metadata": {
        "id": "mqkczFrQP75P"
      },
      "outputs": [],
      "source": [
        "from sklearn.datasets import make_classification\n",
        "from sklearn.model_selection import train_test_split\n",
        "\n",
        "# фиксируем random_state для воспроизводимости результатов\n",
        "X, y = make_classification(\n",
        "    n_samples=10000, n_features=10, n_informative=5, n_redundant=5, random_state=42)\n",
        "\n",
        "X_train, X_test, y_train, y_test = train_test_split(X, y, test_size=0.3, random_state=42)"
      ]
    },
    {
      "cell_type": "markdown",
      "metadata": {
        "id": "BdPx-lQbtaRe"
      },
      "source": [
        "__Случайный классификатор__\n",
        "\n",
        "Для начала зададим самую простую модель, которая на каждом объекте выдаёт один из двух классов с равными вероятностями. По тестовой выборке вычислим AUC-ROC, AUC-PR."
      ]
    },
    {
      "cell_type": "code",
      "execution_count": 4,
      "metadata": {
        "colab": {
          "base_uri": "https://localhost:8080/"
        },
        "id": "0rqepy-AtZXc",
        "outputId": "f09b9ab6-bb89-405f-9be0-c34a240139b9"
      },
      "outputs": [
        {
          "output_type": "execute_result",
          "data": {
            "text/plain": [
              "array([0, 1, 1, ..., 0, 0, 1])"
            ]
          },
          "metadata": {},
          "execution_count": 4
        }
      ],
      "source": [
        "np.random.seed(42)\n",
        "\n",
        "# наш случайный классификатор\n",
        "y_random = np.random.choice([0, 1], size=len(y_test), p=[0.5, 0.5])\n",
        "y_random"
      ]
    },
    {
      "cell_type": "markdown",
      "metadata": {
        "id": "LnmZFwEYDVqx"
      },
      "source": [
        "*Ниже приведен **пример** работы* со встроенными функциями `sklearn` для отрисовки ROC и PR кривых, сохранения метрик. Пайплайн можно изменять как вам удобно, за особенно эффективные или красивые варианты может быть начислен небольшой бонус :)"
      ]
    },
    {
      "cell_type": "code",
      "execution_count": 5,
      "metadata": {
        "id": "gNJLhNj7DkLx"
      },
      "outputs": [],
      "source": [
        "from sklearn.metrics import auc\n",
        "from sklearn.metrics import average_precision_score\n",
        "from sklearn.metrics import precision_recall_curve\n",
        "from sklearn.metrics import PrecisionRecallDisplay\n",
        "\n",
        "from sklearn.metrics import roc_auc_score\n",
        "from sklearn.metrics import RocCurveDisplay"
      ]
    },
    {
      "cell_type": "code",
      "execution_count": 6,
      "metadata": {
        "colab": {
          "base_uri": "https://localhost:8080/",
          "height": 405
        },
        "id": "-WHELzN6_fsQ",
        "outputId": "0ac0097b-c6bc-45a1-9135-7c102c1291c1"
      },
      "outputs": [
        {
          "output_type": "stream",
          "name": "stdout",
          "text": [
            "AUC-PR: 0.63340\n",
            "AUC-ROC: 0.50394\n"
          ]
        },
        {
          "output_type": "display_data",
          "data": {
            "text/plain": [
              "<Figure size 792x360 with 2 Axes>"
            ],
            "image/png": "[encoded data removed]"
          },
          "metadata": {
            "needs_background": "light"
          }
        }
      ],
      "source": [
        "fig, ax = plt.subplots(1, 2, figsize=(11, 5))\n",
        "\n",
        "PrecisionRecallDisplay.from_predictions(y_test, y_random, ax=ax[0])\n",
        "precision, recall, _ = precision_recall_curve(y_test, y_random)\n",
        "print('AUC-PR: %.5f' % auc(recall, precision))\n",
        "ax[0].set_title(\"PRC for Random Classifier\")\n",
        "ax[0].set_ylim(0, 1.1)\n",
        "\n",
        "RocCurveDisplay.from_predictions(y_test, y_random, ax=ax[1])\n",
        "print('AUC-ROC: %.5f' % roc_auc_score(y_test, y_random))\n",
        "ax[1].set_title(\"ROC for Random Classifier\")\n",
        "ax[1].set_ylim(0, 1.1)\n",
        "\n",
        "plt.tight_layout()"
      ]
    },
    {
      "cell_type": "code",
      "execution_count": 7,
      "metadata": {
        "colab": {
          "base_uri": "https://localhost:8080/",
          "height": 81
        },
        "id": "pSugCdAAEF2z",
        "outputId": "ee978364-3a76-4706-f0a0-83998539bae8"
      },
      "outputs": [
        {
          "output_type": "execute_result",
          "data": {
            "text/plain": [
              "                     AUC_PR   AUC_ROC  reg_const\n",
              "Random Classifier  0.633402  0.503944        NaN"
            ],
            "text/html": [
              "\n",
              "  <div id=\"df-11507248-3544-48ac-b319-bddc6b231fcf\">\n",
              "    <div class=\"colab-df-container\">\n",
              "      <div>\n",
              "<style scoped>\n",
              "    .dataframe tbody tr th:only-of-type {\n",
              "        vertical-align: middle;\n",
              "    }\n",
              "\n",
              "    .dataframe tbody tr th {\n",
              "        vertical-align: top;\n",
              "    }\n",
              "\n",
              "    .dataframe thead th {\n",
              "        text-align: right;\n",
              "    }\n",
              "</style>\n",
              "<table border=\"1\" class=\"dataframe\">\n",
              "  <thead>\n",
              "    <tr style=\"text-align: right;\">\n",
              "      <th></th>\n",
              "      <th>AUC_PR</th>\n",
              "      <th>AUC_ROC</th>\n",
              "      <th>reg_const</th>\n",
              "    </tr>\n",
              "  </thead>\n",
              "  <tbody>\n",
              "    <tr>\n",
              "      <th>Random Classifier</th>\n",
              "      <td>0.633402</td>\n",
              "      <td>0.503944</td>\n",
              "      <td>NaN</td>\n",
              "    </tr>\n",
              "  </tbody>\n",
              "</table>\n",
              "</div>\n",
              "      <button class=\"colab-df-convert\" onclick=\"convertToInteractive('df-11507248-3544-48ac-b319-bddc6b231fcf')\"\n",
              "              title=\"Convert this dataframe to an interactive table.\"\n",
              "              style=\"display:none;\">\n",
              "        \n",
              "  <svg xmlns=\"http://www.w3.org/2000/svg\" height=\"24px\"viewBox=\"0 0 24 24\"\n",
              "       width=\"24px\">\n",
              "    <path d=\"M0 0h24v24H0V0z\" fill=\"none\"/>\n",
              "    <path d=\"M18.56 5.44l.94 2.06.94-2.06 2.06-.94-2.06-.94-.94-2.06-.94 2.06-2.06.94zm-11 1L8.5 8.5l.94-2.06 2.06-.94-2.06-.94L8.5 2.5l-.94 2.06-2.06.94zm10 10l.94 2.06.94-2.06 2.06-.94-2.06-.94-.94-2.06-.94 2.06-2.06.94z\"/><path d=\"M17.41 7.96l-1.37-1.37c-.4-.4-.92-.59-1.43-.59-.52 0-1.04.2-1.43.59L10.3 9.45l-7.72 7.72c-.78.78-.78 2.05 0 2.83L4 21.41c.39.39.9.59 1.41.59.51 0 1.02-.2 1.41-.59l7.78-7.78 2.81-2.81c.8-.78.8-2.07 0-2.86zM5.41 20L4 18.59l7.72-7.72 1.47 1.35L5.41 20z\"/>\n",
              "  </svg>\n",
              "      </button>\n",
              "      \n",
              "  <style>\n",
              "    .colab-df-container {\n",
              "      display:flex;\n",
              "      flex-wrap:wrap;\n",
              "      gap: 12px;\n",
              "    }\n",
              "\n",
              "    .colab-df-convert {\n",
              "      background-color: #E8F0FE;\n",
              "      border: none;\n",
              "      border-radius: 50%;\n",
              "      cursor: pointer;\n",
              "      display: none;\n",
              "      fill: #1967D2;\n",
              "      height: 32px;\n",
              "      padding: 0 0 0 0;\n",
              "      width: 32px;\n",
              "    }\n",
              "\n",
              "    .colab-df-convert:hover {\n",
              "      background-color: #E2EBFA;\n",
              "      box-shadow: 0px 1px 2px rgba(60, 64, 67, 0.3), 0px 1px 3px 1px rgba(60, 64, 67, 0.15);\n",
              "      fill: #174EA6;\n",
              "    }\n",
              "\n",
              "    [theme=dark] .colab-df-convert {\n",
              "      background-color: #3B4455;\n",
              "      fill: #D2E3FC;\n",
              "    }\n",
              "\n",
              "    [theme=dark] .colab-df-convert:hover {\n",
              "      background-color: #434B5C;\n",
              "      box-shadow: 0px 1px 3px 1px rgba(0, 0, 0, 0.15);\n",
              "      filter: drop-shadow(0px 1px 2px rgba(0, 0, 0, 0.3));\n",
              "      fill: #FFFFFF;\n",
              "    }\n",
              "  </style>\n",
              "\n",
              "      <script>\n",
              "        const buttonEl =\n",
              "          document.querySelector('#df-11507248-3544-48ac-b319-bddc6b231fcf button.colab-df-convert');\n",
              "        buttonEl.style.display =\n",
              "          google.colab.kernel.accessAllowed ? 'block' : 'none';\n",
              "\n",
              "        async function convertToInteractive(key) {\n",
              "          const element = document.querySelector('#df-11507248-3544-48ac-b319-bddc6b231fcf');\n",
              "          const dataTable =\n",
              "            await google.colab.kernel.invokeFunction('convertToInteractive',\n",
              "                                                     [key], {});\n",
              "          if (!dataTable) return;\n",
              "\n",
              "          const docLinkHtml = 'Like what you see? Visit the ' +\n",
              "            '<a target=\"_blank\" href=https://colab.research.google.com/notebooks/data_table.ipynb>data table notebook</a>'\n",
              "            + ' to learn more about interactive tables.';\n",
              "          element.innerHTML = '';\n",
              "          dataTable['output_type'] = 'display_data';\n",
              "          await google.colab.output.renderOutput(dataTable, element);\n",
              "          const docLink = document.createElement('div');\n",
              "          docLink.innerHTML = docLinkHtml;\n",
              "          element.appendChild(docLink);\n",
              "        }\n",
              "      </script>\n",
              "    </div>\n",
              "  </div>\n",
              "  "
            ]
          },
          "metadata": {},
          "execution_count": 7
        }
      ],
      "source": [
        "# dataframe для сравнения \n",
        "# методов классификации по метрикам\n",
        "df_metrics = pd.DataFrame(columns=['AUC_PR', 'AUC_ROC', 'reg_const'])\n",
        "\n",
        "# добавление очередной строки с характеристиками метода\n",
        "df_metrics.loc['Random Classifier'] = [\n",
        "    auc(recall, precision),\n",
        "    roc_auc_score(y_test, y_random),\n",
        "    None\n",
        "]\n",
        "\n",
        "# по аналогии результаты следующих экспериментов можно будет собрать в табличку\n",
        "df_metrics"
      ]
    },
    {
      "cell_type": "markdown",
      "metadata": {
        "id": "9IwDobmQtW2P"
      },
      "source": [
        "__Support Vector Machine (Linear Kernel)__\n",
        "\n",
        "Обучите метод опорных векторов. На занятиях мы проходили линейный вариант без ядрового перехода, что соответствует линейному ядру (`LinearSVC` или же `SVC(kernel='linear')` в `sklearn.svm`). Подберите параметр регуляризации `C` (можете воспользоваться кросс-валидацией или отделить валидационную выборку от обучающей).\n",
        "\n",
        "__NB!__ Здесь и далее, если не сказано иначе, подбирайте __оптимальные гиперпараметры с точки зрения AUC-PR.__"
      ]
    },
    {
      "cell_type": "code",
      "execution_count": 8,
      "metadata": {
        "id": "eyjF-qc3P75Q"
      },
      "outputs": [],
      "source": [
        "#your code here\n",
        "from sklearn.svm import SVC\n",
        "from tqdm.notebook import tqdm"
      ]
    },
    {
      "cell_type": "code",
      "source": [
        "X_train, X_val, y_train, y_val = train_test_split(X_train, y_train, test_size=0.2, random_state=42)"
      ],
      "metadata": {
        "id": "Vdh15TX5k-Gr"
      },
      "execution_count": 9,
      "outputs": []
    },
    {
      "cell_type": "code",
      "source": [
        "C_vals = np.logspace(-5, 1, 7)\n",
        "aucs = []\n",
        "\n",
        "for C in tqdm(C_vals):\n",
        "    clf = SVC(kernel='linear', C=C).fit(X_train, y_train)\n",
        "    precision, recall, _ = precision_recall_curve(y_val, clf.predict(X_val))\n",
        "    aucs += [auc(recall, precision)]"
      ],
      "metadata": {
        "colab": {
          "base_uri": "https://localhost:8080/",
          "height": 49,
          "referenced_widgets": [
            "2421a5ae89d943b5b27645f55d803fa9",
            "9d87187b7af8405ba965b9c6335278fc",
            "0e781eceab0c4d6a84730b639d12df44",
            "fc582f816e834451a8e840ca6729c847",
            "3498722a236449a5a9a369258b26b9bc",
            "7da8ab1bbd794b2182e0f3125aa78292",
            "7d66ae0cf33241358c3619eb9e822923",
            "905e57c51c6548a88f0567da099971d7",
            "ae94c07d0baf411984a2a1a7b761d9d8",
            "a122bda5382744438c7968e628ff6446",
            "e97a76fcda594cc9bac08afc1aa9ad62"
          ]
        },
        "id": "agtodOM0k0TC",
        "outputId": "5ebf88b8-3855-48ca-d1fa-442ab742b4b1"
      },
      "execution_count": 10,
      "outputs": [
        {
          "output_type": "display_data",
          "data": {
            "text/plain": [
              "  0%|          | 0/7 [00:00<?, ?it/s]"
            ],
            "application/vnd.jupyter.widget-view+json": {
              "version_major": 2,
              "version_minor": 0,
              "model_id": "2421a5ae89d943b5b27645f55d803fa9"
            }
          },
          "metadata": {}
        }
      ]
    },
    {
      "cell_type": "code",
      "source": [
        "best_C = C_vals[np.argmax(aucs)]\n",
        "\n",
        "print(f\"best C {best_C}\")"
      ],
      "metadata": {
        "colab": {
          "base_uri": "https://localhost:8080/"
        },
        "id": "a6qu4xcJmyOk",
        "outputId": "d72ffda2-5273-43ec-fa29-50831d885bb7"
      },
      "execution_count": 11,
      "outputs": [
        {
          "output_type": "stream",
          "name": "stdout",
          "text": [
            "best C 0.1\n"
          ]
        }
      ]
    },
    {
      "cell_type": "markdown",
      "metadata": {
        "id": "fapa63xlP75R"
      },
      "source": [
        "  На тестовой части:\n",
        "  - постройте ROC и PR кривые,\n",
        "  - посчитайте AUC-ROC, AUC-PR с точностью до 5 знаков"
      ]
    },
    {
      "cell_type": "code",
      "source": [
        "def plot_curves(clf, X_test, y_test, best_C, method):\n",
        "    y_pred = clf.predict(X_test)\n",
        "\n",
        "    fig, ax = plt.subplots(1, 2, figsize=(11, 5))\n",
        "\n",
        "    PrecisionRecallDisplay.from_predictions(y_test, y_pred, ax=ax[0])\n",
        "    precision, recall, _ = precision_recall_curve(y_test, y_pred)\n",
        "    auc_pr = auc(recall, precision)\n",
        "\n",
        "    print('AUC-PR: %.5f' % auc_pr)\n",
        "    ax[0].set_title(f\"PRC for {method}\")\n",
        "    ax[0].set_ylim(0, 1.1)\n",
        "\n",
        "    RocCurveDisplay.from_predictions(y_test, y_pred, ax=ax[1])\n",
        "    roc_auc = roc_auc_score(y_test, y_pred)\n",
        "    print('AUC-ROC: %.5f' % roc_auc)\n",
        "    ax[1].set_title(f\"ROC for {method}\")\n",
        "    ax[1].set_ylim(0, 1.1)\n",
        "\n",
        "    plt.tight_layout()\n",
        "\n",
        "    df_metrics.loc[method] = [\n",
        "        auc_pr,\n",
        "        roc_auc,\n",
        "        best_C\n",
        "    ]"
      ],
      "metadata": {
        "id": "XoP72VhFjHML"
      },
      "execution_count": 12,
      "outputs": []
    },
    {
      "cell_type": "code",
      "execution_count": 13,
      "metadata": {
        "id": "xTvNT5uRP75S",
        "colab": {
          "base_uri": "https://localhost:8080/",
          "height": 405
        },
        "outputId": "3ddd7456-33b4-416e-b644-5955403fee1f"
      },
      "outputs": [
        {
          "output_type": "stream",
          "name": "stdout",
          "text": [
            "AUC-PR: 0.83459\n",
            "AUC-ROC: 0.77642\n"
          ]
        },
        {
          "output_type": "display_data",
          "data": {
            "text/plain": [
              "<Figure size 792x360 with 2 Axes>"
            ],
            "image/png": "[encoded data removed]"
          },
          "metadata": {
            "needs_background": "light"
          }
        }
      ],
      "source": [
        "#your code here\n",
        "clf = SVC(kernel='linear', C=best_C).fit(X_train, y_train)\n",
        "plot_curves(clf, X_test, y_test, best_C, \"SVM\")"
      ]
    },
    {
      "cell_type": "markdown",
      "metadata": {
        "id": "tEoGp5EDtIzW"
      },
      "source": [
        "Сравните AUC-ROC и AUC-PR для вашей модели с этими же метриками для случайного классификатора."
      ]
    },
    {
      "cell_type": "code",
      "source": [
        "df_metrics"
      ],
      "metadata": {
        "colab": {
          "base_uri": "https://localhost:8080/",
          "height": 112
        },
        "id": "r3Y6D0ZliMN1",
        "outputId": "f536c500-ca01-407d-d03d-dbb18a1954b4"
      },
      "execution_count": 14,
      "outputs": [
        {
          "output_type": "execute_result",
          "data": {
            "text/plain": [
              "                     AUC_PR   AUC_ROC  reg_const\n",
              "Random Classifier  0.633402  0.503944        NaN\n",
              "SVM                0.834587  0.776419        0.1"
            ],
            "text/html": [
              "\n",
              "  <div id=\"df-76bf8c20-eb72-4042-8c69-dc21836b53f4\">\n",
              "    <div class=\"colab-df-container\">\n",
              "      <div>\n",
              "<style scoped>\n",
              "    .dataframe tbody tr th:only-of-type {\n",
              "        vertical-align: middle;\n",
              "    }\n",
              "\n",
              "    .dataframe tbody tr th {\n",
              "        vertical-align: top;\n",
              "    }\n",
              "\n",
              "    .dataframe thead th {\n",
              "        text-align: right;\n",
              "    }\n",
              "</style>\n",
              "<table border=\"1\" class=\"dataframe\">\n",
              "  <thead>\n",
              "    <tr style=\"text-align: right;\">\n",
              "      <th></th>\n",
              "      <th>AUC_PR</th>\n",
              "      <th>AUC_ROC</th>\n",
              "      <th>reg_const</th>\n",
              "    </tr>\n",
              "  </thead>\n",
              "  <tbody>\n",
              "    <tr>\n",
              "      <th>Random Classifier</th>\n",
              "      <td>0.633402</td>\n",
              "      <td>0.503944</td>\n",
              "      <td>NaN</td>\n",
              "    </tr>\n",
              "    <tr>\n",
              "      <th>SVM</th>\n",
              "      <td>0.834587</td>\n",
              "      <td>0.776419</td>\n",
              "      <td>0.1</td>\n",
              "    </tr>\n",
              "  </tbody>\n",
              "</table>\n",
              "</div>\n",
              "      <button class=\"colab-df-convert\" onclick=\"convertToInteractive('df-76bf8c20-eb72-4042-8c69-dc21836b53f4')\"\n",
              "              title=\"Convert this dataframe to an interactive table.\"\n",
              "              style=\"display:none;\">\n",
              "        \n",
              "  <svg xmlns=\"http://www.w3.org/2000/svg\" height=\"24px\"viewBox=\"0 0 24 24\"\n",
              "       width=\"24px\">\n",
              "    <path d=\"M0 0h24v24H0V0z\" fill=\"none\"/>\n",
              "    <path d=\"M18.56 5.44l.94 2.06.94-2.06 2.06-.94-2.06-.94-.94-2.06-.94 2.06-2.06.94zm-11 1L8.5 8.5l.94-2.06 2.06-.94-2.06-.94L8.5 2.5l-.94 2.06-2.06.94zm10 10l.94 2.06.94-2.06 2.06-.94-2.06-.94-.94-2.06-.94 2.06-2.06.94z\"/><path d=\"M17.41 7.96l-1.37-1.37c-.4-.4-.92-.59-1.43-.59-.52 0-1.04.2-1.43.59L10.3 9.45l-7.72 7.72c-.78.78-.78 2.05 0 2.83L4 21.41c.39.39.9.59 1.41.59.51 0 1.02-.2 1.41-.59l7.78-7.78 2.81-2.81c.8-.78.8-2.07 0-2.86zM5.41 20L4 18.59l7.72-7.72 1.47 1.35L5.41 20z\"/>\n",
              "  </svg>\n",
              "      </button>\n",
              "      \n",
              "  <style>\n",
              "    .colab-df-container {\n",
              "      display:flex;\n",
              "      flex-wrap:wrap;\n",
              "      gap: 12px;\n",
              "    }\n",
              "\n",
              "    .colab-df-convert {\n",
              "      background-color: #E8F0FE;\n",
              "      border: none;\n",
              "      border-radius: 50%;\n",
              "      cursor: pointer;\n",
              "      display: none;\n",
              "      fill: #1967D2;\n",
              "      height: 32px;\n",
              "      padding: 0 0 0 0;\n",
              "      width: 32px;\n",
              "    }\n",
              "\n",
              "    .colab-df-convert:hover {\n",
              "      background-color: #E2EBFA;\n",
              "      box-shadow: 0px 1px 2px rgba(60, 64, 67, 0.3), 0px 1px 3px 1px rgba(60, 64, 67, 0.15);\n",
              "      fill: #174EA6;\n",
              "    }\n",
              "\n",
              "    [theme=dark] .colab-df-convert {\n",
              "      background-color: #3B4455;\n",
              "      fill: #D2E3FC;\n",
              "    }\n",
              "\n",
              "    [theme=dark] .colab-df-convert:hover {\n",
              "      background-color: #434B5C;\n",
              "      box-shadow: 0px 1px 3px 1px rgba(0, 0, 0, 0.15);\n",
              "      filter: drop-shadow(0px 1px 2px rgba(0, 0, 0, 0.3));\n",
              "      fill: #FFFFFF;\n",
              "    }\n",
              "  </style>\n",
              "\n",
              "      <script>\n",
              "        const buttonEl =\n",
              "          document.querySelector('#df-76bf8c20-eb72-4042-8c69-dc21836b53f4 button.colab-df-convert');\n",
              "        buttonEl.style.display =\n",
              "          google.colab.kernel.accessAllowed ? 'block' : 'none';\n",
              "\n",
              "        async function convertToInteractive(key) {\n",
              "          const element = document.querySelector('#df-76bf8c20-eb72-4042-8c69-dc21836b53f4');\n",
              "          const dataTable =\n",
              "            await google.colab.kernel.invokeFunction('convertToInteractive',\n",
              "                                                     [key], {});\n",
              "          if (!dataTable) return;\n",
              "\n",
              "          const docLinkHtml = 'Like what you see? Visit the ' +\n",
              "            '<a target=\"_blank\" href=https://colab.research.google.com/notebooks/data_table.ipynb>data table notebook</a>'\n",
              "            + ' to learn more about interactive tables.';\n",
              "          element.innerHTML = '';\n",
              "          dataTable['output_type'] = 'display_data';\n",
              "          await google.colab.output.renderOutput(dataTable, element);\n",
              "          const docLink = document.createElement('div');\n",
              "          docLink.innerHTML = docLinkHtml;\n",
              "          element.appendChild(docLink);\n",
              "        }\n",
              "      </script>\n",
              "    </div>\n",
              "  </div>\n",
              "  "
            ]
          },
          "metadata": {},
          "execution_count": 14
        }
      ]
    },
    {
      "cell_type": "markdown",
      "metadata": {
        "id": "Ln5VaZE_P75S"
      },
      "source": [
        "__Logistic Regression__\n",
        "\n",
        "Теперь повторите то же самое для логистической регрессии (LR) — обучение, подбор параметра регуляризации (используйте L2-регуляризацию), вычисление метрик и построение кривых ROC и PR."
      ]
    },
    {
      "cell_type": "code",
      "execution_count": 15,
      "metadata": {
        "id": "r1TlamoBP75S"
      },
      "outputs": [],
      "source": [
        "#your code here\n",
        "from sklearn.linear_model import LogisticRegression"
      ]
    },
    {
      "cell_type": "code",
      "source": [
        "C_vals = np.logspace(-5, 1, 7)\n",
        "aucs = []\n",
        "\n",
        "for C in tqdm(C_vals):\n",
        "    clf = LogisticRegression(penalty='l2', C=C).fit(X_train, y_train)\n",
        "    precision, recall, _ = precision_recall_curve(y_val, clf.predict(X_val))\n",
        "    aucs += [auc(recall, precision)]\n",
        "\n",
        "best_C = C_vals[np.argmax(aucs)]\n",
        "\n",
        "print(f\"best C {best_C}\")"
      ],
      "metadata": {
        "colab": {
          "base_uri": "https://localhost:8080/",
          "height": 67,
          "referenced_widgets": [
            "246c57a5cb0442beb5e7c4a81c90f77d",
            "33fda6890ada47e3b367c1b3e996abbd",
            "2e30f91e21b441ffb60f8e61c60db185",
            "d51ac23b1a1c4355ac2d5db95d4bf8c6",
            "d03128906e3f46ca90bec6fefb56754b",
            "4079b7a805a842ec96c6ff451ab2f0b4",
            "acded495108445ffb5522ab80012d765",
            "14e30197522444b399fc84c3425b3e8d",
            "448f7d44aee04dc995a729c67c429516",
            "eac8f0785a15476fb3f2910eb0239075",
            "e973a9bc08c24b50a196ac39a399892b"
          ]
        },
        "id": "9BKdZv02ykcV",
        "outputId": "982f69e6-b9dc-4767-b633-c429e2f6fcd2"
      },
      "execution_count": 16,
      "outputs": [
        {
          "output_type": "display_data",
          "data": {
            "text/plain": [
              "  0%|          | 0/7 [00:00<?, ?it/s]"
            ],
            "application/vnd.jupyter.widget-view+json": {
              "version_major": 2,
              "version_minor": 0,
              "model_id": "246c57a5cb0442beb5e7c4a81c90f77d"
            }
          },
          "metadata": {}
        },
        {
          "output_type": "stream",
          "name": "stdout",
          "text": [
            "best C 0.01\n"
          ]
        }
      ]
    },
    {
      "cell_type": "code",
      "source": [
        "#your code here\n",
        "clf = LogisticRegression(penalty='l2', C=best_C).fit(X_train, y_train)\n",
        "plot_curves(clf, X_test, y_test, best_C, \"Log Reg\")"
      ],
      "metadata": {
        "colab": {
          "base_uri": "https://localhost:8080/",
          "height": 405
        },
        "id": "k-aHbnWPzEOg",
        "outputId": "8d7168ff-7632-4e6b-d7b6-e71611ddcf8f"
      },
      "execution_count": 17,
      "outputs": [
        {
          "output_type": "stream",
          "name": "stdout",
          "text": [
            "AUC-PR: 0.83252\n",
            "AUC-ROC: 0.77330\n"
          ]
        },
        {
          "output_type": "display_data",
          "data": {
            "text/plain": [
              "<Figure size 792x360 with 2 Axes>"
            ],
            "image/png": "[encoded data removed]"
          },
          "metadata": {
            "needs_background": "light"
          }
        }
      ]
    },
    {
      "cell_type": "code",
      "source": [
        "df_metrics"
      ],
      "metadata": {
        "colab": {
          "base_uri": "https://localhost:8080/",
          "height": 143
        },
        "id": "lRZ0xE9okHy_",
        "outputId": "acde7d72-0fab-4eb8-9175-ac9d6ac6ce9c"
      },
      "execution_count": 18,
      "outputs": [
        {
          "output_type": "execute_result",
          "data": {
            "text/plain": [
              "                     AUC_PR   AUC_ROC  reg_const\n",
              "Random Classifier  0.633402  0.503944        NaN\n",
              "SVM                0.834587  0.776419       0.10\n",
              "Log Reg            0.832521  0.773297       0.01"
            ],
            "text/html": [
              "\n",
              "  <div id=\"df-a10cb5f5-b1ae-4ce6-8b2f-62f928cd2bd4\">\n",
              "    <div class=\"colab-df-container\">\n",
              "      <div>\n",
              "<style scoped>\n",
              "    .dataframe tbody tr th:only-of-type {\n",
              "        vertical-align: middle;\n",
              "    }\n",
              "\n",
              "    .dataframe tbody tr th {\n",
              "        vertical-align: top;\n",
              "    }\n",
              "\n",
              "    .dataframe thead th {\n",
              "        text-align: right;\n",
              "    }\n",
              "</style>\n",
              "<table border=\"1\" class=\"dataframe\">\n",
              "  <thead>\n",
              "    <tr style=\"text-align: right;\">\n",
              "      <th></th>\n",
              "      <th>AUC_PR</th>\n",
              "      <th>AUC_ROC</th>\n",
              "      <th>reg_const</th>\n",
              "    </tr>\n",
              "  </thead>\n",
              "  <tbody>\n",
              "    <tr>\n",
              "      <th>Random Classifier</th>\n",
              "      <td>0.633402</td>\n",
              "      <td>0.503944</td>\n",
              "      <td>NaN</td>\n",
              "    </tr>\n",
              "    <tr>\n",
              "      <th>SVM</th>\n",
              "      <td>0.834587</td>\n",
              "      <td>0.776419</td>\n",
              "      <td>0.10</td>\n",
              "    </tr>\n",
              "    <tr>\n",
              "      <th>Log Reg</th>\n",
              "      <td>0.832521</td>\n",
              "      <td>0.773297</td>\n",
              "      <td>0.01</td>\n",
              "    </tr>\n",
              "  </tbody>\n",
              "</table>\n",
              "</div>\n",
              "      <button class=\"colab-df-convert\" onclick=\"convertToInteractive('df-a10cb5f5-b1ae-4ce6-8b2f-62f928cd2bd4')\"\n",
              "              title=\"Convert this dataframe to an interactive table.\"\n",
              "              style=\"display:none;\">\n",
              "        \n",
              "  <svg xmlns=\"http://www.w3.org/2000/svg\" height=\"24px\"viewBox=\"0 0 24 24\"\n",
              "       width=\"24px\">\n",
              "    <path d=\"M0 0h24v24H0V0z\" fill=\"none\"/>\n",
              "    <path d=\"M18.56 5.44l.94 2.06.94-2.06 2.06-.94-2.06-.94-.94-2.06-.94 2.06-2.06.94zm-11 1L8.5 8.5l.94-2.06 2.06-.94-2.06-.94L8.5 2.5l-.94 2.06-2.06.94zm10 10l.94 2.06.94-2.06 2.06-.94-2.06-.94-.94-2.06-.94 2.06-2.06.94z\"/><path d=\"M17.41 7.96l-1.37-1.37c-.4-.4-.92-.59-1.43-.59-.52 0-1.04.2-1.43.59L10.3 9.45l-7.72 7.72c-.78.78-.78 2.05 0 2.83L4 21.41c.39.39.9.59 1.41.59.51 0 1.02-.2 1.41-.59l7.78-7.78 2.81-2.81c.8-.78.8-2.07 0-2.86zM5.41 20L4 18.59l7.72-7.72 1.47 1.35L5.41 20z\"/>\n",
              "  </svg>\n",
              "      </button>\n",
              "      \n",
              "  <style>\n",
              "    .colab-df-container {\n",
              "      display:flex;\n",
              "      flex-wrap:wrap;\n",
              "      gap: 12px;\n",
              "    }\n",
              "\n",
              "    .colab-df-convert {\n",
              "      background-color: #E8F0FE;\n",
              "      border: none;\n",
              "      border-radius: 50%;\n",
              "      cursor: pointer;\n",
              "      display: none;\n",
              "      fill: #1967D2;\n",
              "      height: 32px;\n",
              "      padding: 0 0 0 0;\n",
              "      width: 32px;\n",
              "    }\n",
              "\n",
              "    .colab-df-convert:hover {\n",
              "      background-color: #E2EBFA;\n",
              "      box-shadow: 0px 1px 2px rgba(60, 64, 67, 0.3), 0px 1px 3px 1px rgba(60, 64, 67, 0.15);\n",
              "      fill: #174EA6;\n",
              "    }\n",
              "\n",
              "    [theme=dark] .colab-df-convert {\n",
              "      background-color: #3B4455;\n",
              "      fill: #D2E3FC;\n",
              "    }\n",
              "\n",
              "    [theme=dark] .colab-df-convert:hover {\n",
              "      background-color: #434B5C;\n",
              "      box-shadow: 0px 1px 3px 1px rgba(0, 0, 0, 0.15);\n",
              "      filter: drop-shadow(0px 1px 2px rgba(0, 0, 0, 0.3));\n",
              "      fill: #FFFFFF;\n",
              "    }\n",
              "  </style>\n",
              "\n",
              "      <script>\n",
              "        const buttonEl =\n",
              "          document.querySelector('#df-a10cb5f5-b1ae-4ce6-8b2f-62f928cd2bd4 button.colab-df-convert');\n",
              "        buttonEl.style.display =\n",
              "          google.colab.kernel.accessAllowed ? 'block' : 'none';\n",
              "\n",
              "        async function convertToInteractive(key) {\n",
              "          const element = document.querySelector('#df-a10cb5f5-b1ae-4ce6-8b2f-62f928cd2bd4');\n",
              "          const dataTable =\n",
              "            await google.colab.kernel.invokeFunction('convertToInteractive',\n",
              "                                                     [key], {});\n",
              "          if (!dataTable) return;\n",
              "\n",
              "          const docLinkHtml = 'Like what you see? Visit the ' +\n",
              "            '<a target=\"_blank\" href=https://colab.research.google.com/notebooks/data_table.ipynb>data table notebook</a>'\n",
              "            + ' to learn more about interactive tables.';\n",
              "          element.innerHTML = '';\n",
              "          dataTable['output_type'] = 'display_data';\n",
              "          await google.colab.output.renderOutput(dataTable, element);\n",
              "          const docLink = document.createElement('div');\n",
              "          docLink.innerHTML = docLinkHtml;\n",
              "          element.appendChild(docLink);\n",
              "        }\n",
              "      </script>\n",
              "    </div>\n",
              "  </div>\n",
              "  "
            ]
          },
          "metadata": {},
          "execution_count": 18
        }
      ]
    },
    {
      "cell_type": "markdown",
      "metadata": {
        "id": "khlorKXtr1Sy"
      },
      "source": [
        "__Микровывод__\n",
        "\n",
        "  Сравните результаты LR и SVM с точки зрения всех вычисленных критериев качества, объясните различия (если они есть).\n",
        "\n",
        "  Ответ: Разница небольшая в целом."
      ]
    },
    {
      "cell_type": "markdown",
      "metadata": {
        "id": "RvWzOe4wP75T"
      },
      "source": [
        "#### __Задание 1.2. Визуализация в подходах SVM, LR__ (0.5 балла)\n",
        "\n",
        "В названии метода опорных векторов присутствуют некоторые \"опорные векторы\". По сути, это объекты из обучающей выборки, которые задали положение разделяющей гиперплоскости.\n",
        "\n",
        "1) Сгенерируйте синтетические данные с помощью `make_classification` __с 2 признаками__, обучите на нём метод опорных векторов. В этот раз воспользуйтесь `SVC(kernel='linear')`, так как только в нём есть информация об опорных векторах, а в `LinearSVC` нет.\n",
        "\n",
        "2) Визуализируйте разделяющую прямую, все объекты и выделите опорные векторы (атрибут `support_vectors_`). "
      ]
    },
    {
      "cell_type": "code",
      "source": [
        "import seaborn as sns"
      ],
      "metadata": {
        "id": "v3jYDX8aMbdA"
      },
      "execution_count": 19,
      "outputs": []
    },
    {
      "cell_type": "code",
      "execution_count": 20,
      "metadata": {
        "id": "baqu-QMCP75T"
      },
      "outputs": [],
      "source": [
        "#your code here\n",
        "X, y = make_classification(n_samples=2000, n_features=2, n_informative=2, n_redundant=0, random_state=0)\n",
        "X_train, X_test, y_train, y_test = train_test_split(X, y, test_size=0.3, random_state=0)"
      ]
    },
    {
      "cell_type": "code",
      "source": [
        "clf = SVC(kernel='linear').fit(X_train, y_train)"
      ],
      "metadata": {
        "id": "SFBUdjTo7nDc"
      },
      "execution_count": 21,
      "outputs": []
    },
    {
      "cell_type": "code",
      "source": [
        "plt.figure(figsize=(10,10))\n",
        "\n",
        "line_coeffs = clf.coef_[0]\n",
        "x_plot = np.linspace(X_train[:,0].min(), X_train[:,0].max())\n",
        "y_plot = -line_coeffs[0] / line_coeffs[1] * x_plot - (clf.intercept_[0]) / line_coeffs[1]\n",
        "sns.lineplot(x_plot, y_plot, color='orange', linewidth=3);\n",
        "\n",
        "sup_pos_indices = np.intersect1d(np.argwhere(y_train == 1), clf.support_)\n",
        "other_pos_indices = np.setdiff1d(np.argwhere(y_train == 1), sup_pos_indices)\n",
        "\n",
        "sup_neg_indices = np.intersect1d(np.argwhere(y_train == 0), clf.support_)\n",
        "other_neg_indices = np.setdiff1d(np.argwhere(y_train == 0), sup_neg_indices)\n",
        "\n",
        "\n",
        "sns.scatterplot(x=X[sup_pos_indices][:,0], y=X[sup_pos_indices][:,1], color='darkblue', s=300, marker=\"+\", alpha=0.9)\n",
        "sns.scatterplot(x=X_train[other_pos_indices][:,0], y=X_train[other_pos_indices][:,1], color='blue', alpha=0.7)\n",
        "\n",
        "sns.scatterplot(x=X[sup_neg_indices][:,0], y=X[sup_neg_indices][:,1], color='darkgreen', s=300, marker=\"+\", alpha=0.9)\n",
        "sns.scatterplot(x=X_train[other_neg_indices][:,0], y=X_train[other_neg_indices][:,1], color='green', alpha=0.7)\n",
        "\n",
        "plt.ylim((-3, 3))"
      ],
      "metadata": {
        "colab": {
          "base_uri": "https://localhost:8080/",
          "height": 669
        },
        "id": "IqFxgdhw8Lsw",
        "outputId": "eea0ea30-fbfb-422d-9ba1-17681e172197"
      },
      "execution_count": 22,
      "outputs": [
        {
          "output_type": "stream",
          "name": "stderr",
          "text": [
            "/usr/local/lib/python3.7/dist-packages/seaborn/_decorators.py:43: FutureWarning: Pass the following variables as keyword args: x, y. From version 0.12, the only valid positional argument will be `data`, and passing other arguments without an explicit keyword will result in an error or misinterpretation.\n",
            "  FutureWarning\n"
          ]
        },
        {
          "output_type": "execute_result",
          "data": {
            "text/plain": [
              "(-3.0, 3.0)"
            ]
          },
          "metadata": {},
          "execution_count": 22
        },
        {
          "output_type": "display_data",
          "data": {
            "text/plain": [
              "<Figure size 720x720 with 1 Axes>"
            ],
            "image/png": "[encoded data removed]"
          },
          "metadata": {
            "needs_background": "light"
          }
        }
      ]
    },
    {
      "cell_type": "markdown",
      "metadata": {
        "id": "gfpVN70PP75U"
      },
      "source": [
        "В отличие от метода опорных векторов, логистическая регрессия не пытается построить разделяющую гиперплоскость с максимальным отступом, а приближает в каждой точке пространства объектов вероятность положительных ответов $p(y=+1|x)$. Попробуйте нарисовать это распределение на плоскости, не забудьте отметить на ней все объекты. Вам может помочь функция `plt.pcolor` ([matplotlib demo](https://matplotlib.org/3.1.1/gallery/images_contours_and_fields/pcolor_demo.html#sphx-glr-gallery-images-contours-and-fields-pcolor-demo-py))."
      ]
    },
    {
      "cell_type": "code",
      "execution_count": 23,
      "metadata": {
        "id": "XJvU2RKDP75U"
      },
      "outputs": [],
      "source": [
        "#your code here\n",
        "clf = LogisticRegression(penalty='l2').fit(X_train, y_train)\n",
        "probs = clf.predict_proba(X_test)"
      ]
    },
    {
      "cell_type": "markdown",
      "source": [
        "https://stackoverflow.com/questions/28256058/plotting-decision-boundary-of-logistic-regression"
      ],
      "metadata": {
        "id": "wHHEbcvqRhgC"
      }
    },
    {
      "cell_type": "code",
      "source": [
        "xx, yy = np.mgrid[-5:5:.01, -5:5:.01]\n",
        "grid = np.c_[xx.ravel(), yy.ravel()]\n",
        "probs = clf.predict_proba(grid)[:, 1].reshape(xx.shape)\n",
        "\n",
        "f, ax = plt.subplots(figsize=(8, 6))\n",
        "contour = ax.contourf(xx, yy, probs, 25, cmap=\"RdBu\",\n",
        "                      vmin=0, vmax=1)\n",
        "ax_c = f.colorbar(contour)\n",
        "ax_c.set_label(\"$P(y = 1 | x)$\")\n",
        "ax_c.set_ticks([0, .25, .5, .75, 1])\n",
        "\n",
        "ax.scatter(X_train[100:,0], X_train[100:, 1], c=y_train[100:], s=50,\n",
        "           cmap=\"RdBu\", vmin=-.2, vmax=1.2,\n",
        "           edgecolor=\"white\", linewidth=1)\n",
        "\n",
        "ax.set(aspect=\"equal\",\n",
        "       xlim=(-5, 5), ylim=(-5, 5),\n",
        "       xlabel=\"$X_1$\", ylabel=\"$X_2$\");"
      ],
      "metadata": {
        "colab": {
          "base_uri": "https://localhost:8080/",
          "height": 396
        },
        "id": "3zAcuJ3rLaNZ",
        "outputId": "26faf293-c49b-4990-c4ee-95f7cffed9f8"
      },
      "execution_count": 24,
      "outputs": [
        {
          "output_type": "display_data",
          "data": {
            "text/plain": [
              "<Figure size 576x432 with 2 Axes>"
            ],
            "image/png": "[encoded data removed]"
          },
          "metadata": {
            "needs_background": "light"
          }
        }
      ]
    },
    {
      "cell_type": "markdown",
      "metadata": {
        "id": "4VbJR0e3P75U"
      },
      "source": [
        "#### __Задание 2. Калибровка вероятностей__ (1 балл)\n",
        "\n",
        "Перейдём к оценке качества выдаваемых алгоритмами вероятностей. Начнём с калибровочных кривых. \n",
        "\n",
        "Допустим, алгоритм возвращает некоторые числа от нуля до единицы. Хорошо ли они оценивают вероятность? Для этого разобьем отрезок $[0, 1]$ на несколько маленьких отрезков одинаковой длины.\n",
        "\n",
        "Рассмотрим $i$-й отрезок с границами $[a_i, b_i]$ и предсказания $p_1, p_2, \\dots, p_k$, которые попали в него. Пусть им соответствуют истинные ответы $y_1, y_2, \\dots, y_k$. Если алгоритм выдает корректные вероятности, то среди этих истинных ответов должно быть примерно $(a_i + b_i) / 2$ единиц. Иными словами, если нарисовать кривую, у которой по оси X отложены центры отрезков, а по оси Y — доли единичных ответов этих в отрезках, то она должна оказаться диагональной.\n",
        "\n",
        "Ниже приведена функция, которая должна рисовать такие кривые. В ней допущено две ошибки — найдите и исправьте их."
      ]
    },
    {
      "cell_type": "code",
      "execution_count": 25,
      "metadata": {
        "id": "R75uefZuP75V"
      },
      "outputs": [],
      "source": [
        "def plot_calibration_curve(y_test, preds):\n",
        "    bin_middle_points = []\n",
        "    bin_real_ratios = []\n",
        "    n_bins = 10\n",
        "\n",
        "    for i in range(n_bins):\n",
        "        l = 1.0 / n_bins * i\n",
        "        r = 1.0 / n_bins * (i + 1)\n",
        "        bin_middle_points.append((l + r) / 2) \n",
        "        y_seg = y_test[(preds >= l) & (preds < r)]\n",
        "        bin_real_ratios.append(y_seg.mean()) \n",
        "    \n",
        "    plt.figure(figsize=(6,6))\n",
        "    plt.plot([0, 1], [0, 1], '--')\n",
        "    plt.plot(bin_middle_points, bin_real_ratios)\n",
        "    plt.ylim([-0.05, 1.05])\n",
        "    plt.grid()"
      ]
    },
    {
      "cell_type": "markdown",
      "metadata": {
        "id": "AvYjnnxSP75V"
      },
      "source": [
        "Сгенерируйте синтетические данные аналогично использованным в самом первом задании. Постройте калибровочные кривые на тестовой части для логистической регрессии и метода опорных векторов (не забудьте перевести его предсказания в $[0;1]$)."
      ]
    },
    {
      "cell_type": "code",
      "execution_count": 26,
      "metadata": {
        "id": "ZTBMyfx4P75W"
      },
      "outputs": [],
      "source": [
        "#your code here\n",
        "X, y = make_classification(n_samples=10000, n_features=10, n_informative=5, n_redundant=5, random_state=42)\n",
        "\n",
        "X_train, X_test, y_train, y_test = train_test_split(X, y, test_size=0.3, random_state=42)\n",
        "X_train, X_calib, y_train, y_calib = train_test_split(X_train, y_train, test_size=0.1, random_state=42)"
      ]
    },
    {
      "cell_type": "code",
      "source": [
        "lr_clf = LogisticRegression(penalty='l2', C=df_metrics.loc['Log Reg', 'reg_const']).fit(X_train, y_train)\n",
        "lr_probs = lr_clf.predict_proba(X_test)[:,1]\n",
        "plot_calibration_curve(y_test, lr_probs)\n",
        "\n",
        "plt.title('Калибровочная кривая для LogisticRegression');"
      ],
      "metadata": {
        "colab": {
          "base_uri": "https://localhost:8080/",
          "height": 390
        },
        "id": "YShztsxHWn2k",
        "outputId": "7d7b1788-4665-4b14-d259-90b77c58adbe"
      },
      "execution_count": 27,
      "outputs": [
        {
          "output_type": "display_data",
          "data": {
            "text/plain": [
              "<Figure size 432x432 with 1 Axes>"
            ],
            "image/png": "[encoded data removed]"
          },
          "metadata": {
            "needs_background": "light"
          }
        }
      ]
    },
    {
      "cell_type": "code",
      "source": [
        "svm_clf = SVC(kernel='linear', C=df_metrics.loc['SVM', 'reg_const']).fit(X_train, y_train)\n",
        "svm_preds = svm_clf.decision_function(X_test)\n",
        "svm_preds = (svm_preds - svm_preds.min()) / (svm_preds.max() - svm_preds.min())\n",
        "plot_calibration_curve(y_test, svm_preds)\n",
        "plt.title('Калибровочная кривая для SVM');"
      ],
      "metadata": {
        "colab": {
          "base_uri": "https://localhost:8080/",
          "height": 390
        },
        "id": "gs8jg1LiXBXg",
        "outputId": "5cbe46b9-34e6-470b-d105-dbc7c79ea08b"
      },
      "execution_count": 28,
      "outputs": [
        {
          "output_type": "display_data",
          "data": {
            "text/plain": [
              "<Figure size 432x432 with 1 Axes>"
            ],
            "image/png": "[encoded data removed]"
          },
          "metadata": {
            "needs_background": "light"
          }
        }
      ]
    },
    {
      "cell_type": "markdown",
      "metadata": {
        "id": "8zwmGLkyIBxU"
      },
      "source": [
        "Изучите распределение ответов классификаторов (постройте гистограммы с помощью `plt.hist`)."
      ]
    },
    {
      "cell_type": "code",
      "execution_count": 29,
      "metadata": {
        "id": "IaDLxkpxIDVV",
        "colab": {
          "base_uri": "https://localhost:8080/",
          "height": 369
        },
        "outputId": "5d70a6cc-7dd7-485f-f663-a9db23c5aad7"
      },
      "outputs": [
        {
          "output_type": "display_data",
          "data": {
            "text/plain": [
              "<Figure size 720x360 with 2 Axes>"
            ],
            "image/png": "[encoded data removed]"
          },
          "metadata": {
            "needs_background": "light"
          }
        }
      ],
      "source": [
        "#your code here\n",
        "fig, ax = plt.subplots(2, figsize=(10, 5))\n",
        "ax[0].hist(lr_probs, bins=100);\n",
        "ax[1].hist(svm_preds, bins=100);\n",
        "\n",
        "ax[0].set(title=\"Распределение ответов Log Reg\");\n",
        "ax[1].set(title=\"Распределение ответов SVM\");\n",
        "\n",
        "plt.tight_layout()"
      ]
    },
    {
      "cell_type": "markdown",
      "metadata": {
        "id": "KH3u2pVNEYmJ"
      },
      "source": [
        "\n",
        "Чем они различаются? Чем вы можете объяснить это?\n",
        "\n",
        "Ответ: Логрег корректно оценивает вероятности, поэтому распределение получается равномерным. SVM стремится к нормальному по ЦПТ. "
      ]
    },
    {
      "cell_type": "markdown",
      "metadata": {
        "id": "M9-6ClfaP75W"
      },
      "source": [
        "Воспользуйтесь `CalibratedClassifierCV` из `sklearn` для калибровки вероятностей метода опорных векторов на обучении и постройте с его помощью предсказания для тестовой выборки. Нарисуйте для них калибровочную кривую. Улучшилась ли она?"
      ]
    },
    {
      "cell_type": "code",
      "execution_count": 31,
      "metadata": {
        "id": "RR3pVlSNP75W",
        "colab": {
          "base_uri": "https://localhost:8080/",
          "height": 390
        },
        "outputId": "b20a0eb5-b1ec-4a01-e364-d4e31d17c2e9"
      },
      "outputs": [
        {
          "output_type": "display_data",
          "data": {
            "text/plain": [
              "<Figure size 432x432 with 1 Axes>"
            ],
            "image/png": "[encoded data removed]"
          },
          "metadata": {
            "needs_background": "light"
          }
        }
      ],
      "source": [
        "#your code here\n",
        "from sklearn.calibration import CalibratedClassifierCV \n",
        "\n",
        "svm_clf_calib = CalibratedClassifierCV(svm_clf, cv=\"prefit\").fit(X_calib, y_calib)\n",
        "svm_probs_calib = svm_clf_calib.predict_proba(X_test)[:,1]\n",
        "plot_calibration_curve(y_test, svm_probs_calib)\n",
        "\n",
        "plt.title('Калибровочная кривая для откалиброванного SVM');"
      ]
    },
    {
      "cell_type": "markdown",
      "source": [
        "Да улучшилась"
      ],
      "metadata": {
        "id": "MOArOWflbtFN"
      }
    },
    {
      "cell_type": "markdown",
      "metadata": {
        "id": "p2dpbXgoP75X"
      },
      "source": [
        "##### __Бонус: Авторское решение__ (0.5 балла)\n",
        "\n",
        "Реализуйте свою функцию для калибровки вероятностей, используя любой из известных подходов. Кратко опишите ваш подход и продемонстрируйте результаты. Ключевые слова для вдохновения: `Platt`, `Isotonic`."
      ]
    },
    {
      "cell_type": "code",
      "execution_count": 32,
      "metadata": {
        "id": "R8mtQgBJP75X"
      },
      "outputs": [],
      "source": [
        "#your code here"
      ]
    },
    {
      "cell_type": "markdown",
      "metadata": {
        "id": "FaOVU4vJP75X"
      },
      "source": [
        "# Часть 2. Обработка категориальных переменных"
      ]
    },
    {
      "cell_type": "markdown",
      "metadata": {
        "id": "8KQ9ywUEP75X"
      },
      "source": [
        "Как мы знаем, перекодировать категориальную переменную в список чисел (к примеру 1, 2, 3, ..., n) плохо, поскольку это бы задало на множестве ее значений некоторый порядок, не имеющий смысла. \n",
        "\n",
        "В этой части мы рассмотрим два основных способа обработки категориальных значений:\n",
        "- One-hot-кодирование\n",
        "- Счётчики (CTR, mean-target кодирование, ...) — каждый категориальный признак заменяется на среднее значение целевой переменной по всем объектам, имеющим одинаковое значение в этом признаке.\n",
        "\n",
        "Начнём с one-hot-кодирования. Допустим наш категориальный признак $f_j(x)$ принимает значения из множества $C=\\{c_1, \\dots, c_m\\}$. Заменим его на $m$ бинарных признаков $b_1(x), \\dots, b_m(x)$, каждый из которых является индикатором одного из возможных категориальных значений:\n",
        "$$\n",
        "b_i(x) = [f_j(x) = c_i]\n",
        "$$"
      ]
    },
    {
      "cell_type": "markdown",
      "metadata": {
        "id": "pPsScraBP75Y"
      },
      "source": [
        "#### __Подготовка данных__\n",
        "\n",
        "(бесценный шаг)\n",
        "\n",
        "Загрузим данные [UCI Adult Dataset](https://archive.ics.uci.edu/ml/datasets/Adult). Этот набор данных содержит информацию о годовых доходах отдельных людей. В качестве признакового описания используется различная информация о человеке (образование, профессия, брачный статус и т.д.). Целевая переменная является бинарной: больше ли годовой доход 50K долларов или нет. "
      ]
    },
    {
      "cell_type": "code",
      "execution_count": 33,
      "metadata": {
        "id": "KqM6MJHCWRAg",
        "colab": {
          "base_uri": "https://localhost:8080/"
        },
        "outputId": "263e7a43-d2a2-47d4-8e53-7bb10c804d29"
      },
      "outputs": [
        {
          "output_type": "stream",
          "name": "stdout",
          "text": [
            "--2022-11-23 14:35:42--  https://archive.ics.uci.edu/ml/machine-learning-databases/adult/adult.data\n",
            "Resolving archive.ics.uci.edu (archive.ics.uci.edu)... 128.195.10.252\n",
            "Connecting to archive.ics.uci.edu (archive.ics.uci.edu)|128.195.10.252|:443... ^C\n"
          ]
        }
      ],
      "source": [
        "#!wget https://archive.ics.uci.edu/ml/machine-learning-databases/adult/adult.data"
      ]
    },
    {
      "cell_type": "code",
      "execution_count": 65,
      "metadata": {
        "id": "U7l7U7xTWO8l"
      },
      "outputs": [],
      "source": [
        "columns = ['age', 'workclass', 'fnlwgt', 'education', \n",
        "           'education-num', 'marital-status', 'occupation',\n",
        "           'relationship', 'race', 'sex', 'capital-gain', \n",
        "           'capital-loss', 'hours-per-week', 'native-country',\n",
        "           'income']\n",
        "\n",
        "df = pd.read_csv('adult.data', header=None, names=columns)\n",
        "df['income'] = (df['income'] != \" <=50K\").astype('int32')"
      ]
    },
    {
      "cell_type": "code",
      "execution_count": 66,
      "metadata": {
        "id": "zvNOSMmf32Q8",
        "colab": {
          "base_uri": "https://localhost:8080/",
          "height": 444
        },
        "outputId": "06314e5f-1129-4945-d017-875ba9bde5d1"
      },
      "outputs": [
        {
          "output_type": "execute_result",
          "data": {
            "text/plain": [
              "   age          workclass  fnlwgt   education  education-num  \\\n",
              "0   39          State-gov   77516   Bachelors             13   \n",
              "1   50   Self-emp-not-inc   83311   Bachelors             13   \n",
              "2   38            Private  215646     HS-grad              9   \n",
              "3   53            Private  234721        11th              7   \n",
              "4   28            Private  338409   Bachelors             13   \n",
              "\n",
              "        marital-status          occupation    relationship    race      sex  \\\n",
              "0        Never-married        Adm-clerical   Not-in-family   White     Male   \n",
              "1   Married-civ-spouse     Exec-managerial         Husband   White     Male   \n",
              "2             Divorced   Handlers-cleaners   Not-in-family   White     Male   \n",
              "3   Married-civ-spouse   Handlers-cleaners         Husband   Black     Male   \n",
              "4   Married-civ-spouse      Prof-specialty            Wife   Black   Female   \n",
              "\n",
              "   capital-gain  capital-loss  hours-per-week  native-country  income  \n",
              "0          2174             0              40   United-States       0  \n",
              "1             0             0              13   United-States       0  \n",
              "2             0             0              40   United-States       0  \n",
              "3             0             0              40   United-States       0  \n",
              "4             0             0              40            Cuba       0  "
            ],
            "text/html": [
              "\n",
              "  <div id=\"df-1b81ae0d-659b-4bce-86b9-d0245136592d\">\n",
              "    <div class=\"colab-df-container\">\n",
              "      <div>\n",
              "<style scoped>\n",
              "    .dataframe tbody tr th:only-of-type {\n",
              "        vertical-align: middle;\n",
              "    }\n",
              "\n",
              "    .dataframe tbody tr th {\n",
              "        vertical-align: top;\n",
              "    }\n",
              "\n",
              "    .dataframe thead th {\n",
              "        text-align: right;\n",
              "    }\n",
              "</style>\n",
              "<table border=\"1\" class=\"dataframe\">\n",
              "  <thead>\n",
              "    <tr style=\"text-align: right;\">\n",
              "      <th></th>\n",
              "      <th>age</th>\n",
              "      <th>workclass</th>\n",
              "      <th>fnlwgt</th>\n",
              "      <th>education</th>\n",
              "      <th>education-num</th>\n",
              "      <th>marital-status</th>\n",
              "      <th>occupation</th>\n",
              "      <th>relationship</th>\n",
              "      <th>race</th>\n",
              "      <th>sex</th>\n",
              "      <th>capital-gain</th>\n",
              "      <th>capital-loss</th>\n",
              "      <th>hours-per-week</th>\n",
              "      <th>native-country</th>\n",
              "      <th>income</th>\n",
              "    </tr>\n",
              "  </thead>\n",
              "  <tbody>\n",
              "    <tr>\n",
              "      <th>0</th>\n",
              "      <td>39</td>\n",
              "      <td>State-gov</td>\n",
              "      <td>77516</td>\n",
              "      <td>Bachelors</td>\n",
              "      <td>13</td>\n",
              "      <td>Never-married</td>\n",
              "      <td>Adm-clerical</td>\n",
              "      <td>Not-in-family</td>\n",
              "      <td>White</td>\n",
              "      <td>Male</td>\n",
              "      <td>2174</td>\n",
              "      <td>0</td>\n",
              "      <td>40</td>\n",
              "      <td>United-States</td>\n",
              "      <td>0</td>\n",
              "    </tr>\n",
              "    <tr>\n",
              "      <th>1</th>\n",
              "      <td>50</td>\n",
              "      <td>Self-emp-not-inc</td>\n",
              "      <td>83311</td>\n",
              "      <td>Bachelors</td>\n",
              "      <td>13</td>\n",
              "      <td>Married-civ-spouse</td>\n",
              "      <td>Exec-managerial</td>\n",
              "      <td>Husband</td>\n",
              "      <td>White</td>\n",
              "      <td>Male</td>\n",
              "      <td>0</td>\n",
              "      <td>0</td>\n",
              "      <td>13</td>\n",
              "      <td>United-States</td>\n",
              "      <td>0</td>\n",
              "    </tr>\n",
              "    <tr>\n",
              "      <th>2</th>\n",
              "      <td>38</td>\n",
              "      <td>Private</td>\n",
              "      <td>215646</td>\n",
              "      <td>HS-grad</td>\n",
              "      <td>9</td>\n",
              "      <td>Divorced</td>\n",
              "      <td>Handlers-cleaners</td>\n",
              "      <td>Not-in-family</td>\n",
              "      <td>White</td>\n",
              "      <td>Male</td>\n",
              "      <td>0</td>\n",
              "      <td>0</td>\n",
              "      <td>40</td>\n",
              "      <td>United-States</td>\n",
              "      <td>0</td>\n",
              "    </tr>\n",
              "    <tr>\n",
              "      <th>3</th>\n",
              "      <td>53</td>\n",
              "      <td>Private</td>\n",
              "      <td>234721</td>\n",
              "      <td>11th</td>\n",
              "      <td>7</td>\n",
              "      <td>Married-civ-spouse</td>\n",
              "      <td>Handlers-cleaners</td>\n",
              "      <td>Husband</td>\n",
              "      <td>Black</td>\n",
              "      <td>Male</td>\n",
              "      <td>0</td>\n",
              "      <td>0</td>\n",
              "      <td>40</td>\n",
              "      <td>United-States</td>\n",
              "      <td>0</td>\n",
              "    </tr>\n",
              "    <tr>\n",
              "      <th>4</th>\n",
              "      <td>28</td>\n",
              "      <td>Private</td>\n",
              "      <td>338409</td>\n",
              "      <td>Bachelors</td>\n",
              "      <td>13</td>\n",
              "      <td>Married-civ-spouse</td>\n",
              "      <td>Prof-specialty</td>\n",
              "      <td>Wife</td>\n",
              "      <td>Black</td>\n",
              "      <td>Female</td>\n",
              "      <td>0</td>\n",
              "      <td>0</td>\n",
              "      <td>40</td>\n",
              "      <td>Cuba</td>\n",
              "      <td>0</td>\n",
              "    </tr>\n",
              "  </tbody>\n",
              "</table>\n",
              "</div>\n",
              "      <button class=\"colab-df-convert\" onclick=\"convertToInteractive('df-1b81ae0d-659b-4bce-86b9-d0245136592d')\"\n",
              "              title=\"Convert this dataframe to an interactive table.\"\n",
              "              style=\"display:none;\">\n",
              "        \n",
              "  <svg xmlns=\"http://www.w3.org/2000/svg\" height=\"24px\"viewBox=\"0 0 24 24\"\n",
              "       width=\"24px\">\n",
              "    <path d=\"M0 0h24v24H0V0z\" fill=\"none\"/>\n",
              "    <path d=\"M18.56 5.44l.94 2.06.94-2.06 2.06-.94-2.06-.94-.94-2.06-.94 2.06-2.06.94zm-11 1L8.5 8.5l.94-2.06 2.06-.94-2.06-.94L8.5 2.5l-.94 2.06-2.06.94zm10 10l.94 2.06.94-2.06 2.06-.94-2.06-.94-.94-2.06-.94 2.06-2.06.94z\"/><path d=\"M17.41 7.96l-1.37-1.37c-.4-.4-.92-.59-1.43-.59-.52 0-1.04.2-1.43.59L10.3 9.45l-7.72 7.72c-.78.78-.78 2.05 0 2.83L4 21.41c.39.39.9.59 1.41.59.51 0 1.02-.2 1.41-.59l7.78-7.78 2.81-2.81c.8-.78.8-2.07 0-2.86zM5.41 20L4 18.59l7.72-7.72 1.47 1.35L5.41 20z\"/>\n",
              "  </svg>\n",
              "      </button>\n",
              "      \n",
              "  <style>\n",
              "    .colab-df-container {\n",
              "      display:flex;\n",
              "      flex-wrap:wrap;\n",
              "      gap: 12px;\n",
              "    }\n",
              "\n",
              "    .colab-df-convert {\n",
              "      background-color: #E8F0FE;\n",
              "      border: none;\n",
              "      border-radius: 50%;\n",
              "      cursor: pointer;\n",
              "      display: none;\n",
              "      fill: #1967D2;\n",
              "      height: 32px;\n",
              "      padding: 0 0 0 0;\n",
              "      width: 32px;\n",
              "    }\n",
              "\n",
              "    .colab-df-convert:hover {\n",
              "      background-color: #E2EBFA;\n",
              "      box-shadow: 0px 1px 2px rgba(60, 64, 67, 0.3), 0px 1px 3px 1px rgba(60, 64, 67, 0.15);\n",
              "      fill: #174EA6;\n",
              "    }\n",
              "\n",
              "    [theme=dark] .colab-df-convert {\n",
              "      background-color: #3B4455;\n",
              "      fill: #D2E3FC;\n",
              "    }\n",
              "\n",
              "    [theme=dark] .colab-df-convert:hover {\n",
              "      background-color: #434B5C;\n",
              "      box-shadow: 0px 1px 3px 1px rgba(0, 0, 0, 0.15);\n",
              "      filter: drop-shadow(0px 1px 2px rgba(0, 0, 0, 0.3));\n",
              "      fill: #FFFFFF;\n",
              "    }\n",
              "  </style>\n",
              "\n",
              "      <script>\n",
              "        const buttonEl =\n",
              "          document.querySelector('#df-1b81ae0d-659b-4bce-86b9-d0245136592d button.colab-df-convert');\n",
              "        buttonEl.style.display =\n",
              "          google.colab.kernel.accessAllowed ? 'block' : 'none';\n",
              "\n",
              "        async function convertToInteractive(key) {\n",
              "          const element = document.querySelector('#df-1b81ae0d-659b-4bce-86b9-d0245136592d');\n",
              "          const dataTable =\n",
              "            await google.colab.kernel.invokeFunction('convertToInteractive',\n",
              "                                                     [key], {});\n",
              "          if (!dataTable) return;\n",
              "\n",
              "          const docLinkHtml = 'Like what you see? Visit the ' +\n",
              "            '<a target=\"_blank\" href=https://colab.research.google.com/notebooks/data_table.ipynb>data table notebook</a>'\n",
              "            + ' to learn more about interactive tables.';\n",
              "          element.innerHTML = '';\n",
              "          dataTable['output_type'] = 'display_data';\n",
              "          await google.colab.output.renderOutput(dataTable, element);\n",
              "          const docLink = document.createElement('div');\n",
              "          docLink.innerHTML = docLinkHtml;\n",
              "          element.appendChild(docLink);\n",
              "        }\n",
              "      </script>\n",
              "    </div>\n",
              "  </div>\n",
              "  "
            ]
          },
          "metadata": {},
          "execution_count": 66
        }
      ],
      "source": [
        "df.head()"
      ]
    },
    {
      "cell_type": "markdown",
      "metadata": {
        "id": "VaiObso6IEfd"
      },
      "source": [
        "Разделите выборку на обучающую и тестовую в соотношении 3:1. Зафиксируйте `random_state=777`, также используйте `stratify`. "
      ]
    },
    {
      "cell_type": "code",
      "execution_count": 67,
      "metadata": {
        "id": "QIYErZMnP75Z"
      },
      "outputs": [],
      "source": [
        "#your code here\n",
        "X_train, X_test = train_test_split(df, test_size=0.25, random_state=777, stratify=df['income'])\n",
        "y_train, y_test = X_train['income'], X_test['income']\n",
        "X_train.drop('income', axis=1, inplace=True)\n",
        "X_test.drop('income', axis=1, inplace=True)"
      ]
    },
    {
      "cell_type": "code",
      "source": [
        "(y_train == 0).sum() / len(X_train), (y_test == 0).sum() / len(X_test)"
      ],
      "metadata": {
        "colab": {
          "base_uri": "https://localhost:8080/"
        },
        "id": "tpVXnV95zGqs",
        "outputId": "b797a470-2353-4809-b21a-0cd7667bce6f"
      },
      "execution_count": 68,
      "outputs": [
        {
          "output_type": "execute_result",
          "data": {
            "text/plain": [
              "(0.7591728091728092, 0.7592433361994841)"
            ]
          },
          "metadata": {},
          "execution_count": 68
        }
      ]
    },
    {
      "cell_type": "markdown",
      "metadata": {
        "id": "m5LjHkuCP75Z"
      },
      "source": [
        "#### __Задание 3. OrdinalEncoder__  (0.5 балла)\n",
        "\n",
        "Закодируйте категориальные признаки с помощью `OrdinalEncoder`, а числовые признаки нормализуйте с помощью `StandardScaler`. Посчитайте качество (в этом задании будем работать c __`AUC-PR`__) при применении логистической регрессии. Замерьте время, потребовавшееся на обучение модели, с учетом кодирования признаков."
      ]
    },
    {
      "cell_type": "code",
      "execution_count": 69,
      "metadata": {
        "id": "bdZT2tXXP75a"
      },
      "outputs": [],
      "source": [
        "#your code here\n",
        "from sklearn.preprocessing import OrdinalEncoder, OneHotEncoder, StandardScaler\n",
        "from sklearn.compose import ColumnTransformer\n",
        "from sklearn.pipeline import Pipeline\n",
        "import time"
      ]
    },
    {
      "cell_type": "code",
      "source": [
        "def auc_pr_score(y_true, y_pred):\n",
        "    precision, recall, _ = precision_recall_curve(y_test, y_pred)\n",
        "    return auc(recall, precision)\n",
        "\n",
        "def run_pipeline(pipeline, X_train, y_train, X_test, y_test):\n",
        "    start_time = time.perf_counter()\n",
        "    pipeline.fit(X_train, y_train)\n",
        "    end_time = time.perf_counter()\n",
        "\n",
        "    print(f\"Время {end_time - start_time}\")\n",
        "    print(f\"AUC-PR: %.5f\" % auc_pr_score(y_test, pipeline.predict(X_test)))"
      ],
      "metadata": {
        "id": "XAco4sze8pK1"
      },
      "execution_count": 70,
      "outputs": []
    },
    {
      "cell_type": "code",
      "source": [
        "categorical = ['workclass', 'education', 'education-num', 'marital-status', 'occupation', 'relationship', 'race', 'sex', 'native-country']\n",
        "numerical = ['age', 'fnlwgt', 'capital-gain', 'capital-loss', 'hours-per-week']\n",
        "\n",
        "column_transformer = ColumnTransformer([\n",
        "    ('ordinalencoder', OrdinalEncoder(), categorical),\n",
        "    ('standardscaler', StandardScaler(), numerical)\n",
        "])\n",
        "\n",
        "pipeline = Pipeline([\n",
        "    ('transformer', column_transformer),\n",
        "    ('logreg', LogisticRegression(max_iter=200))\n",
        "])\n",
        "\n",
        "run_pipeline(pipeline, X_train, y_train, X_test, y_test)"
      ],
      "metadata": {
        "colab": {
          "base_uri": "https://localhost:8080/"
        },
        "id": "Xmda42KF0ZAP",
        "outputId": "4bbaec6a-e2ac-46cc-8eba-171049bfad43"
      },
      "execution_count": 71,
      "outputs": [
        {
          "output_type": "stream",
          "name": "stdout",
          "text": [
            "Время 2.1498220299999957\n",
            "AUC-PR: 0.64020\n"
          ]
        }
      ]
    },
    {
      "cell_type": "markdown",
      "metadata": {
        "id": "TRXYxCSmP75Z"
      },
      "source": [
        "__Вопрос__: почему в данном задании мы выбрали метрикой именно `AUC-PR`, а не, к примеру, `AUC-ROC`?\n",
        "\n",
        "__Ответ__: Видимо из-за того, что классы не сбалансированны, AUC-ROC страдает из-за этого, а AUC-PR как раз пытается бороться с этой проблемой."
      ]
    },
    {
      "cell_type": "markdown",
      "metadata": {
        "id": "ScIo7NthP75a"
      },
      "source": [
        "#### __Задание 4. One-Hot Encoding__ (0.5 балла)\n",
        "\n"
      ]
    },
    {
      "cell_type": "markdown",
      "metadata": {
        "id": "p3sFuKAtLwOx"
      },
      "source": [
        "Закодируйте все категориальные признаки с помощью one-hot-кодирования. Обучите логистическую регрессию и посмотрите, как изменилось качество модели (в сравнении с тем, что было до кодирования). Измерьте время, потребовавшееся на кодирование категориальных признаков и обучение модели."
      ]
    },
    {
      "cell_type": "code",
      "execution_count": 72,
      "metadata": {
        "id": "t4PbjLIHP75a",
        "colab": {
          "base_uri": "https://localhost:8080/"
        },
        "outputId": "632b7132-4156-469f-a9dc-33705c45850c"
      },
      "outputs": [
        {
          "output_type": "stream",
          "name": "stdout",
          "text": [
            "Время 1.1722486720000234\n",
            "AUC-PR: 0.71885\n"
          ]
        }
      ],
      "source": [
        "#your code here\n",
        "column_transformer = ColumnTransformer([\n",
        "    ('oheencoder', OneHotEncoder(), categorical),\n",
        "    ('standardscaler', StandardScaler(), numerical)\n",
        "])\n",
        "\n",
        "pipeline = Pipeline([\n",
        "    ('transformer', column_transformer),\n",
        "    ('logreg', LogisticRegression(max_iter=300))\n",
        "])\n",
        "\n",
        "run_pipeline(pipeline, X_train, y_train, X_test, y_test)"
      ]
    },
    {
      "cell_type": "markdown",
      "metadata": {
        "id": "9p-qOs6lP75b"
      },
      "source": [
        "Как можно заметить, one-hot-кодирование может сильно увеличивать количество признаков. Это сказывается на объеме необходимой памяти, особенно, если некоторый признак имеет большое количество значений.\n"
      ]
    },
    {
      "cell_type": "markdown",
      "metadata": {
        "id": "l1q3k3yaLF8Y"
      },
      "source": [
        "#### __Задание 5. Mean-target Encoding__ (1 балл)"
      ]
    },
    {
      "cell_type": "markdown",
      "metadata": {
        "id": "tanu5Hm5Lr7R"
      },
      "source": [
        "> Проблемы разрастания числа признаков можно избежать в другом способе кодирования категориальных признаков — mean-target encoding (для простоты будем называть это __счётчиками__). Сравним эффективность методов в рамках нашей маркетинговой задачи.\n",
        "\n",
        "> Основная идея в том, что важны не сами категории, а значения целевой переменной, которые имеют объекты этой категории. Каждый категориальный признак мы заменим средним значением целевой переменной по всем объектам этой же категории:\n",
        "$$\n",
        "g_j(x, X) = \\frac{\\sum_{i=1}^{\\ell} [f_j(x) = f_j(x_i)][y_i = +1]}{\\sum_{i=1}^{\\ell} [f_j(x) = f_j(x_i)]}\n",
        "$$\n",
        "\n",
        "Закодируйте категориальные переменные с помощью счётчиков (ровно так, как описано выше, без каких-либо хитростей). Обучите логистическую регрессию и посмотрите на качество модели на тестовом множестве.\n",
        "\n",
        "Сравните время обучения с предыдущими экспериментами (с учетом кодирования признаков)."
      ]
    },
    {
      "cell_type": "code",
      "source": [
        "from sklearn.base import BaseEstimator, TransformerMixin"
      ],
      "metadata": {
        "id": "rfv0lIqmVlZV"
      },
      "execution_count": 73,
      "outputs": []
    },
    {
      "cell_type": "code",
      "execution_count": 74,
      "metadata": {
        "id": "Q4W5YbD2LbGw"
      },
      "outputs": [],
      "source": [
        "#your code here\n",
        "class NaiveMeanTargetEncoder(BaseEstimator, TransformerMixin):\n",
        "    def __init__(self, columns):\n",
        "        self.columns = columns\n",
        "        self.encoders = {}\n",
        "\n",
        "    @staticmethod\n",
        "    def mean_target_encode(X_j, y, x_j):\n",
        "        mask = X_j == x_j\n",
        "        return (mask & (y == 1)).sum() / mask.sum()\n",
        "    \n",
        "    def fit(self, X, y):\n",
        "        for column in self.columns:\n",
        "            self.encoders[column] = {}\n",
        "\n",
        "            for x_j in X[column].unique():\n",
        "                self.encoders[column][x_j] = NaiveMeanTargetEncoder.mean_target_encode(X[column], y, x_j)\n",
        "        \n",
        "        return self\n",
        "\n",
        "    def transform(self, X):\n",
        "        X = X.copy()\n",
        "\n",
        "        for column in self.columns:\n",
        "            values = []\n",
        "\n",
        "            for index, row in X.iterrows():\n",
        "                values += [self.encoders[column][row[column]]]\n",
        "            X[column] = values\n",
        "        \n",
        "        return X      "
      ]
    },
    {
      "cell_type": "code",
      "source": [
        "column_transformer = ColumnTransformer([\n",
        "    ('meantargetencoder', NaiveMeanTargetEncoder(categorical), categorical),\n",
        "    ('standardscaler', StandardScaler(), numerical)\n",
        "])\n",
        "\n",
        "pipeline = Pipeline([\n",
        "    ('transformer', column_transformer),\n",
        "    ('logreg', LogisticRegression(max_iter=300))\n",
        "])\n",
        "\n",
        "run_pipeline(pipeline, X_train, y_train, X_test, y_test)"
      ],
      "metadata": {
        "colab": {
          "base_uri": "https://localhost:8080/"
        },
        "id": "lcj9zJiZBh2d",
        "outputId": "577cec5d-0ede-411a-939c-93e40895105a"
      },
      "execution_count": 75,
      "outputs": [
        {
          "output_type": "stream",
          "name": "stdout",
          "text": [
            "Время 11.29148954499999\n",
            "AUC-PR: 0.70677\n"
          ]
        }
      ]
    },
    {
      "cell_type": "markdown",
      "metadata": {
        "id": "ABXherJ3LGBj"
      },
      "source": [
        "##### __Бонус: Эффективная реализация (1 балл)__\n",
        "\n",
        "Здесь и далее реализуйте вычисление счетчиков с помощью трансформера (наследуйтесь от классов `BaseEstimator, TransformerMixin` из `sklearn.base`). Обратите внимание, что все вычисления должны быть векторизованными, трансформер не должен модифицировать передаваемую ему выборку inplace, а все необходимые статистики нужно считать только по обучающей выборке в методе `fit`. Ваш трансформер должен принимать при инициализации список из категориальных признаков и изменять только их. "
      ]
    },
    {
      "cell_type": "code",
      "execution_count": 76,
      "metadata": {
        "id": "Kk8D4dDuP75b"
      },
      "outputs": [],
      "source": [
        "#your code here\n",
        "\n",
        "class GigachadMeanTargetEncoder(BaseEstimator, TransformerMixin):\n",
        "    def __init__(self, columns):\n",
        "        self.columns = columns\n",
        "        self.encoders = {}\n",
        "\n",
        "    def fit(self, X, y):\n",
        "        data = pd.concat((X, pd.DataFrame(y)), axis=1)\n",
        "\n",
        "        for column in self.columns:\n",
        "            self.encoders[column] = data.groupby(column)['income'].mean()\n",
        "\n",
        "        return self\n",
        "\n",
        "    def transform(self, X):\n",
        "        X = X.copy()\n",
        "\n",
        "        for column in self.columns:\n",
        "            X[column] = X[column].map(self.encoders[column])\n",
        "        \n",
        "        return X   "
      ]
    },
    {
      "cell_type": "code",
      "source": [
        "column_transformer = ColumnTransformer([\n",
        "    ('meantargetencoder', GigachadMeanTargetEncoder(categorical), categorical),\n",
        "    ('standardscaler', StandardScaler(), numerical)\n",
        "])\n",
        "\n",
        "pipeline = Pipeline([\n",
        "    ('transformer', column_transformer),\n",
        "    ('logreg', LogisticRegression(max_iter=300))\n",
        "])\n",
        "\n",
        "run_pipeline(pipeline, X_train, y_train, X_test, y_test)"
      ],
      "metadata": {
        "colab": {
          "base_uri": "https://localhost:8080/"
        },
        "id": "S_JaZKoJa9QR",
        "outputId": "e380d882-cc8c-4e6f-b8ce-598e424c96db"
      },
      "execution_count": 77,
      "outputs": [
        {
          "output_type": "stream",
          "name": "stdout",
          "text": [
            "Время 0.45375346800000216\n",
            "AUC-PR: 0.70677\n"
          ]
        }
      ]
    },
    {
      "cell_type": "markdown",
      "metadata": {
        "id": "bH-JPoINqJ62"
      },
      "source": [
        "_______\n",
        "\n",
        "__Методы борьбы с переобучением счетчиков__\n",
        "\n",
        "\n",
        "Отметим, что mean-target encoding признаки сами по себе являются классификаторами и, обучаясь на них, мы допускаем \"утечку\" целевой переменной в признаки. Это ведёт к __переобучению__, поэтому считать такие признаки необходимо таким образом, чтобы при вычислении для конкретного объекта его __целевая метка не использовалась__.\n",
        "\n",
        "Это можно делать следующими способами:\n",
        "1. Вычислять значение счётчика по всем объектам расположенным выше в датасете (например, если у нас выборка отсортирована по времени).\n",
        "2. Вычислять по фолдам, то есть делить выборку на некоторое количество частей и подсчитывать значение признаков по всем фолдам кроме текущего (как делается в кросс-валидации).\n",
        "3. Внесение некоторого шума в посчитанные признаки.\n",
        "\n",
        "#### __Задание 6. Пошумим__  (0.5 балла)\n",
        "\n",
        "Реализуйте корректное вычисление счётчиков самым простым способом — добавление шума к значениям.  При этом постарайтесь найти баланс между борьбой с переобучением и сохранением полезности признаков. Снова обучите логистическую регрессию, оцените качество. Сделайте выводы."
      ]
    },
    {
      "cell_type": "code",
      "execution_count": 78,
      "metadata": {
        "id": "HiqJBxrAP75c"
      },
      "outputs": [],
      "source": [
        "#your code here\n",
        "class NoisyMeanTargetEncoder(BaseEstimator, TransformerMixin):\n",
        "    def __init__(self, columns):\n",
        "        self.columns = columns\n",
        "        self.encoders = {}\n",
        "        self.sigma = 0.1\n",
        "\n",
        "    def fit(self, X, y):\n",
        "        data = pd.concat((X, pd.DataFrame(y)), axis=1)\n",
        "\n",
        "        for column in self.columns:\n",
        "            self.encoders[column] = data.groupby(column)['income'].mean() + np.random.randn(data[column].nunique()) * self.sigma\n",
        "\n",
        "        return self\n",
        "\n",
        "    def transform(self, X):\n",
        "        X = X.copy()\n",
        "\n",
        "        for column in self.columns:\n",
        "            X[column] = X[column].map(self.encoders[column])\n",
        "        \n",
        "        return X   "
      ]
    },
    {
      "cell_type": "code",
      "source": [
        "column_transformer = ColumnTransformer([\n",
        "    ('meantargetencoder', NoisyMeanTargetEncoder(categorical), categorical),\n",
        "    ('standardscaler', StandardScaler(), numerical)\n",
        "])\n",
        "\n",
        "pipeline = Pipeline([\n",
        "    ('transformer', column_transformer),\n",
        "    ('logreg', LogisticRegression(max_iter=300))\n",
        "])\n",
        "\n",
        "run_pipeline(pipeline, X_train, y_train, X_test, y_test)"
      ],
      "metadata": {
        "colab": {
          "base_uri": "https://localhost:8080/"
        },
        "id": "rwVzTYPmhGV5",
        "outputId": "1ce6e5c4-7a6c-4ae5-cad9-bef64d82a37a"
      },
      "execution_count": 79,
      "outputs": [
        {
          "output_type": "stream",
          "name": "stdout",
          "text": [
            "Время 0.5721506050000471\n",
            "AUC-PR: 0.70221\n"
          ]
        }
      ]
    },
    {
      "cell_type": "markdown",
      "source": [
        "Особо ничего не изменилось к сожалению"
      ],
      "metadata": {
        "id": "Se4kqfy1b2fN"
      }
    },
    {
      "cell_type": "markdown",
      "metadata": {
        "id": "1GtUtPCjP75c"
      },
      "source": [
        "##### __Бонус: другой подход__ (0.5 балла)\n",
        "\n",
        "Посчитайте корректные счётчики первым или вторым способов из описанных выше (не забудьте добавить и шум).\n",
        "\n",
        "\n"
      ]
    },
    {
      "cell_type": "code",
      "execution_count": 80,
      "metadata": {
        "id": "AjqsSTd6P75c"
      },
      "outputs": [],
      "source": [
        "#your code here"
      ]
    },
    {
      "cell_type": "markdown",
      "metadata": {
        "id": "aMe2b5i6P75d"
      },
      "source": [
        "#### __Задание 7. Сглаживание счетчиков__  (1 балл)"
      ]
    },
    {
      "cell_type": "markdown",
      "metadata": {
        "id": "4gnmTaJqP75d"
      },
      "source": [
        "> Теперь ответим на следующий вопрос: что будет, если некоторая категория встречается в выборке всего несколько раз? По этой причине производится сглаживание счётчиков. Например, на практике хорошие результаты показывает использование сглаживания средним по всей выборке:\n",
        "$$\n",
        "g_j(x, X) = \\frac{\\sum_{i=1}^{\\ell} [f_j(x) = f_j(x_i)][y_i = +1] + C \\times global\\_mean}{\\sum_{i=1}^{\\ell} [f_j(x) = f_j(x_i)] + C}\n",
        "$$\n",
        "где $global\\_mean$ — доля объектов положительного класса в выборке, $C$ — параметр, определяющий степень сглаживания (можно использовать 10 или подобрать для каждого признака свой). Идея в том, что мы \"разбавляем\" среднее значение по категории глобальным средним значением. И тем меньше, чем большее количество объектов этой категории встречается в выборке. \n",
        "\n",
        "> Вместо среднего значения целевой переменной для сглаживания можно использовать любое другое значение от 0 до 1 (этот параметр иногда называют $prior$). Можно сделать несколько признаков с разными значениями параметра. На практике в задачах бинарной классификации полезными бывают даже отрицательные значения!\n",
        "\n",
        "Добавьте сглаживание, описанное выше и повторите эксперименты.\n"
      ]
    },
    {
      "cell_type": "code",
      "execution_count": 81,
      "metadata": {
        "id": "4xRMlYQlP75d"
      },
      "outputs": [],
      "source": [
        "#your code here\n",
        "class SmoothMeanTargetEncoder(BaseEstimator, TransformerMixin):\n",
        "    def __init__(self, columns):\n",
        "        self.columns = columns\n",
        "        self.encoders = {}\n",
        "        self.global_mean = 0\n",
        "        self.C = 10\n",
        "\n",
        "    def fit(self, X, y):\n",
        "        self.global_mean = y.mean()\n",
        "        data = pd.concat((X, pd.DataFrame(y)), axis=1)\n",
        "\n",
        "        for column in self.columns:\n",
        "            gb = data.groupby(column)['income']\n",
        "            self.encoders[column] = (gb.sum() + self.C * self.global_mean) / (gb.count() + self.C)\n",
        "\n",
        "        return self\n",
        "\n",
        "    def transform(self, X):\n",
        "        X = X.copy()\n",
        "\n",
        "        for column in self.columns:\n",
        "            X[column] = X[column].map(self.encoders[column]).fillna(self.global_mean)\n",
        "        \n",
        "        return X   "
      ]
    },
    {
      "cell_type": "code",
      "source": [
        "column_transformer = ColumnTransformer([\n",
        "    ('meantargetencoder', SmoothMeanTargetEncoder(categorical), categorical),\n",
        "    ('standardscaler', StandardScaler(), numerical)\n",
        "])\n",
        "\n",
        "pipeline = Pipeline([\n",
        "    ('transformer', column_transformer),\n",
        "    ('logreg', LogisticRegression(max_iter=300))\n",
        "])\n",
        "\n",
        "run_pipeline(pipeline, X_train, y_train, X_test, y_test)"
      ],
      "metadata": {
        "colab": {
          "base_uri": "https://localhost:8080/"
        },
        "id": "QAsROyNukpKp",
        "outputId": "7c52bd1b-080c-474e-8431-7a3bdf23a2a4"
      },
      "execution_count": 82,
      "outputs": [
        {
          "output_type": "stream",
          "name": "stdout",
          "text": [
            "Время 0.5257994300000064\n",
            "AUC-PR: 0.70544\n"
          ]
        }
      ]
    },
    {
      "cell_type": "markdown",
      "metadata": {
        "id": "TksKMbr_P75d"
      },
      "source": [
        "#### __Задание 8. И все-таки числовой?__  (0.5 балла)\n",
        "\n",
        "В данных имеются признаки \"возраст\" и \"число рабочих часов в неделю\". Сейчас мы интерпретируем их как числовые, что в общем случае для линейной модели может быть неверной гипотезой. Тем не менее, у этих признаков есть довольно много уникальных значений (сколько?), поэтому применять к ним one-hot кодирование может оказаться излишним. Попробуйте закодировать эти признаки с помощью счетчиков (вместе и по отдельности). Стало ли лучше?\n",
        "\n"
      ]
    },
    {
      "cell_type": "code",
      "execution_count": 83,
      "metadata": {
        "id": "NGE4O-alP75e",
        "colab": {
          "base_uri": "https://localhost:8080/"
        },
        "outputId": "29ba8b3a-9524-4dd5-8354-73b48dc7ed01"
      },
      "outputs": [
        {
          "output_type": "stream",
          "name": "stdout",
          "text": [
            "Кодируем Age...\n",
            "Время 0.9036367350000205\n",
            "AUC-PR: 0.71464\n",
            "\n",
            "Кодируем hours-per-week...\n",
            "Время 1.000639361000026\n",
            "AUC-PR: 0.70499\n",
            "\n",
            "Кодируем age и hours-per-week...\n",
            "Время 1.1647796909999784\n",
            "AUC-PR: 0.71338\n",
            "\n"
          ]
        }
      ],
      "source": [
        "#your code here\n",
        "def run_pipeline_with_features(categorical, numerical):\n",
        "    column_transformer = ColumnTransformer([\n",
        "        ('meantargetencoder', SmoothMeanTargetEncoder(categorical), categorical),\n",
        "        ('standardscaler', StandardScaler(), numerical)\n",
        "    ])\n",
        "\n",
        "    pipeline = Pipeline([\n",
        "        ('transformer', column_transformer),\n",
        "        ('logreg', LogisticRegression(max_iter=300))\n",
        "    ])\n",
        "\n",
        "    run_pipeline(pipeline, X_train, y_train, X_test, y_test)\n",
        "    print()\n",
        "\n",
        "print(\"Кодируем Age...\")\n",
        "run_pipeline_with_features(\n",
        "    categorical=['workclass', 'education', 'education-num', 'marital-status', 'occupation', 'relationship', 'race', 'sex', 'native-country', 'age'],\n",
        "    numerical=['fnlwgt', 'capital-gain', 'capital-loss', 'hours-per-week']\n",
        ")\n",
        "\n",
        "print(\"Кодируем hours-per-week...\")\n",
        "run_pipeline_with_features(\n",
        "    categorical=['workclass', 'education', 'education-num', 'marital-status', 'occupation', 'relationship', 'race', 'sex', 'native-country', 'hours-per-week'],\n",
        "    numerical=['age', 'fnlwgt', 'capital-gain', 'capital-loss']\n",
        ")\n",
        "\n",
        "print(\"Кодируем age и hours-per-week...\")\n",
        "run_pipeline_with_features(\n",
        "    categorical=['workclass', 'education', 'education-num', 'marital-status', 'occupation', 'relationship', 'race', 'sex', 'native-country', 'age', 'hours-per-week'],\n",
        "    numerical=['fnlwgt', 'capital-gain', 'capital-loss']\n",
        ")"
      ]
    },
    {
      "cell_type": "markdown",
      "source": [
        "стало лучше когда вместе, но не сильно, если ничего не делать."
      ],
      "metadata": {
        "id": "X48graghcP5l"
      }
    },
    {
      "cell_type": "markdown",
      "metadata": {
        "id": "2mwXyUnOP75e"
      },
      "source": [
        "> __Замечание.__ Усложнение методов вычисления счётчиков не делают результаты модели гарантированно лучше. Особенно с учётом того, что логистическая регрессия не такая сложная модель, чтобы переобучаться. Поэтому вы необязательно должны были получать на каждом шаге всё лучшие и лучшие результаты (но необходимые результаты у вас должны были получиться).\n",
        "\n",
        "Как мы могли пронаблюдать, счётчики являются конкурентной альтернативой one-hot-кодированию. Опишите, какие плюсы и минусы использования счётчиков по сравнению с one-hot-кодированием вы заметили.\n",
        "\n",
        "__Ответ:__ mean_target_encoder чаще переобучается, но если поиграться, то можно это исправить. one-hot encoder генерит больше признаков и увеличивает модель, но в среднем так же или даже лучше работает."
      ]
    },
    {
      "cell_type": "markdown",
      "metadata": {
        "id": "_oU4I7HjP75f"
      },
      "source": [
        "# Часть 3. Отбор признаков"
      ]
    },
    {
      "cell_type": "markdown",
      "metadata": {
        "id": "JKb6BsQMP75f"
      },
      "source": [
        "Важной частью процесса построения модели является отбор признаков. На практике многие признаки оказывают малое влияние на модель (при этом их расчёт занимает время) или даже негативно сказываются на качестве модели. Попробуем несколько подходов отбора признаков, оценим, как они влияют на качество модели и сколько времени занимают.\n",
        "\n",
        "Обратимся к тем же данным про предсказание дохода."
      ]
    },
    {
      "cell_type": "code",
      "execution_count": 84,
      "metadata": {
        "id": "k-_L9TJ8P75f"
      },
      "outputs": [],
      "source": [
        "columns = ['age', 'workclass', 'fnlwgt', 'education', \n",
        "           'education-num', 'marital-status', 'occupation',\n",
        "           'relationship', 'race', 'sex', 'capital-gain', \n",
        "           'capital-loss', 'hours-per-week', 'native-country',\n",
        "           'income']\n",
        "\n",
        "df = pd.read_csv('adult.data', header=None, names=columns)\n",
        "df['income'] = (df['income'] != \" <=50K\").astype('int32')"
      ]
    },
    {
      "cell_type": "markdown",
      "metadata": {
        "id": "iGqys4ZpiXjr"
      },
      "source": [
        "Разделите выборку на обучающую и тестовую в соотношении 3:1. Зафиксируйте `random_state=777`, также используйте `stratify`. "
      ]
    },
    {
      "cell_type": "code",
      "execution_count": 85,
      "metadata": {
        "id": "M2TT35c_iYc-"
      },
      "outputs": [],
      "source": [
        "#your code here\n",
        "X_train, X_test = train_test_split(df, test_size=0.25, random_state=777, stratify=df['income'])\n",
        "y_train, y_test = X_train['income'], X_test['income']\n",
        "X_train.drop('income', axis=1, inplace=True)\n",
        "X_test.drop('income', axis=1, inplace=True)"
      ]
    },
    {
      "cell_type": "markdown",
      "metadata": {
        "id": "-uAlw2X-P75f"
      },
      "source": [
        "Давайте закодируем все категориальные признаки с помощью One-hot Encoding, считая возраст и число часов числовыми. Сколько новых признаков мы получим?"
      ]
    },
    {
      "cell_type": "code",
      "execution_count": 86,
      "metadata": {
        "id": "ILg-JGugP75f",
        "colab": {
          "base_uri": "https://localhost:8080/"
        },
        "outputId": "a8ea246b-9a96-4f7b-ffac-eec0a0bc62f7"
      },
      "outputs": [
        {
          "output_type": "stream",
          "name": "stdout",
          "text": [
            "Время 0.4175334540000222\n",
            "AUC-PR: 0.56963\n",
            "Из 9 категориальных сделали 118 признаков после one-hot encoding\n"
          ]
        }
      ],
      "source": [
        "#your code here\n",
        "\n",
        "column_transformer = ColumnTransformer([\n",
        "    ('ohe', OneHotEncoder(), categorical),\n",
        "    ('other', 'passthrough', numerical)\n",
        "    #('standardscaler', StandardScaler(), numerical)\n",
        "])\n",
        "\n",
        "pipeline = Pipeline([\n",
        "    ('transformer', column_transformer),\n",
        "    ('logreg', LogisticRegression(max_iter=300))\n",
        "])\n",
        "\n",
        "run_pipeline(pipeline, X_train, y_train, X_test, y_test)\n",
        "print(f\"Из {len(categorical)} категориальных сделали {column_transformer.named_transformers_['ohe'].get_feature_names_out().shape[0]} признаков после one-hot encoding\")"
      ]
    },
    {
      "cell_type": "markdown",
      "metadata": {
        "id": "kq-XZwf3P75g"
      },
      "source": [
        "В качестве основной модели будем использовать логистическую регрессию, а целевой метрики — `AUC-PR`. Обучите модель и посчитайте качество на тестовой выборке. Давайте запомним полученное значение."
      ]
    },
    {
      "cell_type": "markdown",
      "metadata": {
        "id": "QD7jIiDeP75g"
      },
      "source": [
        "#### __Задание 9. Встроенные методы (0.5 балла)__"
      ]
    },
    {
      "cell_type": "markdown",
      "metadata": {
        "id": "bf2T9xtUP75g"
      },
      "source": [
        "Допустим, мы хотим оставить только 40 лучших признаков. Попробуем сделать это несколькими способами.\n",
        "\n",
        "Начнём с отборам признаков с помощью линейной модели. Как известно, веса линейной модели означают вклад каждого признака в предсказание модели, а значит, модуль этого вклада можно интерпретировать как важность признаков. Такой метод отбора называются встроенным или embedded method, так как он заложен в особенности модели.\n",
        "\n",
        "Оставьте 40 признаков с наибольшим модулем соответствующего параметра линейной модели. Обучите модели заново и оцените её качество. Замерьте скорость такого отбора признаков.\n",
        "\n"
      ]
    },
    {
      "cell_type": "code",
      "source": [
        "from sklearn.feature_selection import SelectFromModel"
      ],
      "metadata": {
        "id": "sahdi5Ts05st"
      },
      "execution_count": 87,
      "outputs": []
    },
    {
      "cell_type": "code",
      "execution_count": 88,
      "metadata": {
        "id": "wqOH9EunP75g",
        "colab": {
          "base_uri": "https://localhost:8080/"
        },
        "outputId": "3ab14108-bbfd-40a3-bd36-604fb93e3c4f"
      },
      "outputs": [
        {
          "output_type": "stream",
          "name": "stdout",
          "text": [
            "Выбранные признаки:\n",
            "['ohe__workclass_ ?' 'ohe__workclass_ Private' 'ohe__education_ 11th'\n",
            " 'ohe__education_ Bachelors' 'ohe__education_ HS-grad'\n",
            " 'ohe__education_ Masters' 'ohe__education_ Some-college'\n",
            " 'ohe__education-num_7' 'ohe__education-num_9' 'ohe__education-num_10'\n",
            " 'ohe__education-num_13' 'ohe__education-num_14'\n",
            " 'ohe__marital-status_ Divorced' 'ohe__marital-status_ Married-civ-spouse'\n",
            " 'ohe__marital-status_ Never-married' 'ohe__marital-status_ Separated'\n",
            " 'ohe__marital-status_ Widowed' 'ohe__occupation_ ?'\n",
            " 'ohe__occupation_ Adm-clerical' 'ohe__occupation_ Craft-repair'\n",
            " 'ohe__occupation_ Exec-managerial' 'ohe__occupation_ Farming-fishing'\n",
            " 'ohe__occupation_ Handlers-cleaners' 'ohe__occupation_ Machine-op-inspct'\n",
            " 'ohe__occupation_ Other-service' 'ohe__occupation_ Prof-specialty'\n",
            " 'ohe__relationship_ Husband' 'ohe__relationship_ Not-in-family'\n",
            " 'ohe__relationship_ Other-relative' 'ohe__relationship_ Own-child'\n",
            " 'ohe__relationship_ Unmarried' 'ohe__relationship_ Wife'\n",
            " 'ohe__race_ Black' 'ohe__race_ White' 'ohe__sex_ Female'\n",
            " 'ohe__native-country_ United-States' 'other__age' 'other__capital-gain'\n",
            " 'other__capital-loss' 'other__hours-per-week']\n",
            "Время 2.529143339999962\n",
            "AUC-PR: 0.70160\n"
          ]
        },
        {
          "output_type": "stream",
          "name": "stderr",
          "text": [
            "/usr/local/lib/python3.7/dist-packages/sklearn/linear_model/_logistic.py:818: ConvergenceWarning: lbfgs failed to converge (status=1):\n",
            "STOP: TOTAL NO. of ITERATIONS REACHED LIMIT.\n",
            "\n",
            "Increase the number of iterations (max_iter) or scale the data as shown in:\n",
            "    https://scikit-learn.org/stable/modules/preprocessing.html\n",
            "Please also refer to the documentation for alternative solver options:\n",
            "    https://scikit-learn.org/stable/modules/linear_model.html#logistic-regression\n",
            "  extra_warning_msg=_LOGISTIC_SOLVER_CONVERGENCE_MSG,\n"
          ]
        }
      ],
      "source": [
        "#your code here\n",
        "start_time = time.perf_counter()\n",
        "\n",
        "n_features = 40\n",
        "threshold = np.sort(np.abs(pipeline.named_steps['logreg'].coef_))[0][-n_features]\n",
        "\n",
        "selector = SelectFromModel(pipeline.named_steps['logreg'], threshold=threshold)\n",
        "X_train2 = selector.fit_transform(column_transformer.transform(X_train), y_train)\n",
        "X_test2 = selector.transform(column_transformer.transform(X_test))\n",
        "\n",
        "clf = LogisticRegression(max_iter=500).fit(X_train2, y_train)\n",
        "\n",
        "end_time = time.perf_counter()\n",
        "\n",
        "print(\"Выбранные признаки:\")\n",
        "print(selector.get_feature_names_out(input_features=column_transformer.get_feature_names_out()))\n",
        "print(f\"Время {end_time - start_time}\")\n",
        "print(f\"AUC-PR: %.5f\" % auc_pr_score(y_test, clf.predict(X_test2)))"
      ]
    },
    {
      "cell_type": "markdown",
      "metadata": {
        "id": "CCmtS99eVVrC"
      },
      "source": [
        "Изменилось ли качество? Как?"
      ]
    },
    {
      "cell_type": "markdown",
      "source": [
        "Стало круче."
      ],
      "metadata": {
        "id": "QNfQ6u7kc5lQ"
      }
    },
    {
      "cell_type": "markdown",
      "metadata": {
        "id": "E5y5hVyYP75h"
      },
      "source": [
        "Подумаем, что мы не учли. Мы действовали в предположении, что признаки вносят вклад равномерно, и не учитывали их масштаб. Если мы умножим один из признаков в 100 раз, то без учёта регуляризации его вес уменьшится в эти же 100 раз. А мы на основе этого отбираем признаки! Давайте сначала отмасштабируем признаки одним из способов, а только потом будем удалять признаки. \n",
        "\n",
        "Кстати, в таком случае надо пересчитать качество на всех признаках (сделайте это ниже). Если вы сделали нормирование признаков в самом начале, то попробуйте отобрать признаки на неотмасштабированных данных.\n",
        "\n",
        "Что получилось?"
      ]
    },
    {
      "cell_type": "code",
      "execution_count": 89,
      "metadata": {
        "id": "qXytEuBgP75h",
        "colab": {
          "base_uri": "https://localhost:8080/"
        },
        "outputId": "1d88a28e-dab3-4686-c983-1d9970856f3b"
      },
      "outputs": [
        {
          "output_type": "stream",
          "name": "stdout",
          "text": [
            "Время 1.143088846000012\n",
            "AUC-PR: 0.71885\n"
          ]
        }
      ],
      "source": [
        "#your code here\n",
        "#your code here\n",
        "\n",
        "column_transformer = ColumnTransformer([\n",
        "    ('ohe', OneHotEncoder(), categorical),\n",
        "    ('standardscaler', StandardScaler(), numerical)\n",
        "])\n",
        "\n",
        "pipeline = Pipeline([\n",
        "    ('transformer', column_transformer),\n",
        "    ('logreg', LogisticRegression(max_iter=300))\n",
        "])\n",
        "\n",
        "run_pipeline(pipeline, X_train, y_train, X_test, y_test)"
      ]
    },
    {
      "cell_type": "code",
      "source": [
        "start_time = time.perf_counter()\n",
        "\n",
        "n_features = 40\n",
        "threshold = np.sort(np.abs(pipeline.named_steps['logreg'].coef_))[0][-n_features]\n",
        "\n",
        "selector = SelectFromModel(pipeline.named_steps['logreg'], threshold=threshold)\n",
        "X_train2 = selector.fit_transform(column_transformer.transform(X_train), y_train)\n",
        "X_test2 = selector.transform(column_transformer.transform(X_test))\n",
        "\n",
        "clf = LogisticRegression(max_iter=500).fit(X_train2, y_train)\n",
        "\n",
        "end_time = time.perf_counter()\n",
        "\n",
        "print(\"Выбранные признаки:\")\n",
        "print(selector.get_feature_names_out(input_features=column_transformer.get_feature_names_out()))\n",
        "print(f\"Время {end_time - start_time}\")\n",
        "print(f\"AUC-PR: %.5f\" % auc_pr_score(y_test, clf.predict(X_test2)))"
      ],
      "metadata": {
        "colab": {
          "base_uri": "https://localhost:8080/"
        },
        "id": "sdN2bXqqBtvw",
        "outputId": "2435b85f-32e3-452c-ed13-6fc230a34a89"
      },
      "execution_count": 90,
      "outputs": [
        {
          "output_type": "stream",
          "name": "stdout",
          "text": [
            "Выбранные признаки:\n",
            "['ohe__workclass_ Federal-gov' 'ohe__workclass_ Without-pay'\n",
            " 'ohe__education_ 7th-8th' 'ohe__education_ Bachelors'\n",
            " 'ohe__education_ Doctorate' 'ohe__education_ Masters'\n",
            " 'ohe__education_ Preschool' 'ohe__education_ Prof-school'\n",
            " 'ohe__education-num_1' 'ohe__education-num_4' 'ohe__education-num_13'\n",
            " 'ohe__education-num_14' 'ohe__education-num_15' 'ohe__education-num_16'\n",
            " 'ohe__marital-status_ Married-AF-spouse'\n",
            " 'ohe__marital-status_ Married-civ-spouse'\n",
            " 'ohe__marital-status_ Married-spouse-absent'\n",
            " 'ohe__marital-status_ Never-married' 'ohe__marital-status_ Separated'\n",
            " 'ohe__occupation_ Exec-managerial' 'ohe__occupation_ Farming-fishing'\n",
            " 'ohe__occupation_ Other-service' 'ohe__occupation_ Priv-house-serv'\n",
            " 'ohe__occupation_ Prof-specialty' 'ohe__occupation_ Protective-serv'\n",
            " 'ohe__occupation_ Tech-support' 'ohe__relationship_ Other-relative'\n",
            " 'ohe__relationship_ Own-child' 'ohe__relationship_ Wife'\n",
            " 'ohe__native-country_ Cambodia' 'ohe__native-country_ Canada'\n",
            " 'ohe__native-country_ Columbia' 'ohe__native-country_ Dominican-Republic'\n",
            " 'ohe__native-country_ France' 'ohe__native-country_ Germany'\n",
            " 'ohe__native-country_ Italy' 'ohe__native-country_ Nicaragua'\n",
            " 'ohe__native-country_ Outlying-US(Guam-USVI-etc)'\n",
            " 'ohe__native-country_ Philippines' 'standardscaler__capital-gain']\n",
            "Время 1.5193931919999955\n",
            "AUC-PR: 0.68096\n"
          ]
        }
      ]
    },
    {
      "cell_type": "markdown",
      "source": [
        "Со скейлингом изначально хорошо, после преобразований хуже."
      ],
      "metadata": {
        "id": "MO7uddJIc9SL"
      }
    },
    {
      "cell_type": "markdown",
      "metadata": {
        "id": "OLZJRpxjP75h"
      },
      "source": [
        "Вопрос на засыпку: one-hot кодирование возвращает нам единичные признаки-индикаторы. Попробуйте также отскалировать их, как и обычные числовые, и снова выбрать 40 главных по вкладу признаков. Изменился ли их список? Изменится ли качество?"
      ]
    },
    {
      "cell_type": "code",
      "execution_count": 91,
      "metadata": {
        "id": "VpGE8ll5P75h",
        "colab": {
          "base_uri": "https://localhost:8080/"
        },
        "outputId": "077f464e-5cc5-4f97-ece2-82f09030a8a7"
      },
      "outputs": [
        {
          "output_type": "stream",
          "name": "stdout",
          "text": [
            "Выбранные признаки:\n",
            "['ohe__workclass_ Self-emp-not-inc' 'ohe__workclass_ Without-pay'\n",
            " 'ohe__education_ 10th' 'ohe__education_ 11th' 'ohe__education_ 7th-8th'\n",
            " 'ohe__education_ HS-grad' 'ohe__education_ Preschool'\n",
            " 'ohe__education-num_1' 'ohe__education-num_4' 'ohe__education-num_6'\n",
            " 'ohe__education-num_7' 'ohe__education-num_9'\n",
            " 'ohe__marital-status_ Divorced' 'ohe__marital-status_ Married-civ-spouse'\n",
            " 'ohe__marital-status_ Married-spouse-absent'\n",
            " 'ohe__marital-status_ Never-married' 'ohe__marital-status_ Separated'\n",
            " 'ohe__marital-status_ Widowed' 'ohe__occupation_ Exec-managerial'\n",
            " 'ohe__occupation_ Farming-fishing' 'ohe__occupation_ Handlers-cleaners'\n",
            " 'ohe__occupation_ Other-service' 'ohe__occupation_ Priv-house-serv'\n",
            " 'ohe__relationship_ Husband' 'ohe__relationship_ Not-in-family'\n",
            " 'ohe__relationship_ Other-relative' 'ohe__relationship_ Own-child'\n",
            " 'ohe__relationship_ Wife' 'ohe__race_ Black' 'ohe__race_ White'\n",
            " 'ohe__sex_ Female' 'ohe__native-country_ Columbia'\n",
            " 'ohe__native-country_ Dominican-Republic' 'ohe__native-country_ Mexico'\n",
            " 'ohe__native-country_ Outlying-US(Guam-USVI-etc)'\n",
            " 'ohe__native-country_ United-States' 'standardscaler__age'\n",
            " 'standardscaler__capital-gain' 'standardscaler__capital-loss'\n",
            " 'standardscaler__hours-per-week']\n",
            "Время 1.990410450000013\n",
            "AUC-PR: 0.68030\n"
          ]
        }
      ],
      "source": [
        "#your code here\n",
        "start_time = time.perf_counter()\n",
        "\n",
        "X_train2 = column_transformer.transform(X_train)\n",
        "X_test2 = column_transformer.transform(X_test)\n",
        "\n",
        "scaler = StandardScaler(with_mean=False).fit(X_train2, y_train)\n",
        "X_train2 = scaler.transform(X_train2)\n",
        "X_test2 = scaler.transform(X_test2)\n",
        "\n",
        "clf = LogisticRegression(max_iter=500).fit(X_train2, y_train)\n",
        "\n",
        "n_features = 40\n",
        "threshold = np.sort(np.abs(clf.coef_))[0][-n_features]\n",
        "\n",
        "selector = SelectFromModel(clf, threshold=threshold)\n",
        "X_train2 = selector.fit_transform(X_train2, y_train)\n",
        "X_test2 = selector.transform(X_test2)\n",
        "\n",
        "clf = LogisticRegression(max_iter=500).fit(X_train2, y_train)\n",
        "\n",
        "end_time = time.perf_counter()\n",
        "\n",
        "print(\"Выбранные признаки:\")\n",
        "print(selector.get_feature_names_out(input_features=column_transformer.get_feature_names_out()))\n",
        "print(f\"Время {end_time - start_time}\")\n",
        "print(f\"AUC-PR: %.5f\" % auc_pr_score(y_test, clf.predict(X_test2)))\n",
        "\n"
      ]
    },
    {
      "cell_type": "markdown",
      "source": [
        "Список изменился, особо лучше не стало."
      ],
      "metadata": {
        "id": "0M6gZAaEdEEA"
      }
    },
    {
      "cell_type": "markdown",
      "metadata": {
        "id": "3nK78Ag2P75i"
      },
      "source": [
        "#### __Задание 10. Методы фильтрации (0.5 балла)__\n",
        "\n",
        "\n",
        "Давайте отбирать признаки умнее, а именно через подсчёт некоторой функции для каждого признака. На основании значений этой функции будем оставлять наиболее важные признаки. Методы этого семейства называют фильтрующими или  filter methods. \n",
        "\n",
        "В качестве такой функции будем считать t-статистику:\n",
        "\n",
        "$$t(j) = \\frac{|\\mu_+ - \\mu_-|}{\\sqrt{\\frac{n_+ \\sigma^2_+ + n_- \\sigma^2_-}{n_+ + n_-}}},$$\n",
        "\n",
        "где $\\mu$, $\\sigma$, $n$ соответственно среднее, стандартное отклонение и количество объектов каждого из классов.\n",
        "\n",
        "Оставьте 40 признаков с наибольшим значением $t$, замерьте качество и скорость отбора признаков.\n",
        "\n"
      ]
    },
    {
      "cell_type": "code",
      "source": [
        "def t_stat(X, y):\n",
        "    mask = y == 1\n",
        "\n",
        "    pos = X[mask]\n",
        "    neg = X[~mask]\n",
        "\n",
        "    return np.abs(pos.mean(axis=0) - neg.mean(axis=0)) / np.sqrt((pos.shape[0] * np.var(pos, axis=0) + neg.shape[0] * np.var(neg, axis=0)) / y.shape[0])"
      ],
      "metadata": {
        "id": "w5aPsBEUJJbQ"
      },
      "execution_count": 92,
      "outputs": []
    },
    {
      "cell_type": "code",
      "execution_count": 93,
      "metadata": {
        "id": "0snv1D-hP75i",
        "colab": {
          "base_uri": "https://localhost:8080/"
        },
        "outputId": "9f0adf2e-e4c3-4dc1-bc6f-d6c90bd68f7d"
      },
      "outputs": [
        {
          "output_type": "stream",
          "name": "stdout",
          "text": [
            "Выбранные признаки:\n",
            "['ohe__workclass_ ?' 'ohe__workclass_ Private'\n",
            " 'ohe__workclass_ Self-emp-inc' 'ohe__education_ 10th'\n",
            " 'ohe__education_ 11th' 'ohe__education_ Bachelors'\n",
            " 'ohe__education_ Doctorate' 'ohe__education_ HS-grad'\n",
            " 'ohe__education_ Masters' 'ohe__education_ Prof-school'\n",
            " 'ohe__education-num_6' 'ohe__education-num_7' 'ohe__education-num_9'\n",
            " 'ohe__education-num_13' 'ohe__education-num_14' 'ohe__education-num_15'\n",
            " 'ohe__education-num_16' 'ohe__marital-status_ Divorced'\n",
            " 'ohe__marital-status_ Married-civ-spouse'\n",
            " 'ohe__marital-status_ Never-married' 'ohe__marital-status_ Separated'\n",
            " 'ohe__occupation_ ?' 'ohe__occupation_ Adm-clerical'\n",
            " 'ohe__occupation_ Exec-managerial' 'ohe__occupation_ Handlers-cleaners'\n",
            " 'ohe__occupation_ Other-service' 'ohe__occupation_ Prof-specialty'\n",
            " 'ohe__relationship_ Husband' 'ohe__relationship_ Not-in-family'\n",
            " 'ohe__relationship_ Other-relative' 'ohe__relationship_ Own-child'\n",
            " 'ohe__relationship_ Unmarried' 'ohe__relationship_ Wife'\n",
            " 'ohe__race_ Black' 'ohe__race_ White' 'ohe__sex_ Female' 'ohe__sex_ Male'\n",
            " 'standardscaler__age' 'standardscaler__capital-gain'\n",
            " 'standardscaler__capital-loss' 'standardscaler__hours-per-week']\n",
            "Время 0.6962072009999929\n",
            "AUC-PR: 0.70020\n"
          ]
        }
      ],
      "source": [
        "#your code here\n",
        "start_time = time.perf_counter()\n",
        "\n",
        "column_transformer = ColumnTransformer([\n",
        "    ('ohe', OneHotEncoder(), categorical),\n",
        "    ('standardscaler', StandardScaler(), numerical)\n",
        "])\n",
        "\n",
        "X_train2 = column_transformer.fit_transform(X_train, y_train)\n",
        "X_test2 = column_transformer.transform(X_test)\n",
        "\n",
        "t_stats = np.asarray(t_stat(X_train2.todense(), y_train)).flatten()\n",
        "n_features = 40\n",
        "threshold = np.sort(t_stats)[-n_features]\n",
        "\n",
        "mask = t_stats >= threshold\n",
        "\n",
        "clf = LogisticRegression(max_iter=500).fit(X_train2[:, mask], y_train)\n",
        "\n",
        "end_time = time.perf_counter()\n",
        "\n",
        "print(\"Выбранные признаки:\")\n",
        "print(column_transformer.get_feature_names_out()[mask])\n",
        "print(f\"Время {end_time - start_time}\")\n",
        "print(f\"AUC-PR: %.5f\" % auc_pr_score(y_test, clf.predict(X_test2[:, mask])))"
      ]
    },
    {
      "cell_type": "markdown",
      "source": [
        "Хорошо прям."
      ],
      "metadata": {
        "id": "YUnuo8VKdIvl"
      }
    },
    {
      "cell_type": "markdown",
      "metadata": {
        "id": "zO63RNCLP75i"
      },
      "source": [
        "#### __Задание 11. Методы-обёртки__ (1 балл) \n",
        "\n",
        "Третий из рассматриваемых нами методов работает следующим образом: мы исключаем по очереди один из признаков и смотрим, как это влияет на качество. Удаляем признаки таким жадным способом, пока не окажется выполненым некоторое условие (количество признаков или ухудшение качества). Более конкретно, на каждом шаге мы будем удалять такой признак $j$, что качество модели на множестве оставшихся признаков без $j$ максимально, то есть удалять мы будем наиболее бесполезный признак.\n",
        "\n",
        "Заметим, что нельзя оценивать качество по тестовой выборке, иначе мы можем переобучиться, как, например, при настройке гиперпараметров. Разделите обучающую выборку на 2 части, на одной из них обучайте модель без одного из признаков,  на второй части оценивайте качество. Исходную тестовую выборку стоит использовать только для финальной оценки качества.\n",
        "\n",
        "Снова оставьте только 40 признаков и оцените качество на тестовой выборке. Сколько времени занял такой отбор признаков?"
      ]
    },
    {
      "cell_type": "code",
      "execution_count": 94,
      "metadata": {
        "id": "ISGdzDQQP75j"
      },
      "outputs": [],
      "source": [
        "#your code here\n",
        "column_transformer = ColumnTransformer([\n",
        "    ('ohe', OneHotEncoder(), categorical),\n",
        "    ('standardscaler', StandardScaler(), numerical)\n",
        "])\n",
        "\n",
        "X_train2 = column_transformer.fit_transform(X_train, y_train)\n",
        "X_test2 = column_transformer.transform(X_test)\n",
        "X_train2, X_val2, y_train2, y_val2 = train_test_split(X_train2, y_train, test_size=0.1, random_state=777)\n",
        "\n",
        "def greedy_search(X_train, X_val, y_train, y_val):\n",
        "    X_train = X_train.todense().copy()\n",
        "    X_val = X_val.todense().copy()\n",
        "\n",
        "    num_features = 40\n",
        "\n",
        "    while X_train.shape[1] > num_features:\n",
        "        print(\"n_features\", X_train.shape[1])\n",
        "\n",
        "        auc_prs = []\n",
        "\n",
        "        for j in range(X_train.shape[1]):\n",
        "            X_train_cp = np.delete(X_train, j, axis=1)\n",
        "            X_val_cp = np.delete(X_val, j, axis=1)\n",
        "\n",
        "            clf = LogisticRegression(max_iter=500).fit(X_train_cp, y_train)\n",
        "            precision, recall, _ = precision_recall_curve(y_val, clf.predict(X_val_cp))\n",
        "            auc_pr_val = auc(recall, precision)\n",
        "            auc_prs += [auc_pr_val]\n",
        "        \n",
        "        index = np.argmin(auc_prs)\n",
        "\n",
        "        X_train = np.delete(X_train, index, axis=1)\n",
        "        X_val = np.delete(X_val, index, axis=1)\n",
        "    \n",
        "    return X_train, X_val\n",
        "\n",
        "#X_train_g, X_val_g = greedy_search(X_train2, X_val2, y_train2, y_val2)"
      ]
    },
    {
      "cell_type": "code",
      "source": [
        "\n",
        "#clf = LogisticRegression(max_iter=500).fit(X_train_g, y_train)\n",
        "#precision, recall, _ = precision_recall_curve(y_val, clf.predict(X_test))\n",
        "#auc_pr_val = auc(recall, precision)"
      ],
      "metadata": {
        "id": "W6ZF16vTZxFu"
      },
      "execution_count": 64,
      "outputs": []
    },
    {
      "cell_type": "markdown",
      "source": [
        "Оно очень долго считалось, > 30 минут. В целом смысла большого это делать нет."
      ],
      "metadata": {
        "id": "y78AJpNadNpE"
      }
    },
    {
      "cell_type": "markdown",
      "metadata": {
        "id": "1AEL4z61P75j"
      },
      "source": [
        "Стоит отметить, что с помощью такого метода можно пойти и в обратную сторону. Попробуйте _добавлять_ по одному самому полезному признаку в выборку до тех пор, пока не наберется 40 штук. Найдется ли порог, при котором добавление следующих признаков будет только ухудшать качество модели?"
      ]
    },
    {
      "cell_type": "code",
      "execution_count": null,
      "metadata": {
        "id": "ZzF8TzVFP75j"
      },
      "outputs": [],
      "source": [
        "#your code here"
      ]
    },
    {
      "cell_type": "markdown",
      "metadata": {
        "id": "wj6a-BERP75j"
      },
      "source": [
        "Давайте подведём итоги по отбору признаков. Назовите преимущества и недостатки каждого из методов. Какой метод привёл к наилучшему качеству?\n",
        "\n",
        "**Ответ:** фильтрующие методы быстрые и хорошо работают. Вручную отбирать легко концептуально, но работает так себе. Жадный алгоритм очень долгий, его плюсы нивелируется этим фактом."
      ]
    },
    {
      "cell_type": "markdown",
      "metadata": {
        "id": "zrR06pp7P75k"
      },
      "source": [
        "# Часть 4. Оценка экономического эффекта модели\n",
        "\n",
        "> В данной части мы займемся тем, что от вас скорее всего потребуется на реальной работе (помимо перекладки `json`, разумеется). А именно: \n",
        "- мы соберем несколько специализированных метрик качества,\n",
        "- попытаемся настроить модель на максимизацию _прибыли_,\n",
        "- оценим, сколько вообще получится заработать на этом.\n",
        "\n",
        "> Разумеется, здесь будет сделано множество упрощающих жизнь допущений, но обо всем по порядку. Если вы всё прослушали на экономике, то напомним, что выручка — это сколько денег нам принесли клиенты, а прибыль — выручка за вычетом расходов на зарплату и прочее."
      ]
    },
    {
      "cell_type": "markdown",
      "metadata": {
        "id": "NQkW5Xh6yip2"
      },
      "source": [
        "\n",
        "#### __Задание 12. Прогноз по доходам и расходам__ (1 балл)\n",
        "\n",
        "В этой части мы будем работать с данными [UCI Bank Marketing Dataset](https://archive.ics.uci.edu/ml/datasets/bank+marketing). Этот датасет содержит информацию о банковском телефонном маркетинге.\n",
        "\n",
        "__Объектом__ здесь является телефонный звонок потенциальному клиенту с предложением некоторой услуги (утверждается, что это краткосрочный депозит). В качестве признакового описания используются характеристики клиента (образование, брак и т.д.), данные о звонке и различные экономические индикаторы - более подробная информация представлена в файле `bank-additional-names.txt`.\n",
        "__Целевая переменная__ - ответ клиента (согласился ли он открыть депозит?)"
      ]
    },
    {
      "cell_type": "code",
      "execution_count": 95,
      "metadata": {
        "id": "e9WBqQd1aAjp"
      },
      "outputs": [],
      "source": [
        "#!wget https://archive.ics.uci.edu/ml/machine-learning-databases/00222/bank-additional.zip\n",
        "#!unzip bank-additional.zip\n",
        "df = pd.read_csv('bank-additional/bank-additional-full.csv', sep=';')"
      ]
    },
    {
      "cell_type": "code",
      "execution_count": 96,
      "metadata": {
        "id": "Gbw5k7lMaYT1",
        "colab": {
          "base_uri": "https://localhost:8080/",
          "height": 270
        },
        "outputId": "57d6ae01-d85c-4861-d512-bb143c97c76d"
      },
      "outputs": [
        {
          "output_type": "execute_result",
          "data": {
            "text/plain": [
              "   age        job  marital    education  default housing loan    contact  \\\n",
              "0   56  housemaid  married     basic.4y       no      no   no  telephone   \n",
              "1   57   services  married  high.school  unknown      no   no  telephone   \n",
              "2   37   services  married  high.school       no     yes   no  telephone   \n",
              "3   40     admin.  married     basic.6y       no      no   no  telephone   \n",
              "4   56   services  married  high.school       no      no  yes  telephone   \n",
              "\n",
              "  month day_of_week  duration  campaign  pdays  previous     poutcome  \\\n",
              "0   may         mon       261         1    999         0  nonexistent   \n",
              "1   may         mon       149         1    999         0  nonexistent   \n",
              "2   may         mon       226         1    999         0  nonexistent   \n",
              "3   may         mon       151         1    999         0  nonexistent   \n",
              "4   may         mon       307         1    999         0  nonexistent   \n",
              "\n",
              "   emp.var.rate  cons.price.idx  cons.conf.idx  euribor3m  nr.employed   y  \n",
              "0           1.1          93.994          -36.4      4.857       5191.0  no  \n",
              "1           1.1          93.994          -36.4      4.857       5191.0  no  \n",
              "2           1.1          93.994          -36.4      4.857       5191.0  no  \n",
              "3           1.1          93.994          -36.4      4.857       5191.0  no  \n",
              "4           1.1          93.994          -36.4      4.857       5191.0  no  "
            ],
            "text/html": [
              "\n",
              "  <div id=\"df-1307f3b4-ae16-412e-9c87-b860d23f61a1\">\n",
              "    <div class=\"colab-df-container\">\n",
              "      <div>\n",
              "<style scoped>\n",
              "    .dataframe tbody tr th:only-of-type {\n",
              "        vertical-align: middle;\n",
              "    }\n",
              "\n",
              "    .dataframe tbody tr th {\n",
              "        vertical-align: top;\n",
              "    }\n",
              "\n",
              "    .dataframe thead th {\n",
              "        text-align: right;\n",
              "    }\n",
              "</style>\n",
              "<table border=\"1\" class=\"dataframe\">\n",
              "  <thead>\n",
              "    <tr style=\"text-align: right;\">\n",
              "      <th></th>\n",
              "      <th>age</th>\n",
              "      <th>job</th>\n",
              "      <th>marital</th>\n",
              "      <th>education</th>\n",
              "      <th>default</th>\n",
              "      <th>housing</th>\n",
              "      <th>loan</th>\n",
              "      <th>contact</th>\n",
              "      <th>month</th>\n",
              "      <th>day_of_week</th>\n",
              "      <th>duration</th>\n",
              "      <th>campaign</th>\n",
              "      <th>pdays</th>\n",
              "      <th>previous</th>\n",
              "      <th>poutcome</th>\n",
              "      <th>emp.var.rate</th>\n",
              "      <th>cons.price.idx</th>\n",
              "      <th>cons.conf.idx</th>\n",
              "      <th>euribor3m</th>\n",
              "      <th>nr.employed</th>\n",
              "      <th>y</th>\n",
              "    </tr>\n",
              "  </thead>\n",
              "  <tbody>\n",
              "    <tr>\n",
              "      <th>0</th>\n",
              "      <td>56</td>\n",
              "      <td>housemaid</td>\n",
              "      <td>married</td>\n",
              "      <td>basic.4y</td>\n",
              "      <td>no</td>\n",
              "      <td>no</td>\n",
              "      <td>no</td>\n",
              "      <td>telephone</td>\n",
              "      <td>may</td>\n",
              "      <td>mon</td>\n",
              "      <td>261</td>\n",
              "      <td>1</td>\n",
              "      <td>999</td>\n",
              "      <td>0</td>\n",
              "      <td>nonexistent</td>\n",
              "      <td>1.1</td>\n",
              "      <td>93.994</td>\n",
              "      <td>-36.4</td>\n",
              "      <td>4.857</td>\n",
              "      <td>5191.0</td>\n",
              "      <td>no</td>\n",
              "    </tr>\n",
              "    <tr>\n",
              "      <th>1</th>\n",
              "      <td>57</td>\n",
              "      <td>services</td>\n",
              "      <td>married</td>\n",
              "      <td>high.school</td>\n",
              "      <td>unknown</td>\n",
              "      <td>no</td>\n",
              "      <td>no</td>\n",
              "      <td>telephone</td>\n",
              "      <td>may</td>\n",
              "      <td>mon</td>\n",
              "      <td>149</td>\n",
              "      <td>1</td>\n",
              "      <td>999</td>\n",
              "      <td>0</td>\n",
              "      <td>nonexistent</td>\n",
              "      <td>1.1</td>\n",
              "      <td>93.994</td>\n",
              "      <td>-36.4</td>\n",
              "      <td>4.857</td>\n",
              "      <td>5191.0</td>\n",
              "      <td>no</td>\n",
              "    </tr>\n",
              "    <tr>\n",
              "      <th>2</th>\n",
              "      <td>37</td>\n",
              "      <td>services</td>\n",
              "      <td>married</td>\n",
              "      <td>high.school</td>\n",
              "      <td>no</td>\n",
              "      <td>yes</td>\n",
              "      <td>no</td>\n",
              "      <td>telephone</td>\n",
              "      <td>may</td>\n",
              "      <td>mon</td>\n",
              "      <td>226</td>\n",
              "      <td>1</td>\n",
              "      <td>999</td>\n",
              "      <td>0</td>\n",
              "      <td>nonexistent</td>\n",
              "      <td>1.1</td>\n",
              "      <td>93.994</td>\n",
              "      <td>-36.4</td>\n",
              "      <td>4.857</td>\n",
              "      <td>5191.0</td>\n",
              "      <td>no</td>\n",
              "    </tr>\n",
              "    <tr>\n",
              "      <th>3</th>\n",
              "      <td>40</td>\n",
              "      <td>admin.</td>\n",
              "      <td>married</td>\n",
              "      <td>basic.6y</td>\n",
              "      <td>no</td>\n",
              "      <td>no</td>\n",
              "      <td>no</td>\n",
              "      <td>telephone</td>\n",
              "      <td>may</td>\n",
              "      <td>mon</td>\n",
              "      <td>151</td>\n",
              "      <td>1</td>\n",
              "      <td>999</td>\n",
              "      <td>0</td>\n",
              "      <td>nonexistent</td>\n",
              "      <td>1.1</td>\n",
              "      <td>93.994</td>\n",
              "      <td>-36.4</td>\n",
              "      <td>4.857</td>\n",
              "      <td>5191.0</td>\n",
              "      <td>no</td>\n",
              "    </tr>\n",
              "    <tr>\n",
              "      <th>4</th>\n",
              "      <td>56</td>\n",
              "      <td>services</td>\n",
              "      <td>married</td>\n",
              "      <td>high.school</td>\n",
              "      <td>no</td>\n",
              "      <td>no</td>\n",
              "      <td>yes</td>\n",
              "      <td>telephone</td>\n",
              "      <td>may</td>\n",
              "      <td>mon</td>\n",
              "      <td>307</td>\n",
              "      <td>1</td>\n",
              "      <td>999</td>\n",
              "      <td>0</td>\n",
              "      <td>nonexistent</td>\n",
              "      <td>1.1</td>\n",
              "      <td>93.994</td>\n",
              "      <td>-36.4</td>\n",
              "      <td>4.857</td>\n",
              "      <td>5191.0</td>\n",
              "      <td>no</td>\n",
              "    </tr>\n",
              "  </tbody>\n",
              "</table>\n",
              "</div>\n",
              "      <button class=\"colab-df-convert\" onclick=\"convertToInteractive('df-1307f3b4-ae16-412e-9c87-b860d23f61a1')\"\n",
              "              title=\"Convert this dataframe to an interactive table.\"\n",
              "              style=\"display:none;\">\n",
              "        \n",
              "  <svg xmlns=\"http://www.w3.org/2000/svg\" height=\"24px\"viewBox=\"0 0 24 24\"\n",
              "       width=\"24px\">\n",
              "    <path d=\"M0 0h24v24H0V0z\" fill=\"none\"/>\n",
              "    <path d=\"M18.56 5.44l.94 2.06.94-2.06 2.06-.94-2.06-.94-.94-2.06-.94 2.06-2.06.94zm-11 1L8.5 8.5l.94-2.06 2.06-.94-2.06-.94L8.5 2.5l-.94 2.06-2.06.94zm10 10l.94 2.06.94-2.06 2.06-.94-2.06-.94-.94-2.06-.94 2.06-2.06.94z\"/><path d=\"M17.41 7.96l-1.37-1.37c-.4-.4-.92-.59-1.43-.59-.52 0-1.04.2-1.43.59L10.3 9.45l-7.72 7.72c-.78.78-.78 2.05 0 2.83L4 21.41c.39.39.9.59 1.41.59.51 0 1.02-.2 1.41-.59l7.78-7.78 2.81-2.81c.8-.78.8-2.07 0-2.86zM5.41 20L4 18.59l7.72-7.72 1.47 1.35L5.41 20z\"/>\n",
              "  </svg>\n",
              "      </button>\n",
              "      \n",
              "  <style>\n",
              "    .colab-df-container {\n",
              "      display:flex;\n",
              "      flex-wrap:wrap;\n",
              "      gap: 12px;\n",
              "    }\n",
              "\n",
              "    .colab-df-convert {\n",
              "      background-color: #E8F0FE;\n",
              "      border: none;\n",
              "      border-radius: 50%;\n",
              "      cursor: pointer;\n",
              "      display: none;\n",
              "      fill: #1967D2;\n",
              "      height: 32px;\n",
              "      padding: 0 0 0 0;\n",
              "      width: 32px;\n",
              "    }\n",
              "\n",
              "    .colab-df-convert:hover {\n",
              "      background-color: #E2EBFA;\n",
              "      box-shadow: 0px 1px 2px rgba(60, 64, 67, 0.3), 0px 1px 3px 1px rgba(60, 64, 67, 0.15);\n",
              "      fill: #174EA6;\n",
              "    }\n",
              "\n",
              "    [theme=dark] .colab-df-convert {\n",
              "      background-color: #3B4455;\n",
              "      fill: #D2E3FC;\n",
              "    }\n",
              "\n",
              "    [theme=dark] .colab-df-convert:hover {\n",
              "      background-color: #434B5C;\n",
              "      box-shadow: 0px 1px 3px 1px rgba(0, 0, 0, 0.15);\n",
              "      filter: drop-shadow(0px 1px 2px rgba(0, 0, 0, 0.3));\n",
              "      fill: #FFFFFF;\n",
              "    }\n",
              "  </style>\n",
              "\n",
              "      <script>\n",
              "        const buttonEl =\n",
              "          document.querySelector('#df-1307f3b4-ae16-412e-9c87-b860d23f61a1 button.colab-df-convert');\n",
              "        buttonEl.style.display =\n",
              "          google.colab.kernel.accessAllowed ? 'block' : 'none';\n",
              "\n",
              "        async function convertToInteractive(key) {\n",
              "          const element = document.querySelector('#df-1307f3b4-ae16-412e-9c87-b860d23f61a1');\n",
              "          const dataTable =\n",
              "            await google.colab.kernel.invokeFunction('convertToInteractive',\n",
              "                                                     [key], {});\n",
              "          if (!dataTable) return;\n",
              "\n",
              "          const docLinkHtml = 'Like what you see? Visit the ' +\n",
              "            '<a target=\"_blank\" href=https://colab.research.google.com/notebooks/data_table.ipynb>data table notebook</a>'\n",
              "            + ' to learn more about interactive tables.';\n",
              "          element.innerHTML = '';\n",
              "          dataTable['output_type'] = 'display_data';\n",
              "          await google.colab.output.renderOutput(dataTable, element);\n",
              "          const docLink = document.createElement('div');\n",
              "          docLink.innerHTML = docLinkHtml;\n",
              "          element.appendChild(docLink);\n",
              "        }\n",
              "      </script>\n",
              "    </div>\n",
              "  </div>\n",
              "  "
            ]
          },
          "metadata": {},
          "execution_count": 96
        }
      ],
      "source": [
        "df.head()"
      ]
    },
    {
      "cell_type": "code",
      "execution_count": 97,
      "metadata": {
        "id": "qmxCn_Pz3kJB"
      },
      "outputs": [],
      "source": [
        "X = df.drop(columns=['duration', 'y'])\n",
        "y = (df.y == 'yes')"
      ]
    },
    {
      "cell_type": "markdown",
      "metadata": {
        "id": "lMKgtxfwaBEQ"
      },
      "source": [
        "В этой части не нужно делить выборку - мы будем использовать кросс-валидацию.  Используйте 5 фолдов, сделайте `shuffle=True, random_state=500`. По кросс-валидации у вас получится 5 вариантов обучающей и тестовой выборки."
      ]
    },
    {
      "cell_type": "code",
      "source": [
        "from sklearn.model_selection import KFold"
      ],
      "metadata": {
        "id": "IUqbnt2LfT0n"
      },
      "execution_count": 98,
      "outputs": []
    },
    {
      "cell_type": "code",
      "execution_count": 99,
      "metadata": {
        "id": "xYPjtfnqP75k",
        "colab": {
          "base_uri": "https://localhost:8080/"
        },
        "outputId": "2717bec9-c926-4774-c82a-66f826541ba5"
      },
      "outputs": [
        {
          "output_type": "stream",
          "name": "stderr",
          "text": [
            "/usr/local/lib/python3.7/dist-packages/sklearn/linear_model/_logistic.py:818: ConvergenceWarning: lbfgs failed to converge (status=1):\n",
            "STOP: TOTAL NO. of ITERATIONS REACHED LIMIT.\n",
            "\n",
            "Increase the number of iterations (max_iter) or scale the data as shown in:\n",
            "    https://scikit-learn.org/stable/modules/preprocessing.html\n",
            "Please also refer to the documentation for alternative solver options:\n",
            "    https://scikit-learn.org/stable/modules/linear_model.html#logistic-regression\n",
            "  extra_warning_msg=_LOGISTIC_SOLVER_CONVERGENCE_MSG,\n",
            "/usr/local/lib/python3.7/dist-packages/sklearn/linear_model/_logistic.py:818: ConvergenceWarning: lbfgs failed to converge (status=1):\n",
            "STOP: TOTAL NO. of ITERATIONS REACHED LIMIT.\n",
            "\n",
            "Increase the number of iterations (max_iter) or scale the data as shown in:\n",
            "    https://scikit-learn.org/stable/modules/preprocessing.html\n",
            "Please also refer to the documentation for alternative solver options:\n",
            "    https://scikit-learn.org/stable/modules/linear_model.html#logistic-regression\n",
            "  extra_warning_msg=_LOGISTIC_SOLVER_CONVERGENCE_MSG,\n",
            "/usr/local/lib/python3.7/dist-packages/sklearn/linear_model/_logistic.py:818: ConvergenceWarning: lbfgs failed to converge (status=1):\n",
            "STOP: TOTAL NO. of ITERATIONS REACHED LIMIT.\n",
            "\n",
            "Increase the number of iterations (max_iter) or scale the data as shown in:\n",
            "    https://scikit-learn.org/stable/modules/preprocessing.html\n",
            "Please also refer to the documentation for alternative solver options:\n",
            "    https://scikit-learn.org/stable/modules/linear_model.html#logistic-regression\n",
            "  extra_warning_msg=_LOGISTIC_SOLVER_CONVERGENCE_MSG,\n",
            "/usr/local/lib/python3.7/dist-packages/sklearn/linear_model/_logistic.py:818: ConvergenceWarning: lbfgs failed to converge (status=1):\n",
            "STOP: TOTAL NO. of ITERATIONS REACHED LIMIT.\n",
            "\n",
            "Increase the number of iterations (max_iter) or scale the data as shown in:\n",
            "    https://scikit-learn.org/stable/modules/preprocessing.html\n",
            "Please also refer to the documentation for alternative solver options:\n",
            "    https://scikit-learn.org/stable/modules/linear_model.html#logistic-regression\n",
            "  extra_warning_msg=_LOGISTIC_SOLVER_CONVERGENCE_MSG,\n",
            "/usr/local/lib/python3.7/dist-packages/sklearn/linear_model/_logistic.py:818: ConvergenceWarning: lbfgs failed to converge (status=1):\n",
            "STOP: TOTAL NO. of ITERATIONS REACHED LIMIT.\n",
            "\n",
            "Increase the number of iterations (max_iter) or scale the data as shown in:\n",
            "    https://scikit-learn.org/stable/modules/preprocessing.html\n",
            "Please also refer to the documentation for alternative solver options:\n",
            "    https://scikit-learn.org/stable/modules/linear_model.html#logistic-regression\n",
            "  extra_warning_msg=_LOGISTIC_SOLVER_CONVERGENCE_MSG,\n"
          ]
        }
      ],
      "source": [
        "# your code here\n",
        "categorical = ['job', 'marital', 'education', 'default', 'housing', 'loan', 'contact', 'month', 'day_of_week', 'poutcome']\n",
        "numeric = ['age','campaign', 'pdays', 'previous', 'emp.var.rate', 'cons.price.idx', 'cons.conf.idx', 'euribor3m', 'nr.employed']\n",
        "\n",
        "column_transformer = ColumnTransformer([\n",
        "        ('categorical', OneHotEncoder(), categorical),\n",
        "        ('numeric', StandardScaler(), numeric)\n",
        "    ])\n",
        "\n",
        "fold = KFold(n_splits=5, shuffle=True, random_state=777)\n",
        "\n",
        "Xtr = column_transformer.fit_transform(X)\n",
        "y_pred = np.zeros(y.shape[0])\n",
        "model = LogisticRegression()\n",
        "\n",
        "for train_index, test_index in fold.split(Xtr):\n",
        "    model.fit(Xtr[train_index], y[train_index])\n",
        "    y_pred[test_index] = model.predict(Xtr[test_index])\n",
        "\n"
      ]
    },
    {
      "cell_type": "markdown",
      "metadata": {
        "id": "YIX-omTIyxtU"
      },
      "source": [
        "Обучите логистическую регрессию на каждой обучающей выборке (воспользуйтесь one-hot для категориальных признаков и `StandardScaler` для числовых, гиперпараметры по умолчанию) и сделайте предсказания для соответствующих тестовых выборок."
      ]
    },
    {
      "cell_type": "markdown",
      "metadata": {
        "id": "CcuHfZjfzmnt"
      },
      "source": [
        "Допустим, работники вашего колл-центра получают за один звонок клиенту 1 доллар. При согласии клиента на предлагаемые условия он принесет в банк 10 долларов. Предположим, что всем положительным прогнозам ваши сотрудники решили позвонить. Посчитайте на всех тестовых выборках выручку и усредните. Также вычислите стандартное отклонение.\n",
        "- Сколько денег вы в среднем заработаете? \n",
        "- Сколько из заработанных денег придётся отдать операторам вашего колл-центра?"
      ]
    },
    {
      "cell_type": "code",
      "execution_count": 101,
      "metadata": {
        "id": "0okqAh-AzWTX",
        "colab": {
          "base_uri": "https://localhost:8080/"
        },
        "outputId": "a6881a3b-8ede-4d20-c35f-56f5103d5e7d"
      },
      "outputs": [
        {
          "output_type": "stream",
          "name": "stdout",
          "text": [
            "[2260, 2000, 2040, 2020, 2320]\n",
            "[307.0, 310.0, 327.0, 346.0, 322.0]\n",
            "Средний заработок 2128.0\n",
            "Зарплата 322.4\n"
          ]
        }
      ],
      "source": [
        "# your code here\n",
        "revenues = []\n",
        "salaries = []\n",
        "for _, test_index in fold.split(Xtr):\n",
        "    calls_count = np.sum(y_pred[test_index])\n",
        "    multiplier = 10\n",
        "    revenue = multiplier * np.sum(y[test_index][(y_pred[test_index] == 1)])\n",
        "    \n",
        "    revenues += [revenue]\n",
        "    salaries += [calls_count]\n",
        "\n",
        "print(revenues)\n",
        "print(salaries)\n",
        "print(\"Средний заработок\", np.mean(revenues))\n",
        "print(\"Зарплата\", np.mean(salaries))"
      ]
    },
    {
      "cell_type": "markdown",
      "metadata": {
        "id": "Da1x6u6wP75k"
      },
      "source": [
        "Внесем некоторую долю случайности. Пусть теперь согласный на условия клиент будет приносить не 10 долларов, а случайную величину, равномерно распределенную в интервале $[0;20)$. Проделайте все те же самые действия. Для имитации реальной ситуации **НЕ** фиксируйте `random_seed` при подсчете выручки с клиента. Что получилось?"
      ]
    },
    {
      "cell_type": "code",
      "execution_count": 102,
      "metadata": {
        "id": "0AKmJpRAP75k",
        "colab": {
          "base_uri": "https://localhost:8080/"
        },
        "outputId": "cec6ddf2-b19c-46cd-a256-1d00abd2b3cd"
      },
      "outputs": [
        {
          "output_type": "stream",
          "name": "stdout",
          "text": [
            "Средний заработок 2129.286946723073\n",
            "Зарплата 322.4\n",
            "Средний заработок 2131.012646988116\n",
            "Зарплата 322.4\n",
            "Средний заработок 2018.4091471995714\n",
            "Зарплата 322.4\n",
            "Средний заработок 2081.3930770739325\n",
            "Зарплата 322.4\n",
            "Средний заработок 2152.157314836996\n",
            "Зарплата 322.4\n",
            "Средний заработок 2145.2405238083074\n",
            "Зарплата 322.4\n",
            "Средний заработок 2081.945966720009\n",
            "Зарплата 322.4\n",
            "Средний заработок 2135.959445309675\n",
            "Зарплата 322.4\n",
            "Средний заработок 2186.6955705821083\n",
            "Зарплата 322.4\n",
            "Средний заработок 2196.474632825987\n",
            "Зарплата 322.4\n"
          ]
        }
      ],
      "source": [
        "#your code here\n",
        "for _ in range(10):\n",
        "    revenues = []\n",
        "    salaries = []\n",
        "\n",
        "    for _, test_index in fold.split(Xtr):\n",
        "        calls_count = np.sum(y_pred[test_index])\n",
        "        size = y[test_index][(y_pred[test_index] == 1)].shape[0]\n",
        "        revenue = np.sum(y[test_index][(y_pred[test_index] == 1)] * np.random.uniform(0, 20, size))\n",
        "\n",
        "        revenues += [revenue]\n",
        "        salaries += [calls_count]\n",
        "\n",
        "    print(\"Средний заработок\", np.mean(revenues))\n",
        "    print(\"Зарплата\", np.mean(salaries))"
      ]
    },
    {
      "cell_type": "markdown",
      "metadata": {
        "id": "O1g9FPExP75k"
      },
      "source": [
        "Настройте по кросс-валидации коэффициент регуляризации модели для максимизации прибыли (считайте как случайную величину выше). Удалось ли получить какой-то выигрыш? При каком коэффициенте регуляризациии прибыль максимальна? Постройте график зависимости ожидаемой прибыли от коэффициента, укажите стандартные отклонения (вам поможет `plt.errorbar`, [пример](https://jakevdp.github.io/PythonDataScienceHandbook/04.03-errorbars.html))."
      ]
    },
    {
      "cell_type": "code",
      "source": [
        "import warnings\n",
        "from tqdm import tqdm\n",
        "warnings.filterwarnings('ignore')"
      ],
      "metadata": {
        "id": "cK8OyUajInGS"
      },
      "execution_count": 106,
      "outputs": []
    },
    {
      "cell_type": "code",
      "execution_count": 107,
      "metadata": {
        "id": "YXx7qU5PP75l",
        "colab": {
          "base_uri": "https://localhost:8080/",
          "height": 287
        },
        "outputId": "21d571db-8da2-469a-c9e3-4bb9ab484d80"
      },
      "outputs": [
        {
          "output_type": "stream",
          "name": "stderr",
          "text": [
            "100%|██████████| 5/5 [01:04<00:00, 12.88s/it]\n"
          ]
        },
        {
          "output_type": "display_data",
          "data": {
            "text/plain": [
              "<Figure size 432x288 with 1 Axes>"
            ],
            "image/png": "[encoded data removed]"
          },
          "metadata": {
            "needs_background": "light"
          }
        }
      ],
      "source": [
        "#your code here\n",
        "\n",
        "def plot_incomes():\n",
        "    C_space = np.logspace(-1, 2, 5)\n",
        "    fold = KFold(n_splits=5, shuffle=True, random_state=777)\n",
        "    pltx = []\n",
        "    plty = []\n",
        "    dy = []\n",
        "\n",
        "    for C in tqdm(C_space):\n",
        "        y_pred = np.zeros(y.shape[0])\n",
        "        model = LogisticRegression(C=C, max_iter=500)\n",
        "        revenues = []\n",
        "        salaries = []\n",
        "\n",
        "        for train_index, test_index in fold.split(Xtr):\n",
        "            model.fit(Xtr[train_index], y[train_index])\n",
        "            y_pred[test_index] = model.predict(Xtr[test_index])\n",
        "            \n",
        "            calls_count = np.sum(y_pred[test_index])\n",
        "            size = y[test_index][(y_pred[test_index] == 1)].shape[0]\n",
        "            revenue = np.sum(y[test_index][(y_pred[test_index] == 1)] * np.random.uniform(0, 20, size))\n",
        "\n",
        "            revenues += [revenue]\n",
        "            salaries += [calls_count]\n",
        "        \n",
        "        pltx += [C]\n",
        "        plty += [np.mean(revenues) - np.mean(salaries)]\n",
        "        dy += [np.std(revenues)]\n",
        "        \n",
        "    plt.errorbar(pltx, plty, dy)\n",
        "    plt.xscale('log')\n",
        "    plt.show()    \n",
        "\n",
        "plot_incomes()"
      ]
    },
    {
      "cell_type": "markdown",
      "metadata": {
        "id": "sdptRdaIP75l"
      },
      "source": [
        "Попробуйте запустить перебор несколько раз. Находится ли каждый раз один и тот же \"лучший\" коэффициент? Присутствует ли какая-то закономерность? Какие вы можете сделать из этого выводы?"
      ]
    },
    {
      "cell_type": "code",
      "execution_count": 108,
      "metadata": {
        "id": "inD5UMbGP75l",
        "colab": {
          "base_uri": "https://localhost:8080/",
          "height": 1000
        },
        "outputId": "4948089c-1240-41da-8a5a-700ac33f2cab"
      },
      "outputs": [
        {
          "output_type": "stream",
          "name": "stderr",
          "text": [
            "100%|██████████| 5/5 [01:04<00:00, 12.91s/it]\n"
          ]
        },
        {
          "output_type": "display_data",
          "data": {
            "text/plain": [
              "<Figure size 432x288 with 1 Axes>"
            ],
            "image/png": "[encoded data removed]"
          },
          "metadata": {
            "needs_background": "light"
          }
        },
        {
          "output_type": "stream",
          "name": "stderr",
          "text": [
            "100%|██████████| 5/5 [01:03<00:00, 12.61s/it]\n"
          ]
        },
        {
          "output_type": "display_data",
          "data": {
            "text/plain": [
              "<Figure size 432x288 with 1 Axes>"
            ],
            "image/png": "[encoded data removed]"
          },
          "metadata": {
            "needs_background": "light"
          }
        },
        {
          "output_type": "stream",
          "name": "stderr",
          "text": [
            "100%|██████████| 5/5 [01:00<00:00, 12.07s/it]\n"
          ]
        },
        {
          "output_type": "display_data",
          "data": {
            "text/plain": [
              "<Figure size 432x288 with 1 Axes>"
            ],
            "image/png": "[encoded data removed]"
          },
          "metadata": {
            "needs_background": "light"
          }
        },
        {
          "output_type": "stream",
          "name": "stderr",
          "text": [
            "100%|██████████| 5/5 [01:01<00:00, 12.22s/it]\n"
          ]
        },
        {
          "output_type": "display_data",
          "data": {
            "text/plain": [
              "<Figure size 432x288 with 1 Axes>"
            ],
            "image/png": "[encoded data removed]"
          },
          "metadata": {
            "needs_background": "light"
          }
        },
        {
          "output_type": "stream",
          "name": "stderr",
          "text": [
            "100%|██████████| 5/5 [00:59<00:00, 11.99s/it]\n"
          ]
        },
        {
          "output_type": "display_data",
          "data": {
            "text/plain": [
              "<Figure size 432x288 with 1 Axes>"
            ],
            "image/png": "[encoded data removed]"
          },
          "metadata": {
            "needs_background": "light"
          }
        }
      ],
      "source": [
        "#your code here\n",
        "for _ in range(5):\n",
        "    plot_incomes()"
      ]
    },
    {
      "cell_type": "markdown",
      "source": [
        "Довольно большое отклонение, какие-то выводы сделать сложно."
      ],
      "metadata": {
        "id": "VTl8MJkmd2nE"
      }
    },
    {
      "cell_type": "markdown",
      "metadata": {
        "id": "J0j8HubaP75l"
      },
      "source": [
        "#### __Задание 13. Ключевая метрика__ (1 балл)\n",
        "\n",
        "Выше мы уже описали примерную экономическую модель вашей задачи. Как вы считаете, что для вашего бизнеса важнее — хороший precision или recall модели? Почему?\n",
        "\n",
        "__Ответ:__ важнее recall, чтобы покрыть положительный класс, нам больше принесет прибыли, хоть мы и заплатим за звонок зарплату.\n",
        "\n"
      ]
    },
    {
      "cell_type": "markdown",
      "metadata": {
        "id": "4LFRNnrtP75m"
      },
      "source": [
        "> Вспомним, что на самом деле логистическая регрессия предсказывает нам вероятности положительного класса для объекта. Возможно, путем настройки __порога бинаризации__ этих вероятностей мы сможем получить какой-то выигрыш?\n",
        "\n",
        "Проверьте ваши рассуждения выше с помощью настройки порога бинаризации на кросс-валидации для максимизации прибыли. Воспользуйтесь сеткой от 0 до 1 с шагом 0.01. Напомним, что снижение порога дает нам более высокий recall и более низкий precision, и наоборот."
      ]
    },
    {
      "cell_type": "code",
      "source": [
        "from sklearn.metrics import precision_score, recall_score"
      ],
      "metadata": {
        "id": "Q3uE055QK-xq"
      },
      "execution_count": 109,
      "outputs": []
    },
    {
      "cell_type": "code",
      "execution_count": 110,
      "metadata": {
        "id": "3ALl1YeBP75m",
        "colab": {
          "base_uri": "https://localhost:8080/",
          "height": 303
        },
        "outputId": "4a0e60b5-ec61-4be7-f100-3e8fbfd09bea"
      },
      "outputs": [
        {
          "output_type": "stream",
          "name": "stdout",
          "text": [
            "[41188, 41170, 40766, 37474, 30698, 24425, 19052, 14926, 12361, 10737, 9675, 8892, 8238, 7699, 7365, 7132, 6944, 6749, 6562, 6333, 6092, 5856, 5601, 5360, 5133, 4920, 4754, 4570, 4416, 4281, 4150, 4006, 3856, 3688, 3538, 3381, 3238, 3100, 2946, 2788, 2632, 2501, 2370, 2227, 2107, 2009, 1932, 1824, 1755, 1672, 1612, 1554, 1484, 1439, 1403, 1360, 1327, 1293, 1248, 1220, 1182, 1138, 1102, 1054, 1008, 958, 915, 870, 810, 752, 694, 652, 605, 540, 480, 433, 372, 325, 283, 255, 234, 210, 186, 160, 138, 93, 69, 42, 25, 9, 1, 0, 0, 0, 0, 0, 0, 0, 0, 0]\n"
          ]
        },
        {
          "output_type": "display_data",
          "data": {
            "text/plain": [
              "<Figure size 432x288 with 1 Axes>"
            ],
            "image/png": "[encoded data removed]"
          },
          "metadata": {
            "needs_background": "light"
          }
        }
      ],
      "source": [
        "#your code here\n",
        "bin_space = np.arange(0, 1, 0.01)\n",
        "kf = KFold(n_splits=5, shuffle=True, random_state=777)\n",
        "pltx = []\n",
        "plty = []\n",
        "dy = []\n",
        "calls_counts = []\n",
        "\n",
        "for bin in bin_space:\n",
        "    y_pred = np.zeros(y.shape[0])\n",
        "    model = LogisticRegression()\n",
        "    revenues = []\n",
        "    salaries = []\n",
        "    calls_counts += [0]\n",
        "    for train_index, test_index in kf.split(Xtr):\n",
        "        model.fit(Xtr[train_index], y[train_index])\n",
        "        y_pred[test_index] = model.predict_proba(Xtr[test_index])[:, 1]\n",
        "\n",
        "        calls_count = np.count_nonzero(y_pred[test_index] >= bin)\n",
        "        sz = y[test_index][(y_pred[test_index] >= bin)].shape[0]\n",
        "        revenue = np.sum(y[test_index][(y_pred[test_index] >= bin)] * np.random.uniform(0, 20, sz))\n",
        "        calls_counts[-1] += calls_count\n",
        "\n",
        "        revenues.append(revenue)\n",
        "        salaries.append(calls_count)\n",
        "\n",
        "    pltx += [bin]\n",
        "    plty += [np.mean(revenues) - np.mean(salaries)]\n",
        "    dy += [np.std(revenues)]\n",
        "    \n",
        "print(calls_counts)\n",
        "plt.errorbar(pltx, plty, dy)\n",
        "plt.xscale('linear')\n",
        "plt.show()"
      ]
    },
    {
      "cell_type": "markdown",
      "metadata": {
        "id": "fLL7uqb2P75m"
      },
      "source": [
        "Постройте график зависимости прибыли от порога бинаризации, также отметьте на нем стандартные отклонения. Выделите наилучший порог. \n",
        "\n",
        "\n",
        "__Вопрос:__ Замечаете ли вы какую-то закономерность? Для правильного ответа на этот вопрос попробуйте запустить несколько раз и задумайтесь, почему порог получается в какой-то конкретной области?"
      ]
    },
    {
      "cell_type": "markdown",
      "source": [
        "около 0.15 оптимальный порог."
      ],
      "metadata": {
        "id": "FuqUW42xRBPA"
      }
    },
    {
      "cell_type": "markdown",
      "metadata": {
        "id": "i7Ksl7b9P75m"
      },
      "source": [
        "Каковы значения precision и recall на выбранном пороге? Оцените по кросс-валидации. Также вычислите стандартное отклонение."
      ]
    },
    {
      "cell_type": "code",
      "source": [
        "from tqdm.notebook import tqdm"
      ],
      "metadata": {
        "id": "oI3rY3l7PeVz"
      },
      "execution_count": 113,
      "outputs": []
    },
    {
      "cell_type": "code",
      "source": [
        "#your code here\n",
        "opt_bin = 0.15\n",
        "\n",
        "y_pred = np.zeros(y.shape[0])\n",
        "model = LogisticRegression()\n",
        "precisions = []\n",
        "recalls = []\n",
        "for train_index, test_index in fold.split(Xtr):\n",
        "    now_X_train = pd.DataFrame(Xtr).loc[train_index]\n",
        "    now_y_train = pd.DataFrame(y).loc[train_index]\n",
        "    now_X_test = pd.DataFrame(Xtr).loc[test_index]\n",
        "    now_y_test = pd.DataFrame(y).loc[test_index]\n",
        "\n",
        "    model.fit(now_X_train, now_y_train)\n",
        "    y_pred = model.predict_proba(now_X_test)[:, 1]\n",
        "\n",
        "    y_pred[y_pred >= opt_bin] = 1\n",
        "    y_pred[y_pred < opt_bin] = 0\n",
        "    \n",
        "    precision = precision_score(now_y_test, y_pred.astype(np.bool))\n",
        "    recall = recall_score(now_y_test, y_pred.astype(np.bool))\n",
        "    \n",
        "    precisions += [precision]\n",
        "    recalls += [recall]\n",
        "\n",
        "\n",
        "print(np.mean(precisions), np.std(precisions))\n",
        "print(np.mean(recalls), np.std(recalls))"
      ],
      "metadata": {
        "colab": {
          "base_uri": "https://localhost:8080/"
        },
        "id": "UImNNGxqRDJT",
        "outputId": "90ee0999-bf4e-454b-fd9d-9feb25797516"
      },
      "execution_count": 116,
      "outputs": [
        {
          "output_type": "stream",
          "name": "stdout",
          "text": [
            "0.39255401433113335 0.02205888431056616\n",
            "0.6031828742090312 0.0243942548238071\n"
          ]
        }
      ]
    },
    {
      "cell_type": "markdown",
      "metadata": {
        "id": "H4xmz6caP75n"
      },
      "source": [
        "Можно пронаблюдать, что наша модель склоняется к более высокому recall. Попробуйте оценить качество модели с помощью `PR-AUC` в зоне recall $\\geq$ 0.5. Сделайте это следующим образом:\n",
        "- выберите только те пороги, на которых достигается необходимый recall,\n",
        "- затем интерпретируйте отсеченный в единичном квадрате прямоугольник как новый единичный квадрат,\n",
        "- посчитайте площадь под отсеченной кривой"
      ]
    },
    {
      "cell_type": "code",
      "execution_count": 117,
      "metadata": {
        "id": "lbYWnxfgP75n",
        "colab": {
          "base_uri": "https://localhost:8080/",
          "height": 513,
          "referenced_widgets": [
            "a6e9473b481b4f35b08d250051d65b61",
            "0c89c1a32d23470db55afa9ae870d8fc",
            "5b9209ca53af471997a71609efcd19c2",
            "c0e8f87ce8a74fcd9c673e08ad96e4d4",
            "ac759a0fd44c491b9ef0f235d17eb1d9",
            "5abd164b98c545ee9b3f150151d9130a",
            "a5124b19876d425b944bcaf5562be1f7",
            "14e0616f30214779ac030f5235a2f834",
            "13b15c57d1b24b61976b98b21030d73e",
            "4939a0c70172485cb9dd3ca74e310930",
            "659b6f47a40c4d2382ed70a481159386"
          ]
        },
        "outputId": "d792e150-7de0-4069-a6b1-adccdc9600ee"
      },
      "outputs": [
        {
          "output_type": "display_data",
          "data": {
            "text/plain": [
              "  0%|          | 0/26 [00:00<?, ?it/s]"
            ],
            "application/vnd.jupyter.widget-view+json": {
              "version_major": 2,
              "version_minor": 0,
              "model_id": "a6e9473b481b4f35b08d250051d65b61"
            }
          },
          "metadata": {}
        },
        {
          "output_type": "stream",
          "name": "stdout",
          "text": [
            "Precision 0.11265402119882388 Recall 1.0\n",
            "Precision 0.11270302409335509 Recall 1.0\n",
            "Precision 0.11345498718332 Recall 0.9967600426471298\n",
            "Precision 0.12023767035657895 Recall 0.9710794923482815\n",
            "Precision 0.13914718282992805 Recall 0.9205019915754914\n",
            "Precision 0.16353734560610092 Recall 0.8604587085827469\n",
            "Precision 0.194725006305635 Recall 0.7988345500713828\n",
            "Precision 0.23044920538029076 Recall 0.740783435078618\n",
            "Precision 0.2640060198524463 Recall 0.7031735145002987\n",
            "Precision 0.2935881799313308 Recall 0.679057866074081\n",
            "Precision 0.316037020498576 Recall 0.6587338534787937\n",
            "Precision 0.33611628049205927 Recall 0.6440472902776133\n",
            "Precision 0.3544560296322999 Recall 0.6290774116315601\n",
            "Precision 0.3716975776047064 Recall 0.6166804316526178\n",
            "Precision 0.38367259970282996 Recall 0.6090211840123072\n",
            "Precision 0.39255401433113335 Recall 0.6031828742090312\n",
            "Precision 0.3999758003619222 Recall 0.5984350162359394\n",
            "Precision 0.40742970300972675 Recall 0.5927066721716976\n",
            "Precision 0.4130465219911148 Recall 0.5840796123433122\n",
            "Precision 0.42064141674009486 Recall 0.5741621266298742\n",
            "Precision 0.42955336320428666 Recall 0.5641052906054681\n",
            "Precision 0.43684826814148864 Recall 0.5512886459507361\n",
            "Precision 0.4452948437895575 Recall 0.5375035484279181\n",
            "Precision 0.4541238910547857 Recall 0.5246453414638999\n",
            "Precision 0.4617392287920383 Recall 0.5107665986823283\n",
            "Precision 0.4665953636461972 Recall 0.49470440397177284\n"
          ]
        }
      ],
      "source": [
        "#your code here\n",
        "prs = []\n",
        "recs = []\n",
        "\n",
        "for bin in tqdm(np.arange(0, 0.26, 0.01)):\n",
        "    y_pred = np.zeros(y.shape[0])\n",
        "    model = LogisticRegression()\n",
        "    precisions = []\n",
        "    recalls = []\n",
        "    for train_index, test_index in fold.split(Xtr):\n",
        "        now_X_train, now_y_train = pd.DataFrame(Xtr).loc[train_index],  pd.DataFrame(y).loc[train_index]\n",
        "        now_X_test, now_y_test = pd.DataFrame(Xtr).loc[test_index],  pd.DataFrame(y).loc[test_index]\n",
        "        model.fit(now_X_train, now_y_train)\n",
        "        y_pred = model.predict_proba(now_X_test)[:, 1]\n",
        "\n",
        "        y_pred[y_pred >= bin] = 1\n",
        "        y_pred[y_pred < bin] = 0\n",
        "\n",
        "        precision = precision_score(now_y_test, y_pred.astype(np.bool))\n",
        "        recall = recall_score(now_y_test, y_pred.astype(np.bool))\n",
        "\n",
        "        precisions += [precision]\n",
        "        recalls += [recall]\n",
        "\n",
        "    precision = np.mean(precisions)\n",
        "    recall = np.mean(recalls)\n",
        "    print(\"Precision\", precision, \"Recall\", recall)\n",
        "    \n",
        "    prs += [precision]\n",
        "    recs += [recall]\n"
      ]
    },
    {
      "cell_type": "code",
      "source": [
        "plt.plot(recs, prs)\n",
        "print(\"До\", auc(recs, prs))"
      ],
      "metadata": {
        "colab": {
          "base_uri": "https://localhost:8080/",
          "height": 283
        },
        "id": "pKnJqqwwRQuC",
        "outputId": "c3bf7ab7-11e2-4434-faf8-9a5e104a54f4"
      },
      "execution_count": 118,
      "outputs": [
        {
          "output_type": "stream",
          "name": "stdout",
          "text": [
            "До 0.13159577875929346\n"
          ]
        },
        {
          "output_type": "display_data",
          "data": {
            "text/plain": [
              "<Figure size 432x288 with 1 Axes>"
            ],
            "image/png": "[encoded data removed]"
          },
          "metadata": {
            "needs_background": "light"
          }
        }
      ]
    },
    {
      "cell_type": "code",
      "source": [
        "cp_prs = np.array(prs)\n",
        "cp_recs = np.array(recs)\n",
        "cp_prs = (cp_prs - np.min(cp_prs)) / (np.max(cp_prs) - np.min(cp_prs))\n",
        "cp_recs = (cp_recs - np.min(cp_recs)) / (np.max(cp_recs) - np.min(cp_recs))\n",
        "print(\"После\", auc(cp_recs, cp_prs))\n",
        "plt.plot(cp_recs, cp_prs)"
      ],
      "metadata": {
        "colab": {
          "base_uri": "https://localhost:8080/",
          "height": 301
        },
        "id": "cYmD-Z5mRVp2",
        "outputId": "bc6f0e38-bf13-45a4-ab00-df97a43ce629"
      },
      "execution_count": 119,
      "outputs": [
        {
          "output_type": "stream",
          "name": "stdout",
          "text": [
            "После 0.41752465715220094\n"
          ]
        },
        {
          "output_type": "execute_result",
          "data": {
            "text/plain": [
              "[<matplotlib.lines.Line2D at 0x7fc76d8f0b10>]"
            ]
          },
          "metadata": {},
          "execution_count": 119
        },
        {
          "output_type": "display_data",
          "data": {
            "text/plain": [
              "<Figure size 432x288 with 1 Axes>"
            ],
            "image/png": "[encoded data removed]"
          },
          "metadata": {
            "needs_background": "light"
          }
        }
      ]
    },
    {
      "cell_type": "markdown",
      "metadata": {
        "id": "ACYk14eyP75n"
      },
      "source": [
        "__Бонус (0.01 балла):__ что вы кушали в день сдачи данного ДЗ на завтрак?\n",
        "\n",
        "__Ответ:__ борщик с капусткой."
      ]
    },
    {
      "cell_type": "code",
      "source": [],
      "metadata": {
        "id": "Tq6LuAONSEZ-"
      },
      "execution_count": null,
      "outputs": []
    }
  ],
  "metadata": {
    "colab": {
      "collapsed_sections": [
        "eMwMhTpA1MwR"
      ],
      "provenance": []
    },
    "kernelspec": {
      "display_name": "Python 3",
      "language": "python",
      "name": "python3"
    },
    "language_info": {
      "codemirror_mode": {
        "name": "ipython",
        "version": 3
      },
      "file_extension": ".py",
      "mimetype": "text/x-python",
      "name": "python",
      "nbconvert_exporter": "python",
      "pygments_lexer": "ipython3",
      "version": "3.8.5"
    },
    "widgets": {
      "application/vnd.jupyter.widget-state+json": {
        "2421a5ae89d943b5b27645f55d803fa9": {
          "model_module": "@jupyter-widgets/controls",
          "model_name": "HBoxModel",
          "model_module_version": "1.5.0",
          "state": {
            "_dom_classes": [],
            "_model_module": "@jupyter-widgets/controls",
            "_model_module_version": "1.5.0",
            "_model_name": "HBoxModel",
            "_view_count": null,
            "_view_module": "@jupyter-widgets/controls",
            "_view_module_version": "1.5.0",
            "_view_name": "HBoxView",
            "box_style": "",
            "children": [
              "IPY_MODEL_9d87187b7af8405ba965b9c6335278fc",
              "IPY_MODEL_0e781eceab0c4d6a84730b639d12df44",
              "IPY_MODEL_fc582f816e834451a8e840ca6729c847"
            ],
            "layout": "IPY_MODEL_3498722a236449a5a9a369258b26b9bc"
          }
        },
        "9d87187b7af8405ba965b9c6335278fc": {
          "model_module": "@jupyter-widgets/controls",
          "model_name": "HTMLModel",
          "model_module_version": "1.5.0",
          "state": {
            "_dom_classes": [],
            "_model_module": "@jupyter-widgets/controls",
            "_model_module_version": "1.5.0",
            "_model_name": "HTMLModel",
            "_view_count": null,
            "_view_module": "@jupyter-widgets/controls",
            "_view_module_version": "1.5.0",
            "_view_name": "HTMLView",
            "description": "",
            "description_tooltip": null,
            "layout": "IPY_MODEL_7da8ab1bbd794b2182e0f3125aa78292",
            "placeholder": "​",
            "style": "IPY_MODEL_7d66ae0cf33241358c3619eb9e822923",
            "value": "100%"
          }
        },
        "0e781eceab0c4d6a84730b639d12df44": {
          "model_module": "@jupyter-widgets/controls",
          "model_name": "FloatProgressModel",
          "model_module_version": "1.5.0",
          "state": {
            "_dom_classes": [],
            "_model_module": "@jupyter-widgets/controls",
            "_model_module_version": "1.5.0",
            "_model_name": "FloatProgressModel",
            "_view_count": null,
            "_view_module": "@jupyter-widgets/controls",
            "_view_module_version": "1.5.0",
            "_view_name": "ProgressView",
            "bar_style": "success",
            "description": "",
            "description_tooltip": null,
            "layout": "IPY_MODEL_905e57c51c6548a88f0567da099971d7",
            "max": 7,
            "min": 0,
            "orientation": "horizontal",
            "style": "IPY_MODEL_ae94c07d0baf411984a2a1a7b761d9d8",
            "value": 7
          }
        },
        "fc582f816e834451a8e840ca6729c847": {
          "model_module": "@jupyter-widgets/controls",
          "model_name": "HTMLModel",
          "model_module_version": "1.5.0",
          "state": {
            "_dom_classes": [],
            "_model_module": "@jupyter-widgets/controls",
            "_model_module_version": "1.5.0",
            "_model_name": "HTMLModel",
            "_view_count": null,
            "_view_module": "@jupyter-widgets/controls",
            "_view_module_version": "1.5.0",
            "_view_name": "HTMLView",
            "description": "",
            "description_tooltip": null,
            "layout": "IPY_MODEL_a122bda5382744438c7968e628ff6446",
            "placeholder": "​",
            "style": "IPY_MODEL_e97a76fcda594cc9bac08afc1aa9ad62",
            "value": " 7/7 [00:17&lt;00:00,  4.17s/it]"
          }
        },
        "3498722a236449a5a9a369258b26b9bc": {
          "model_module": "@jupyter-widgets/base",
          "model_name": "LayoutModel",
          "model_module_version": "1.2.0",
          "state": {
            "_model_module": "@jupyter-widgets/base",
            "_model_module_version": "1.2.0",
            "_model_name": "LayoutModel",
            "_view_count": null,
            "_view_module": "@jupyter-widgets/base",
            "_view_module_version": "1.2.0",
            "_view_name": "LayoutView",
            "align_content": null,
            "align_items": null,
            "align_self": null,
            "border": null,
            "bottom": null,
            "display": null,
            "flex": null,
            "flex_flow": null,
            "grid_area": null,
            "grid_auto_columns": null,
            "grid_auto_flow": null,
            "grid_auto_rows": null,
            "grid_column": null,
            "grid_gap": null,
            "grid_row": null,
            "grid_template_areas": null,
            "grid_template_columns": null,
            "grid_template_rows": null,
            "height": null,
            "justify_content": null,
            "justify_items": null,
            "left": null,
            "margin": null,
            "max_height": null,
            "max_width": null,
            "min_height": null,
            "min_width": null,
            "object_fit": null,
            "object_position": null,
            "order": null,
            "overflow": null,
            "overflow_x": null,
            "overflow_y": null,
            "padding": null,
            "right": null,
            "top": null,
            "visibility": null,
            "width": null
          }
        },
        "7da8ab1bbd794b2182e0f3125aa78292": {
          "model_module": "@jupyter-widgets/base",
          "model_name": "LayoutModel",
          "model_module_version": "1.2.0",
          "state": {
            "_model_module": "@jupyter-widgets/base",
            "_model_module_version": "1.2.0",
            "_model_name": "LayoutModel",
            "_view_count": null,
            "_view_module": "@jupyter-widgets/base",
            "_view_module_version": "1.2.0",
            "_view_name": "LayoutView",
            "align_content": null,
            "align_items": null,
            "align_self": null,
            "border": null,
            "bottom": null,
            "display": null,
            "flex": null,
            "flex_flow": null,
            "grid_area": null,
            "grid_auto_columns": null,
            "grid_auto_flow": null,
            "grid_auto_rows": null,
            "grid_column": null,
            "grid_gap": null,
            "grid_row": null,
            "grid_template_areas": null,
            "grid_template_columns": null,
            "grid_template_rows": null,
            "height": null,
            "justify_content": null,
            "justify_items": null,
            "left": null,
            "margin": null,
            "max_height": null,
            "max_width": null,
            "min_height": null,
            "min_width": null,
            "object_fit": null,
            "object_position": null,
            "order": null,
            "overflow": null,
            "overflow_x": null,
            "overflow_y": null,
            "padding": null,
            "right": null,
            "top": null,
            "visibility": null,
            "width": null
          }
        },
        "7d66ae0cf33241358c3619eb9e822923": {
          "model_module": "@jupyter-widgets/controls",
          "model_name": "DescriptionStyleModel",
          "model_module_version": "1.5.0",
          "state": {
            "_model_module": "@jupyter-widgets/controls",
            "_model_module_version": "1.5.0",
            "_model_name": "DescriptionStyleModel",
            "_view_count": null,
            "_view_module": "@jupyter-widgets/base",
            "_view_module_version": "1.2.0",
            "_view_name": "StyleView",
            "description_width": ""
          }
        },
        "905e57c51c6548a88f0567da099971d7": {
          "model_module": "@jupyter-widgets/base",
          "model_name": "LayoutModel",
          "model_module_version": "1.2.0",
          "state": {
            "_model_module": "@jupyter-widgets/base",
            "_model_module_version": "1.2.0",
            "_model_name": "LayoutModel",
            "_view_count": null,
            "_view_module": "@jupyter-widgets/base",
            "_view_module_version": "1.2.0",
            "_view_name": "LayoutView",
            "align_content": null,
            "align_items": null,
            "align_self": null,
            "border": null,
            "bottom": null,
            "display": null,
            "flex": null,
            "flex_flow": null,
            "grid_area": null,
            "grid_auto_columns": null,
            "grid_auto_flow": null,
            "grid_auto_rows": null,
            "grid_column": null,
            "grid_gap": null,
            "grid_row": null,
            "grid_template_areas": null,
            "grid_template_columns": null,
            "grid_template_rows": null,
            "height": null,
            "justify_content": null,
            "justify_items": null,
            "left": null,
            "margin": null,
            "max_height": null,
            "max_width": null,
            "min_height": null,
            "min_width": null,
            "object_fit": null,
            "object_position": null,
            "order": null,
            "overflow": null,
            "overflow_x": null,
            "overflow_y": null,
            "padding": null,
            "right": null,
            "top": null,
            "visibility": null,
            "width": null
          }
        },
        "ae94c07d0baf411984a2a1a7b761d9d8": {
          "model_module": "@jupyter-widgets/controls",
          "model_name": "ProgressStyleModel",
          "model_module_version": "1.5.0",
          "state": {
            "_model_module": "@jupyter-widgets/controls",
            "_model_module_version": "1.5.0",
            "_model_name": "ProgressStyleModel",
            "_view_count": null,
            "_view_module": "@jupyter-widgets/base",
            "_view_module_version": "1.2.0",
            "_view_name": "StyleView",
            "bar_color": null,
            "description_width": ""
          }
        },
        "a122bda5382744438c7968e628ff6446": {
          "model_module": "@jupyter-widgets/base",
          "model_name": "LayoutModel",
          "model_module_version": "1.2.0",
          "state": {
            "_model_module": "@jupyter-widgets/base",
            "_model_module_version": "1.2.0",
            "_model_name": "LayoutModel",
            "_view_count": null,
            "_view_module": "@jupyter-widgets/base",
            "_view_module_version": "1.2.0",
            "_view_name": "LayoutView",
            "align_content": null,
            "align_items": null,
            "align_self": null,
            "border": null,
            "bottom": null,
            "display": null,
            "flex": null,
            "flex_flow": null,
            "grid_area": null,
            "grid_auto_columns": null,
            "grid_auto_flow": null,
            "grid_auto_rows": null,
            "grid_column": null,
            "grid_gap": null,
            "grid_row": null,
            "grid_template_areas": null,
            "grid_template_columns": null,
            "grid_template_rows": null,
            "height": null,
            "justify_content": null,
            "justify_items": null,
            "left": null,
            "margin": null,
            "max_height": null,
            "max_width": null,
            "min_height": null,
            "min_width": null,
            "object_fit": null,
            "object_position": null,
            "order": null,
            "overflow": null,
            "overflow_x": null,
            "overflow_y": null,
            "padding": null,
            "right": null,
            "top": null,
            "visibility": null,
            "width": null
          }
        },
        "e97a76fcda594cc9bac08afc1aa9ad62": {
          "model_module": "@jupyter-widgets/controls",
          "model_name": "DescriptionStyleModel",
          "model_module_version": "1.5.0",
          "state": {
            "_model_module": "@jupyter-widgets/controls",
            "_model_module_version": "1.5.0",
            "_model_name": "DescriptionStyleModel",
            "_view_count": null,
            "_view_module": "@jupyter-widgets/base",
            "_view_module_version": "1.2.0",
            "_view_name": "StyleView",
            "description_width": ""
          }
        },
        "246c57a5cb0442beb5e7c4a81c90f77d": {
          "model_module": "@jupyter-widgets/controls",
          "model_name": "HBoxModel",
          "model_module_version": "1.5.0",
          "state": {
            "_dom_classes": [],
            "_model_module": "@jupyter-widgets/controls",
            "_model_module_version": "1.5.0",
            "_model_name": "HBoxModel",
            "_view_count": null,
            "_view_module": "@jupyter-widgets/controls",
            "_view_module_version": "1.5.0",
            "_view_name": "HBoxView",
            "box_style": "",
            "children": [
              "IPY_MODEL_33fda6890ada47e3b367c1b3e996abbd",
              "IPY_MODEL_2e30f91e21b441ffb60f8e61c60db185",
              "IPY_MODEL_d51ac23b1a1c4355ac2d5db95d4bf8c6"
            ],
            "layout": "IPY_MODEL_d03128906e3f46ca90bec6fefb56754b"
          }
        },
        "33fda6890ada47e3b367c1b3e996abbd": {
          "model_module": "@jupyter-widgets/controls",
          "model_name": "HTMLModel",
          "model_module_version": "1.5.0",
          "state": {
            "_dom_classes": [],
            "_model_module": "@jupyter-widgets/controls",
            "_model_module_version": "1.5.0",
            "_model_name": "HTMLModel",
            "_view_count": null,
            "_view_module": "@jupyter-widgets/controls",
            "_view_module_version": "1.5.0",
            "_view_name": "HTMLView",
            "description": "",
            "description_tooltip": null,
            "layout": "IPY_MODEL_4079b7a805a842ec96c6ff451ab2f0b4",
            "placeholder": "​",
            "style": "IPY_MODEL_acded495108445ffb5522ab80012d765",
            "value": "100%"
          }
        },
        "2e30f91e21b441ffb60f8e61c60db185": {
          "model_module": "@jupyter-widgets/controls",
          "model_name": "FloatProgressModel",
          "model_module_version": "1.5.0",
          "state": {
            "_dom_classes": [],
            "_model_module": "@jupyter-widgets/controls",
            "_model_module_version": "1.5.0",
            "_model_name": "FloatProgressModel",
            "_view_count": null,
            "_view_module": "@jupyter-widgets/controls",
            "_view_module_version": "1.5.0",
            "_view_name": "ProgressView",
            "bar_style": "success",
            "description": "",
            "description_tooltip": null,
            "layout": "IPY_MODEL_14e30197522444b399fc84c3425b3e8d",
            "max": 7,
            "min": 0,
            "orientation": "horizontal",
            "style": "IPY_MODEL_448f7d44aee04dc995a729c67c429516",
            "value": 7
          }
        },
        "d51ac23b1a1c4355ac2d5db95d4bf8c6": {
          "model_module": "@jupyter-widgets/controls",
          "model_name": "HTMLModel",
          "model_module_version": "1.5.0",
          "state": {
            "_dom_classes": [],
            "_model_module": "@jupyter-widgets/controls",
            "_model_module_version": "1.5.0",
            "_model_name": "HTMLModel",
            "_view_count": null,
            "_view_module": "@jupyter-widgets/controls",
            "_view_module_version": "1.5.0",
            "_view_name": "HTMLView",
            "description": "",
            "description_tooltip": null,
            "layout": "IPY_MODEL_eac8f0785a15476fb3f2910eb0239075",
            "placeholder": "​",
            "style": "IPY_MODEL_e973a9bc08c24b50a196ac39a399892b",
            "value": " 7/7 [00:00&lt;00:00, 31.44it/s]"
          }
        },
        "d03128906e3f46ca90bec6fefb56754b": {
          "model_module": "@jupyter-widgets/base",
          "model_name": "LayoutModel",
          "model_module_version": "1.2.0",
          "state": {
            "_model_module": "@jupyter-widgets/base",
            "_model_module_version": "1.2.0",
            "_model_name": "LayoutModel",
            "_view_count": null,
            "_view_module": "@jupyter-widgets/base",
            "_view_module_version": "1.2.0",
            "_view_name": "LayoutView",
            "align_content": null,
            "align_items": null,
            "align_self": null,
            "border": null,
            "bottom": null,
            "display": null,
            "flex": null,
            "flex_flow": null,
            "grid_area": null,
            "grid_auto_columns": null,
            "grid_auto_flow": null,
            "grid_auto_rows": null,
            "grid_column": null,
            "grid_gap": null,
            "grid_row": null,
            "grid_template_areas": null,
            "grid_template_columns": null,
            "grid_template_rows": null,
            "height": null,
            "justify_content": null,
            "justify_items": null,
            "left": null,
            "margin": null,
            "max_height": null,
            "max_width": null,
            "min_height": null,
            "min_width": null,
            "object_fit": null,
            "object_position": null,
            "order": null,
            "overflow": null,
            "overflow_x": null,
            "overflow_y": null,
            "padding": null,
            "right": null,
            "top": null,
            "visibility": null,
            "width": null
          }
        },
        "4079b7a805a842ec96c6ff451ab2f0b4": {
          "model_module": "@jupyter-widgets/base",
          "model_name": "LayoutModel",
          "model_module_version": "1.2.0",
          "state": {
            "_model_module": "@jupyter-widgets/base",
            "_model_module_version": "1.2.0",
            "_model_name": "LayoutModel",
            "_view_count": null,
            "_view_module": "@jupyter-widgets/base",
            "_view_module_version": "1.2.0",
            "_view_name": "LayoutView",
            "align_content": null,
            "align_items": null,
            "align_self": null,
            "border": null,
            "bottom": null,
            "display": null,
            "flex": null,
            "flex_flow": null,
            "grid_area": null,
            "grid_auto_columns": null,
            "grid_auto_flow": null,
            "grid_auto_rows": null,
            "grid_column": null,
            "grid_gap": null,
            "grid_row": null,
            "grid_template_areas": null,
            "grid_template_columns": null,
            "grid_template_rows": null,
            "height": null,
            "justify_content": null,
            "justify_items": null,
            "left": null,
            "margin": null,
            "max_height": null,
            "max_width": null,
            "min_height": null,
            "min_width": null,
            "object_fit": null,
            "object_position": null,
            "order": null,
            "overflow": null,
            "overflow_x": null,
            "overflow_y": null,
            "padding": null,
            "right": null,
            "top": null,
            "visibility": null,
            "width": null
          }
        },
        "acded495108445ffb5522ab80012d765": {
          "model_module": "@jupyter-widgets/controls",
          "model_name": "DescriptionStyleModel",
          "model_module_version": "1.5.0",
          "state": {
            "_model_module": "@jupyter-widgets/controls",
            "_model_module_version": "1.5.0",
            "_model_name": "DescriptionStyleModel",
            "_view_count": null,
            "_view_module": "@jupyter-widgets/base",
            "_view_module_version": "1.2.0",
            "_view_name": "StyleView",
            "description_width": ""
          }
        },
        "14e30197522444b399fc84c3425b3e8d": {
          "model_module": "@jupyter-widgets/base",
          "model_name": "LayoutModel",
          "model_module_version": "1.2.0",
          "state": {
            "_model_module": "@jupyter-widgets/base",
            "_model_module_version": "1.2.0",
            "_model_name": "LayoutModel",
            "_view_count": null,
            "_view_module": "@jupyter-widgets/base",
            "_view_module_version": "1.2.0",
            "_view_name": "LayoutView",
            "align_content": null,
            "align_items": null,
            "align_self": null,
            "border": null,
            "bottom": null,
            "display": null,
            "flex": null,
            "flex_flow": null,
            "grid_area": null,
            "grid_auto_columns": null,
            "grid_auto_flow": null,
            "grid_auto_rows": null,
            "grid_column": null,
            "grid_gap": null,
            "grid_row": null,
            "grid_template_areas": null,
            "grid_template_columns": null,
            "grid_template_rows": null,
            "height": null,
            "justify_content": null,
            "justify_items": null,
            "left": null,
            "margin": null,
            "max_height": null,
            "max_width": null,
            "min_height": null,
            "min_width": null,
            "object_fit": null,
            "object_position": null,
            "order": null,
            "overflow": null,
            "overflow_x": null,
            "overflow_y": null,
            "padding": null,
            "right": null,
            "top": null,
            "visibility": null,
            "width": null
          }
        },
        "448f7d44aee04dc995a729c67c429516": {
          "model_module": "@jupyter-widgets/controls",
          "model_name": "ProgressStyleModel",
          "model_module_version": "1.5.0",
          "state": {
            "_model_module": "@jupyter-widgets/controls",
            "_model_module_version": "1.5.0",
            "_model_name": "ProgressStyleModel",
            "_view_count": null,
            "_view_module": "@jupyter-widgets/base",
            "_view_module_version": "1.2.0",
            "_view_name": "StyleView",
            "bar_color": null,
            "description_width": ""
          }
        },
        "eac8f0785a15476fb3f2910eb0239075": {
          "model_module": "@jupyter-widgets/base",
          "model_name": "LayoutModel",
          "model_module_version": "1.2.0",
          "state": {
            "_model_module": "@jupyter-widgets/base",
            "_model_module_version": "1.2.0",
            "_model_name": "LayoutModel",
            "_view_count": null,
            "_view_module": "@jupyter-widgets/base",
            "_view_module_version": "1.2.0",
            "_view_name": "LayoutView",
            "align_content": null,
            "align_items": null,
            "align_self": null,
            "border": null,
            "bottom": null,
            "display": null,
            "flex": null,
            "flex_flow": null,
            "grid_area": null,
            "grid_auto_columns": null,
            "grid_auto_flow": null,
            "grid_auto_rows": null,
            "grid_column": null,
            "grid_gap": null,
            "grid_row": null,
            "grid_template_areas": null,
            "grid_template_columns": null,
            "grid_template_rows": null,
            "height": null,
            "justify_content": null,
            "justify_items": null,
            "left": null,
            "margin": null,
            "max_height": null,
            "max_width": null,
            "min_height": null,
            "min_width": null,
            "object_fit": null,
            "object_position": null,
            "order": null,
            "overflow": null,
            "overflow_x": null,
            "overflow_y": null,
            "padding": null,
            "right": null,
            "top": null,
            "visibility": null,
            "width": null
          }
        },
        "e973a9bc08c24b50a196ac39a399892b": {
          "model_module": "@jupyter-widgets/controls",
          "model_name": "DescriptionStyleModel",
          "model_module_version": "1.5.0",
          "state": {
            "_model_module": "@jupyter-widgets/controls",
            "_model_module_version": "1.5.0",
            "_model_name": "DescriptionStyleModel",
            "_view_count": null,
            "_view_module": "@jupyter-widgets/base",
            "_view_module_version": "1.2.0",
            "_view_name": "StyleView",
            "description_width": ""
          }
        },
        "a6e9473b481b4f35b08d250051d65b61": {
          "model_module": "@jupyter-widgets/controls",
          "model_name": "HBoxModel",
          "model_module_version": "1.5.0",
          "state": {
            "_dom_classes": [],
            "_model_module": "@jupyter-widgets/controls",
            "_model_module_version": "1.5.0",
            "_model_name": "HBoxModel",
            "_view_count": null,
            "_view_module": "@jupyter-widgets/controls",
            "_view_module_version": "1.5.0",
            "_view_name": "HBoxView",
            "box_style": "",
            "children": [
              "IPY_MODEL_0c89c1a32d23470db55afa9ae870d8fc",
              "IPY_MODEL_5b9209ca53af471997a71609efcd19c2",
              "IPY_MODEL_c0e8f87ce8a74fcd9c673e08ad96e4d4"
            ],
            "layout": "IPY_MODEL_ac759a0fd44c491b9ef0f235d17eb1d9"
          }
        },
        "0c89c1a32d23470db55afa9ae870d8fc": {
          "model_module": "@jupyter-widgets/controls",
          "model_name": "HTMLModel",
          "model_module_version": "1.5.0",
          "state": {
            "_dom_classes": [],
            "_model_module": "@jupyter-widgets/controls",
            "_model_module_version": "1.5.0",
            "_model_name": "HTMLModel",
            "_view_count": null,
            "_view_module": "@jupyter-widgets/controls",
            "_view_module_version": "1.5.0",
            "_view_name": "HTMLView",
            "description": "",
            "description_tooltip": null,
            "layout": "IPY_MODEL_5abd164b98c545ee9b3f150151d9130a",
            "placeholder": "​",
            "style": "IPY_MODEL_a5124b19876d425b944bcaf5562be1f7",
            "value": "100%"
          }
        },
        "5b9209ca53af471997a71609efcd19c2": {
          "model_module": "@jupyter-widgets/controls",
          "model_name": "FloatProgressModel",
          "model_module_version": "1.5.0",
          "state": {
            "_dom_classes": [],
            "_model_module": "@jupyter-widgets/controls",
            "_model_module_version": "1.5.0",
            "_model_name": "FloatProgressModel",
            "_view_count": null,
            "_view_module": "@jupyter-widgets/controls",
            "_view_module_version": "1.5.0",
            "_view_name": "ProgressView",
            "bar_style": "success",
            "description": "",
            "description_tooltip": null,
            "layout": "IPY_MODEL_14e0616f30214779ac030f5235a2f834",
            "max": 26,
            "min": 0,
            "orientation": "horizontal",
            "style": "IPY_MODEL_13b15c57d1b24b61976b98b21030d73e",
            "value": 26
          }
        },
        "c0e8f87ce8a74fcd9c673e08ad96e4d4": {
          "model_module": "@jupyter-widgets/controls",
          "model_name": "HTMLModel",
          "model_module_version": "1.5.0",
          "state": {
            "_dom_classes": [],
            "_model_module": "@jupyter-widgets/controls",
            "_model_module_version": "1.5.0",
            "_model_name": "HTMLModel",
            "_view_count": null,
            "_view_module": "@jupyter-widgets/controls",
            "_view_module_version": "1.5.0",
            "_view_name": "HTMLView",
            "description": "",
            "description_tooltip": null,
            "layout": "IPY_MODEL_4939a0c70172485cb9dd3ca74e310930",
            "placeholder": "​",
            "style": "IPY_MODEL_659b6f47a40c4d2382ed70a481159386",
            "value": " 26/26 [02:28&lt;00:00,  4.99s/it]"
          }
        },
        "ac759a0fd44c491b9ef0f235d17eb1d9": {
          "model_module": "@jupyter-widgets/base",
          "model_name": "LayoutModel",
          "model_module_version": "1.2.0",
          "state": {
            "_model_module": "@jupyter-widgets/base",
            "_model_module_version": "1.2.0",
            "_model_name": "LayoutModel",
            "_view_count": null,
            "_view_module": "@jupyter-widgets/base",
            "_view_module_version": "1.2.0",
            "_view_name": "LayoutView",
            "align_content": null,
            "align_items": null,
            "align_self": null,
            "border": null,
            "bottom": null,
            "display": null,
            "flex": null,
            "flex_flow": null,
            "grid_area": null,
            "grid_auto_columns": null,
            "grid_auto_flow": null,
            "grid_auto_rows": null,
            "grid_column": null,
            "grid_gap": null,
            "grid_row": null,
            "grid_template_areas": null,
            "grid_template_columns": null,
            "grid_template_rows": null,
            "height": null,
            "justify_content": null,
            "justify_items": null,
            "left": null,
            "margin": null,
            "max_height": null,
            "max_width": null,
            "min_height": null,
            "min_width": null,
            "object_fit": null,
            "object_position": null,
            "order": null,
            "overflow": null,
            "overflow_x": null,
            "overflow_y": null,
            "padding": null,
            "right": null,
            "top": null,
            "visibility": null,
            "width": null
          }
        },
        "5abd164b98c545ee9b3f150151d9130a": {
          "model_module": "@jupyter-widgets/base",
          "model_name": "LayoutModel",
          "model_module_version": "1.2.0",
          "state": {
            "_model_module": "@jupyter-widgets/base",
            "_model_module_version": "1.2.0",
            "_model_name": "LayoutModel",
            "_view_count": null,
            "_view_module": "@jupyter-widgets/base",
            "_view_module_version": "1.2.0",
            "_view_name": "LayoutView",
            "align_content": null,
            "align_items": null,
            "align_self": null,
            "border": null,
            "bottom": null,
            "display": null,
            "flex": null,
            "flex_flow": null,
            "grid_area": null,
            "grid_auto_columns": null,
            "grid_auto_flow": null,
            "grid_auto_rows": null,
            "grid_column": null,
            "grid_gap": null,
            "grid_row": null,
            "grid_template_areas": null,
            "grid_template_columns": null,
            "grid_template_rows": null,
            "height": null,
            "justify_content": null,
            "justify_items": null,
            "left": null,
            "margin": null,
            "max_height": null,
            "max_width": null,
            "min_height": null,
            "min_width": null,
            "object_fit": null,
            "object_position": null,
            "order": null,
            "overflow": null,
            "overflow_x": null,
            "overflow_y": null,
            "padding": null,
            "right": null,
            "top": null,
            "visibility": null,
            "width": null
          }
        },
        "a5124b19876d425b944bcaf5562be1f7": {
          "model_module": "@jupyter-widgets/controls",
          "model_name": "DescriptionStyleModel",
          "model_module_version": "1.5.0",
          "state": {
            "_model_module": "@jupyter-widgets/controls",
            "_model_module_version": "1.5.0",
            "_model_name": "DescriptionStyleModel",
            "_view_count": null,
            "_view_module": "@jupyter-widgets/base",
            "_view_module_version": "1.2.0",
            "_view_name": "StyleView",
            "description_width": ""
          }
        },
        "14e0616f30214779ac030f5235a2f834": {
          "model_module": "@jupyter-widgets/base",
          "model_name": "LayoutModel",
          "model_module_version": "1.2.0",
          "state": {
            "_model_module": "@jupyter-widgets/base",
            "_model_module_version": "1.2.0",
            "_model_name": "LayoutModel",
            "_view_count": null,
            "_view_module": "@jupyter-widgets/base",
            "_view_module_version": "1.2.0",
            "_view_name": "LayoutView",
            "align_content": null,
            "align_items": null,
            "align_self": null,
            "border": null,
            "bottom": null,
            "display": null,
            "flex": null,
            "flex_flow": null,
            "grid_area": null,
            "grid_auto_columns": null,
            "grid_auto_flow": null,
            "grid_auto_rows": null,
            "grid_column": null,
            "grid_gap": null,
            "grid_row": null,
            "grid_template_areas": null,
            "grid_template_columns": null,
            "grid_template_rows": null,
            "height": null,
            "justify_content": null,
            "justify_items": null,
            "left": null,
            "margin": null,
            "max_height": null,
            "max_width": null,
            "min_height": null,
            "min_width": null,
            "object_fit": null,
            "object_position": null,
            "order": null,
            "overflow": null,
            "overflow_x": null,
            "overflow_y": null,
            "padding": null,
            "right": null,
            "top": null,
            "visibility": null,
            "width": null
          }
        },
        "13b15c57d1b24b61976b98b21030d73e": {
          "model_module": "@jupyter-widgets/controls",
          "model_name": "ProgressStyleModel",
          "model_module_version": "1.5.0",
          "state": {
            "_model_module": "@jupyter-widgets/controls",
            "_model_module_version": "1.5.0",
            "_model_name": "ProgressStyleModel",
            "_view_count": null,
            "_view_module": "@jupyter-widgets/base",
            "_view_module_version": "1.2.0",
            "_view_name": "StyleView",
            "bar_color": null,
            "description_width": ""
          }
        },
        "4939a0c70172485cb9dd3ca74e310930": {
          "model_module": "@jupyter-widgets/base",
          "model_name": "LayoutModel",
          "model_module_version": "1.2.0",
          "state": {
            "_model_module": "@jupyter-widgets/base",
            "_model_module_version": "1.2.0",
            "_model_name": "LayoutModel",
            "_view_count": null,
            "_view_module": "@jupyter-widgets/base",
            "_view_module_version": "1.2.0",
            "_view_name": "LayoutView",
            "align_content": null,
            "align_items": null,
            "align_self": null,
            "border": null,
            "bottom": null,
            "display": null,
            "flex": null,
            "flex_flow": null,
            "grid_area": null,
            "grid_auto_columns": null,
            "grid_auto_flow": null,
            "grid_auto_rows": null,
            "grid_column": null,
            "grid_gap": null,
            "grid_row": null,
            "grid_template_areas": null,
            "grid_template_columns": null,
            "grid_template_rows": null,
            "height": null,
            "justify_content": null,
            "justify_items": null,
            "left": null,
            "margin": null,
            "max_height": null,
            "max_width": null,
            "min_height": null,
            "min_width": null,
            "object_fit": null,
            "object_position": null,
            "order": null,
            "overflow": null,
            "overflow_x": null,
            "overflow_y": null,
            "padding": null,
            "right": null,
            "top": null,
            "visibility": null,
            "width": null
          }
        },
        "659b6f47a40c4d2382ed70a481159386": {
          "model_module": "@jupyter-widgets/controls",
          "model_name": "DescriptionStyleModel",
          "model_module_version": "1.5.0",
          "state": {
            "_model_module": "@jupyter-widgets/controls",
            "_model_module_version": "1.5.0",
            "_model_name": "DescriptionStyleModel",
            "_view_count": null,
            "_view_module": "@jupyter-widgets/base",
            "_view_module_version": "1.2.0",
            "_view_name": "StyleView",
            "description_width": ""
          }
        }
      }
    }
  },
  "nbformat": 4,
  "nbformat_minor": 0
}